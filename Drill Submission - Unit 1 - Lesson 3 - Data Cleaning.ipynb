{
 "cells": [
  {
   "cell_type": "markdown",
   "metadata": {},
   "source": [
    "## Data Cleaning"
   ]
  },
  {
   "cell_type": "code",
   "execution_count": 2,
   "metadata": {
    "collapsed": false
   },
   "outputs": [
    {
     "data": {
      "text/html": [
       "<div>\n",
       "<table border=\"1\" class=\"dataframe\">\n",
       "  <thead>\n",
       "    <tr style=\"text-align: right;\">\n",
       "      <th></th>\n",
       "      <th>PMID/PMCID</th>\n",
       "      <th>Publisher</th>\n",
       "      <th>Journal title</th>\n",
       "      <th>Article title</th>\n",
       "      <th>COST (£) charged to Wellcome (inc VAT when charged)</th>\n",
       "    </tr>\n",
       "  </thead>\n",
       "  <tbody>\n",
       "    <tr>\n",
       "      <th>0</th>\n",
       "      <td>NaN</td>\n",
       "      <td>CUP</td>\n",
       "      <td>Psychological Medicine</td>\n",
       "      <td>Reduced parahippocampal cortical thickness in ...</td>\n",
       "      <td>£0.00</td>\n",
       "    </tr>\n",
       "    <tr>\n",
       "      <th>1</th>\n",
       "      <td>PMC3679557</td>\n",
       "      <td>ACS</td>\n",
       "      <td>Biomacromolecules</td>\n",
       "      <td>Structural characterization of a Model Gram-ne...</td>\n",
       "      <td>£2381.04</td>\n",
       "    </tr>\n",
       "    <tr>\n",
       "      <th>2</th>\n",
       "      <td>23043264  PMC3506128</td>\n",
       "      <td>ACS</td>\n",
       "      <td>J Med Chem</td>\n",
       "      <td>Fumaroylamino-4,5-epoxymorphinans and related ...</td>\n",
       "      <td>£642.56</td>\n",
       "    </tr>\n",
       "    <tr>\n",
       "      <th>3</th>\n",
       "      <td>23438330 PMC3646402</td>\n",
       "      <td>ACS</td>\n",
       "      <td>J Med Chem</td>\n",
       "      <td>Orvinols with mixed kappa/mu opioid receptor a...</td>\n",
       "      <td>£669.64</td>\n",
       "    </tr>\n",
       "    <tr>\n",
       "      <th>4</th>\n",
       "      <td>23438216 PMC3601604</td>\n",
       "      <td>ACS</td>\n",
       "      <td>J Org Chem</td>\n",
       "      <td>Regioselective opening of myo-inositol orthoes...</td>\n",
       "      <td>£685.88</td>\n",
       "    </tr>\n",
       "  </tbody>\n",
       "</table>\n",
       "</div>"
      ],
      "text/plain": [
       "              PMID/PMCID Publisher           Journal title  \\\n",
       "0                    NaN       CUP  Psychological Medicine   \n",
       "1             PMC3679557       ACS       Biomacromolecules   \n",
       "2  23043264  PMC3506128        ACS              J Med Chem   \n",
       "3    23438330 PMC3646402       ACS              J Med Chem   \n",
       "4   23438216 PMC3601604        ACS              J Org Chem   \n",
       "\n",
       "                                       Article title  \\\n",
       "0  Reduced parahippocampal cortical thickness in ...   \n",
       "1  Structural characterization of a Model Gram-ne...   \n",
       "2  Fumaroylamino-4,5-epoxymorphinans and related ...   \n",
       "3  Orvinols with mixed kappa/mu opioid receptor a...   \n",
       "4  Regioselective opening of myo-inositol orthoes...   \n",
       "\n",
       "  COST (£) charged to Wellcome (inc VAT when charged)  \n",
       "0                                              £0.00   \n",
       "1                                           £2381.04   \n",
       "2                                            £642.56   \n",
       "3                                            £669.64   \n",
       "4                                            £685.88   "
      ]
     },
     "execution_count": 2,
     "metadata": {},
     "output_type": "execute_result"
    }
   ],
   "source": [
    "import matplotlib as plt\n",
    "import pandas as pd\n",
    "import numpy as np\n",
    "import re\n",
    "import seaborn as sns\n",
    "%matplotlib inline\n",
    "\n",
    "df = pd.read_csv('C:\\\\Users\\\\beri.e.ndifon\\\\Documents\\\\Everything Else\\\\Personal\\\\Thinkful\\\\CSV Datasets\\\\WELLCOME.csv', encoding='Latin-1')\n",
    "df.head()"
   ]
  },
  {
   "cell_type": "code",
   "execution_count": 3,
   "metadata": {
    "collapsed": false
   },
   "outputs": [
    {
     "data": {
      "text/html": [
       "<div>\n",
       "<table border=\"1\" class=\"dataframe\">\n",
       "  <thead>\n",
       "    <tr style=\"text-align: right;\">\n",
       "      <th></th>\n",
       "      <th>PMID/PMCID</th>\n",
       "      <th>Publisher</th>\n",
       "      <th>Journal title</th>\n",
       "      <th>Article title</th>\n",
       "      <th>COST (£) charged to Wellcome (inc VAT when charged)</th>\n",
       "    </tr>\n",
       "  </thead>\n",
       "  <tbody>\n",
       "    <tr>\n",
       "      <th>count</th>\n",
       "      <td>1928</td>\n",
       "      <td>2127</td>\n",
       "      <td>2126</td>\n",
       "      <td>2127</td>\n",
       "      <td>2127</td>\n",
       "    </tr>\n",
       "    <tr>\n",
       "      <th>unique</th>\n",
       "      <td>1880</td>\n",
       "      <td>299</td>\n",
       "      <td>984</td>\n",
       "      <td>2126</td>\n",
       "      <td>1402</td>\n",
       "    </tr>\n",
       "    <tr>\n",
       "      <th>top</th>\n",
       "      <td>Not yet available</td>\n",
       "      <td>Elsevier</td>\n",
       "      <td>PLoS One</td>\n",
       "      <td>Exclusive breastfeeding, diarrhoel morbidity a...</td>\n",
       "      <td>£2040.00</td>\n",
       "    </tr>\n",
       "    <tr>\n",
       "      <th>freq</th>\n",
       "      <td>7</td>\n",
       "      <td>387</td>\n",
       "      <td>92</td>\n",
       "      <td>2</td>\n",
       "      <td>94</td>\n",
       "    </tr>\n",
       "  </tbody>\n",
       "</table>\n",
       "</div>"
      ],
      "text/plain": [
       "               PMID/PMCID Publisher Journal title  \\\n",
       "count                1928      2127          2126   \n",
       "unique               1880       299           984   \n",
       "top     Not yet available  Elsevier      PLoS One   \n",
       "freq                    7       387            92   \n",
       "\n",
       "                                            Article title  \\\n",
       "count                                                2127   \n",
       "unique                                               2126   \n",
       "top     Exclusive breastfeeding, diarrhoel morbidity a...   \n",
       "freq                                                    2   \n",
       "\n",
       "       COST (£) charged to Wellcome (inc VAT when charged)  \n",
       "count                                                2127   \n",
       "unique                                               1402   \n",
       "top                                              £2040.00   \n",
       "freq                                                   94   "
      ]
     },
     "execution_count": 3,
     "metadata": {},
     "output_type": "execute_result"
    }
   ],
   "source": [
    "df.describe()"
   ]
  },
  {
   "cell_type": "markdown",
   "metadata": {},
   "source": [
    "Based on count, there are 199 PMID/PMCIDs and 1 journal title missing. Because neither variable is imputable and the Readme file acknowledges that PMID/PMCIDs are only useful if I need to know whether an article is in PMC/Europe PMC (which isn't relevant to this analysis), I'm going to drop that entire column and later investigate if/why there's a discrepancy in actual/expected count for journal titles. The Readme file also acknowledges that in the absence of name authority controls, journals go by several aliases - I'm going to attempt to standardize those references as well. "
   ]
  },
  {
   "cell_type": "code",
   "execution_count": 4,
   "metadata": {
    "collapsed": false,
    "scrolled": false
   },
   "outputs": [
    {
     "name": "stderr",
     "output_type": "stream",
     "text": [
      "C:\\Users\\beri.e.ndifon\\AppData\\Local\\Continuum\\Anaconda3\\lib\\site-packages\\statsmodels\\nonparametric\\kdetools.py:20: VisibleDeprecationWarning: using a non-integer number instead of an integer will result in an error in the future\n",
      "  y = X[:m/2+1] + np.r_[0,X[m/2+1:],0]*1j\n"
     ]
    },
    {
     "data": {
      "image/png": "[encoded data removed]",
      "text/plain": [
       "<matplotlib.figure.Figure at 0x204e92f9a20>"
      ]
     },
     "metadata": {},
     "output_type": "display_data"
    }
   ],
   "source": [
    "#Drops the PMID/PMCID column.\n",
    "data = df.drop('PMID/PMCID',axis=1) \n",
    "#Renames columns for ease of reference.\n",
    "data.rename(columns={'Journal title': 'Journal', 'Article title':'Article', 'COST (£) charged to Wellcome (inc VAT when charged)':'Cost'}, inplace=True) \n",
    "#Drops any NA values  in any of the columns.\n",
    "data = data.dropna(subset=['Publisher','Journal','Article'])\n",
    "#Removes all currency symbol occurrences. \n",
    "data.Cost = data.Cost.map(lambda x: x.lstrip('£$').rstrip('£$')) \n",
    "\n",
    "#Checks data type by series. \n",
    "data.dtypes\n",
    "#Converts cost into a float: publisher, journal, and article are already strings.\n",
    "data.Cost = data.Cost.map(lambda x: float(x))\n",
    "\n",
    "#Removes all string columns leading/trailing whitespace.\n",
    "data.Publisher = data.Publisher.map(lambda x: x.strip())\n",
    "data.Journal = data.Journal.map(lambda x: x.strip())\n",
    "data.Article = data.Article.map(lambda x: x.strip())\n",
    "\n",
    "#Removes all non-alphanumeric, non-hyphen characters from all string columns.\n",
    "data.Publisher = data.Publisher.str.extract(\"([a-zA-Z0-9:\\(\\)\\+/&,\\-]*)\",expand=True)\n",
    "\n",
    "#Converts string columns to all-capital case.\n",
    "data.Publisher = data.Publisher.str.upper()\n",
    "data.Journal = data.Journal.str.upper()\n",
    "data.Article = data.Article.str.upper()\n",
    "\n",
    "#Opted to forgo this part of the data cleaning sequence, given how time-consuming it would be.\n",
    "#Wrote one instance out to illustrate how I intended to approached it.\n",
    "\n",
    "#Sorts on publisher column.\n",
    "#data.sort_values(by='Publisher',inplace=True)\n",
    "#Lists journal titles that begin with each letter - in this instance, A. \n",
    "#data.Publisher.str.startswith('A')\n",
    "#Makes replacements. \n",
    "#data.Publisher.str.replace('ACS (Amercian Chemical Society) Publications.*' , 'ACS')\n",
    "\n",
    "#Opted to forgo this part of the data cleaning sequence, given how time-consuming it would be.\n",
    "#Wrote one instance out to illustrate how I intended to approached it.\n",
    "\n",
    "#Sorts on journal title column.\n",
    "#data.sort_values(by='Journal',inplace=True)\n",
    "#Lists journal titles that begin with each letter - in this instance, J. \n",
    "#data.Journal.str.startswith('J')\n",
    "#Makes replacements. \n",
    "#data.Publisher.str.replace('Journal of Biol Chem.*' , 'Journal of Biological Chemistry')\n",
    "\n",
    "#Checks the distribution of cost to determine plausibility and identify winsorization candidates.\n",
    "sns.plt.show(sns.distplot(data.Cost))\n",
    "import warnings\n",
    "warnings.filterwarnings(\"ignore\", category=np.VisibleDeprecationWarning)\n",
    "data.sort_values(by='Cost',inplace=True)"
   ]
  },
  {
   "cell_type": "code",
   "execution_count": 5,
   "metadata": {
    "collapsed": false
   },
   "outputs": [
    {
     "data": {
      "text/html": [
       "<div>\n",
       "<table border=\"1\" class=\"dataframe\">\n",
       "  <thead>\n",
       "    <tr style=\"text-align: right;\">\n",
       "      <th></th>\n",
       "      <th>Publisher</th>\n",
       "      <th>Journal</th>\n",
       "      <th>Article</th>\n",
       "      <th>Cost</th>\n",
       "    </tr>\n",
       "  </thead>\n",
       "  <tbody>\n",
       "    <tr>\n",
       "      <th>0</th>\n",
       "      <td>CUP</td>\n",
       "      <td>PSYCHOLOGICAL MEDICINE</td>\n",
       "      <td>REDUCED PARAHIPPOCAMPAL CORTICAL THICKNESS IN ...</td>\n",
       "      <td>0.00</td>\n",
       "    </tr>\n",
       "    <tr>\n",
       "      <th>243</th>\n",
       "      <td>BIOMED</td>\n",
       "      <td>VETERINARY RESEARCH</td>\n",
       "      <td>UNDERSTANDING FOOT-AND-MOUTH DISEASE VIRUS TRA...</td>\n",
       "      <td>9.93</td>\n",
       "    </tr>\n",
       "    <tr>\n",
       "      <th>100</th>\n",
       "      <td>AMERICAN</td>\n",
       "      <td>AMERICAN SOCIETY FOR NUTRITION</td>\n",
       "      <td>THE ASSOCIATION BETWEEN BREASTFEEDING AND HIV ...</td>\n",
       "      <td>45.94</td>\n",
       "    </tr>\n",
       "    <tr>\n",
       "      <th>1469</th>\n",
       "      <td>PUBLIC</td>\n",
       "      <td>PLOS ONE</td>\n",
       "      <td>HOW  WELL ARE MALARIA MAPS USED TO DESIGN AND ...</td>\n",
       "      <td>122.31</td>\n",
       "    </tr>\n",
       "    <tr>\n",
       "      <th>1677</th>\n",
       "      <td>SCIEDU</td>\n",
       "      <td>JOURNAL OF BIOMEDICAL GRAPHICS AND COMPUTING</td>\n",
       "      <td>FUNCTIONAL MRI DEMONSTRATES PAIN PERCEPTION IN...</td>\n",
       "      <td>135.29</td>\n",
       "    </tr>\n",
       "  </tbody>\n",
       "</table>\n",
       "</div>"
      ],
      "text/plain": [
       "     Publisher                                       Journal  \\\n",
       "0          CUP                        PSYCHOLOGICAL MEDICINE   \n",
       "243     BIOMED                           VETERINARY RESEARCH   \n",
       "100   AMERICAN                AMERICAN SOCIETY FOR NUTRITION   \n",
       "1469    PUBLIC                                      PLOS ONE   \n",
       "1677    SCIEDU  JOURNAL OF BIOMEDICAL GRAPHICS AND COMPUTING   \n",
       "\n",
       "                                                Article    Cost  \n",
       "0     REDUCED PARAHIPPOCAMPAL CORTICAL THICKNESS IN ...    0.00  \n",
       "243   UNDERSTANDING FOOT-AND-MOUTH DISEASE VIRUS TRA...    9.93  \n",
       "100   THE ASSOCIATION BETWEEN BREASTFEEDING AND HIV ...   45.94  \n",
       "1469  HOW  WELL ARE MALARIA MAPS USED TO DESIGN AND ...  122.31  \n",
       "1677  FUNCTIONAL MRI DEMONSTRATES PAIN PERCEPTION IN...  135.29  "
      ]
     },
     "execution_count": 5,
     "metadata": {},
     "output_type": "execute_result"
    }
   ],
   "source": [
    "data.head()"
   ]
  },
  {
   "cell_type": "code",
   "execution_count": 6,
   "metadata": {
    "collapsed": false
   },
   "outputs": [
    {
     "data": {
      "text/html": [
       "<div>\n",
       "<table border=\"1\" class=\"dataframe\">\n",
       "  <thead>\n",
       "    <tr style=\"text-align: right;\">\n",
       "      <th></th>\n",
       "      <th>Publisher</th>\n",
       "      <th>Journal</th>\n",
       "      <th>Article</th>\n",
       "      <th>Cost</th>\n",
       "    </tr>\n",
       "  </thead>\n",
       "  <tbody>\n",
       "    <tr>\n",
       "      <th>1565</th>\n",
       "      <td>PUBLIC</td>\n",
       "      <td>PLOS ONE</td>\n",
       "      <td>PNEUMOCYSTIS JIROVECII PNEUMONIA IN TROPICAL A...</td>\n",
       "      <td>999999.0</td>\n",
       "    </tr>\n",
       "    <tr>\n",
       "      <th>560</th>\n",
       "      <td>ELSEVIER</td>\n",
       "      <td>EXPERIMENTAL CELL RESEARCH</td>\n",
       "      <td>PERTURBATION OF INVADOLYSIN DISRUPTS CELL MIGR...</td>\n",
       "      <td>999999.0</td>\n",
       "    </tr>\n",
       "    <tr>\n",
       "      <th>1939</th>\n",
       "      <td>WILEY</td>\n",
       "      <td>HBM JNL HUMAN BRAIN MAPPING</td>\n",
       "      <td>PHASE INFORMED MODEL FOR MOTION AND SUSCEPTIBI...</td>\n",
       "      <td>999999.0</td>\n",
       "    </tr>\n",
       "    <tr>\n",
       "      <th>996</th>\n",
       "      <td>MIT</td>\n",
       "      <td>THE JOURNAL OF COGNITIVE NEUROSCIENCE</td>\n",
       "      <td>PERCEPTUAL INTEGRATION FOR QUALITATIVELY DIFFE...</td>\n",
       "      <td>999999.0</td>\n",
       "    </tr>\n",
       "    <tr>\n",
       "      <th>1564</th>\n",
       "      <td>PUBLIC</td>\n",
       "      <td>PLOS ONE</td>\n",
       "      <td>PHAGOCYTOSIS IS THE MAIN CR3-MEDIATED FUNCTION...</td>\n",
       "      <td>999999.0</td>\n",
       "    </tr>\n",
       "  </tbody>\n",
       "</table>\n",
       "</div>"
      ],
      "text/plain": [
       "     Publisher                                Journal  \\\n",
       "1565    PUBLIC                               PLOS ONE   \n",
       "560   ELSEVIER             EXPERIMENTAL CELL RESEARCH   \n",
       "1939     WILEY            HBM JNL HUMAN BRAIN MAPPING   \n",
       "996        MIT  THE JOURNAL OF COGNITIVE NEUROSCIENCE   \n",
       "1564    PUBLIC                               PLOS ONE   \n",
       "\n",
       "                                                Article      Cost  \n",
       "1565  PNEUMOCYSTIS JIROVECII PNEUMONIA IN TROPICAL A...  999999.0  \n",
       "560   PERTURBATION OF INVADOLYSIN DISRUPTS CELL MIGR...  999999.0  \n",
       "1939  PHASE INFORMED MODEL FOR MOTION AND SUSCEPTIBI...  999999.0  \n",
       "996   PERCEPTUAL INTEGRATION FOR QUALITATIVELY DIFFE...  999999.0  \n",
       "1564  PHAGOCYTOSIS IS THE MAIN CR3-MEDIATED FUNCTION...  999999.0  "
      ]
     },
     "execution_count": 6,
     "metadata": {},
     "output_type": "execute_result"
    }
   ],
   "source": [
    "data.tail()"
   ]
  },
  {
   "cell_type": "code",
   "execution_count": 7,
   "metadata": {
    "collapsed": false
   },
   "outputs": [
    {
     "data": {
      "image/png": "[encoded data removed]",
      "text/plain": [
       "<matplotlib.figure.Figure at 0x204e98a0f60>"
      ]
     },
     "metadata": {},
     "output_type": "display_data"
    }
   ],
   "source": [
    "#Store in variables, don't hard-code. \n",
    "lower = data.Cost.quantile(0.05)\n",
    "upper = data.Cost.quantile(0.95)\n",
    "data.Cost.replace(to_replace=[0.00,999999.00], value=[lower, upper], inplace=True)\n",
    "data.sort_values(by='Cost',inplace=True)\n",
    "sns.plt.show(sns.distplot(data.Cost))"
   ]
  },
  {
   "cell_type": "code",
   "execution_count": 8,
   "metadata": {
    "collapsed": false
   },
   "outputs": [
    {
     "data": {
      "text/html": [
       "<div>\n",
       "<table border=\"1\" class=\"dataframe\">\n",
       "  <thead>\n",
       "    <tr style=\"text-align: right;\">\n",
       "      <th></th>\n",
       "      <th>Publisher</th>\n",
       "      <th>Journal</th>\n",
       "      <th>Article</th>\n",
       "      <th>Cost</th>\n",
       "    </tr>\n",
       "  </thead>\n",
       "  <tbody>\n",
       "    <tr>\n",
       "      <th>243</th>\n",
       "      <td>BIOMED</td>\n",
       "      <td>VETERINARY RESEARCH</td>\n",
       "      <td>UNDERSTANDING FOOT-AND-MOUTH DISEASE VIRUS TRA...</td>\n",
       "      <td>9.93</td>\n",
       "    </tr>\n",
       "    <tr>\n",
       "      <th>100</th>\n",
       "      <td>AMERICAN</td>\n",
       "      <td>AMERICAN SOCIETY FOR NUTRITION</td>\n",
       "      <td>THE ASSOCIATION BETWEEN BREASTFEEDING AND HIV ...</td>\n",
       "      <td>45.94</td>\n",
       "    </tr>\n",
       "    <tr>\n",
       "      <th>1469</th>\n",
       "      <td>PUBLIC</td>\n",
       "      <td>PLOS ONE</td>\n",
       "      <td>HOW  WELL ARE MALARIA MAPS USED TO DESIGN AND ...</td>\n",
       "      <td>122.31</td>\n",
       "    </tr>\n",
       "    <tr>\n",
       "      <th>1677</th>\n",
       "      <td>SCIEDU</td>\n",
       "      <td>JOURNAL OF BIOMEDICAL GRAPHICS AND COMPUTING</td>\n",
       "      <td>FUNCTIONAL MRI DEMONSTRATES PAIN PERCEPTION IN...</td>\n",
       "      <td>135.29</td>\n",
       "    </tr>\n",
       "    <tr>\n",
       "      <th>975</th>\n",
       "      <td>LANDES</td>\n",
       "      <td>CHANNELS</td>\n",
       "      <td>STATE-INDEPENDENT INTRACELLULAR ACCESS OF QUAT...</td>\n",
       "      <td>159.74</td>\n",
       "    </tr>\n",
       "  </tbody>\n",
       "</table>\n",
       "</div>"
      ],
      "text/plain": [
       "     Publisher                                       Journal  \\\n",
       "243     BIOMED                           VETERINARY RESEARCH   \n",
       "100   AMERICAN                AMERICAN SOCIETY FOR NUTRITION   \n",
       "1469    PUBLIC                                      PLOS ONE   \n",
       "1677    SCIEDU  JOURNAL OF BIOMEDICAL GRAPHICS AND COMPUTING   \n",
       "975     LANDES                                      CHANNELS   \n",
       "\n",
       "                                                Article    Cost  \n",
       "243   UNDERSTANDING FOOT-AND-MOUTH DISEASE VIRUS TRA...    9.93  \n",
       "100   THE ASSOCIATION BETWEEN BREASTFEEDING AND HIV ...   45.94  \n",
       "1469  HOW  WELL ARE MALARIA MAPS USED TO DESIGN AND ...  122.31  \n",
       "1677  FUNCTIONAL MRI DEMONSTRATES PAIN PERCEPTION IN...  135.29  \n",
       "975   STATE-INDEPENDENT INTRACELLULAR ACCESS OF QUAT...  159.74  "
      ]
     },
     "execution_count": 8,
     "metadata": {},
     "output_type": "execute_result"
    }
   ],
   "source": [
    "data.head()"
   ]
  },
  {
   "cell_type": "code",
   "execution_count": 9,
   "metadata": {
    "collapsed": false
   },
   "outputs": [
    {
     "data": {
      "text/html": [
       "<div>\n",
       "<table border=\"1\" class=\"dataframe\">\n",
       "  <thead>\n",
       "    <tr style=\"text-align: right;\">\n",
       "      <th></th>\n",
       "      <th>Publisher</th>\n",
       "      <th>Journal</th>\n",
       "      <th>Article</th>\n",
       "      <th>Cost</th>\n",
       "    </tr>\n",
       "  </thead>\n",
       "  <tbody>\n",
       "    <tr>\n",
       "      <th>798</th>\n",
       "      <td>ELSEVIER</td>\n",
       "      <td>THE LANCET</td>\n",
       "      <td>EFFECTS OF UNCONDITIONAL AND CONDITIONAL CASH ...</td>\n",
       "      <td>4800.0</td>\n",
       "    </tr>\n",
       "    <tr>\n",
       "      <th>800</th>\n",
       "      <td>ELSEVIER</td>\n",
       "      <td>THE LANCET NEUROLOGY</td>\n",
       "      <td>GENETIC RISK FACTORS FOR ISCHAEMIC STROKE AND ...</td>\n",
       "      <td>5760.0</td>\n",
       "    </tr>\n",
       "    <tr>\n",
       "      <th>1619</th>\n",
       "      <td>PUBLIC</td>\n",
       "      <td>PUBLIC SERVICE REVIEW</td>\n",
       "      <td>LABORATORY SCIENCE IN TROPICAL MEDICINE</td>\n",
       "      <td>6000.0</td>\n",
       "    </tr>\n",
       "    <tr>\n",
       "      <th>1470</th>\n",
       "      <td>PUBLIC</td>\n",
       "      <td>PLOS ONE</td>\n",
       "      <td>REDUCING STOCK-OUTS OF LIFE SAVING MALARIA COM...</td>\n",
       "      <td>192645.0</td>\n",
       "    </tr>\n",
       "    <tr>\n",
       "      <th>1987</th>\n",
       "      <td>WILEY</td>\n",
       "      <td>MOVEMENT DISORDERS</td>\n",
       "      <td>LIMB AMPUTATIONS IN FIXED DYSTONIA: A FORM OF ...</td>\n",
       "      <td>201024.0</td>\n",
       "    </tr>\n",
       "  </tbody>\n",
       "</table>\n",
       "</div>"
      ],
      "text/plain": [
       "     Publisher                Journal  \\\n",
       "798   ELSEVIER             THE LANCET   \n",
       "800   ELSEVIER   THE LANCET NEUROLOGY   \n",
       "1619    PUBLIC  PUBLIC SERVICE REVIEW   \n",
       "1470    PUBLIC               PLOS ONE   \n",
       "1987     WILEY     MOVEMENT DISORDERS   \n",
       "\n",
       "                                                Article      Cost  \n",
       "798   EFFECTS OF UNCONDITIONAL AND CONDITIONAL CASH ...    4800.0  \n",
       "800   GENETIC RISK FACTORS FOR ISCHAEMIC STROKE AND ...    5760.0  \n",
       "1619            LABORATORY SCIENCE IN TROPICAL MEDICINE    6000.0  \n",
       "1470  REDUCING STOCK-OUTS OF LIFE SAVING MALARIA COM...  192645.0  \n",
       "1987  LIMB AMPUTATIONS IN FIXED DYSTONIA: A FORM OF ...  201024.0  "
      ]
     },
     "execution_count": 9,
     "metadata": {},
     "output_type": "execute_result"
    }
   ],
   "source": [
    "#Might want to increase upper limit cut-off for winsorization. Didn't have to discard the free article.\n",
    "data.tail()"
   ]
  },
  {
   "cell_type": "markdown",
   "metadata": {},
   "source": [
    "## Five Most Common  Journals & Total Articles For Each"
   ]
  },
  {
   "cell_type": "code",
   "execution_count": 10,
   "metadata": {
    "collapsed": false
   },
   "outputs": [
    {
     "data": {
      "text/html": [
       "<div>\n",
       "<table border=\"1\" class=\"dataframe\">\n",
       "  <thead>\n",
       "    <tr style=\"text-align: right;\">\n",
       "      <th></th>\n",
       "      <th>Article Count</th>\n",
       "    </tr>\n",
       "    <tr>\n",
       "      <th>Journal</th>\n",
       "      <th></th>\n",
       "    </tr>\n",
       "  </thead>\n",
       "  <tbody>\n",
       "    <tr>\n",
       "      <th>PLOS ONE</th>\n",
       "      <td>190</td>\n",
       "    </tr>\n",
       "    <tr>\n",
       "      <th>JOURNAL OF BIOLOGICAL CHEMISTRY</th>\n",
       "      <td>53</td>\n",
       "    </tr>\n",
       "    <tr>\n",
       "      <th>NEUROIMAGE</th>\n",
       "      <td>29</td>\n",
       "    </tr>\n",
       "    <tr>\n",
       "      <th>NUCLEIC ACIDS RESEARCH</th>\n",
       "      <td>26</td>\n",
       "    </tr>\n",
       "    <tr>\n",
       "      <th>PLOS GENETICS</th>\n",
       "      <td>24</td>\n",
       "    </tr>\n",
       "  </tbody>\n",
       "</table>\n",
       "</div>"
      ],
      "text/plain": [
       "                                 Article Count\n",
       "Journal                                       \n",
       "PLOS ONE                                   190\n",
       "JOURNAL OF BIOLOGICAL CHEMISTRY             53\n",
       "NEUROIMAGE                                  29\n",
       "NUCLEIC ACIDS RESEARCH                      26\n",
       "PLOS GENETICS                               24"
      ]
     },
     "execution_count": 10,
     "metadata": {},
     "output_type": "execute_result"
    }
   ],
   "source": [
    "common = data.groupby('Journal')[['Article']].count().sort_values(by=['Article'],ascending=False)\n",
    "common.columns = ['Article Count']\n",
    "common.head(5)"
   ]
  },
  {
   "cell_type": "markdown",
   "metadata": {},
   "source": [
    "## Mean, Median, & Standard Deviation of Open-Access Cost Per Article for Each Journal "
   ]
  },
  {
   "cell_type": "code",
   "execution_count": 11,
   "metadata": {
    "collapsed": false
   },
   "outputs": [
    {
     "data": {
      "text/html": [
       "<div>\n",
       "<table border=\"1\" class=\"dataframe\">\n",
       "  <thead>\n",
       "    <tr style=\"text-align: right;\">\n",
       "      <th></th>\n",
       "      <th>Mean</th>\n",
       "      <th>Article Count</th>\n",
       "      <th>Mean Per Article</th>\n",
       "    </tr>\n",
       "  </thead>\n",
       "  <tbody>\n",
       "    <tr>\n",
       "      <th>ACADEMY OF NUTRITION AND DIETETICS</th>\n",
       "      <td>2379.540</td>\n",
       "      <td>1</td>\n",
       "      <td>2379.5400</td>\n",
       "    </tr>\n",
       "    <tr>\n",
       "      <th>ACS CHEMICAL BIOLOGY</th>\n",
       "      <td>1418.186</td>\n",
       "      <td>5</td>\n",
       "      <td>283.6372</td>\n",
       "    </tr>\n",
       "    <tr>\n",
       "      <th>ACS CHEMICAL NEUROSCIENCE</th>\n",
       "      <td>1186.800</td>\n",
       "      <td>1</td>\n",
       "      <td>1186.8000</td>\n",
       "    </tr>\n",
       "    <tr>\n",
       "      <th>ACS NANO</th>\n",
       "      <td>668.140</td>\n",
       "      <td>2</td>\n",
       "      <td>334.0700</td>\n",
       "    </tr>\n",
       "    <tr>\n",
       "      <th>ACTA CRYSTALLOGRAPHICA SECTION D,  BIOLOGICAL CRYSTALLOGRAPHY</th>\n",
       "      <td>771.420</td>\n",
       "      <td>1</td>\n",
       "      <td>771.4200</td>\n",
       "    </tr>\n",
       "  </tbody>\n",
       "</table>\n",
       "</div>"
      ],
      "text/plain": [
       "                                                        Mean  Article Count  \\\n",
       "ACADEMY OF NUTRITION AND DIETETICS                  2379.540              1   \n",
       "ACS CHEMICAL BIOLOGY                                1418.186              5   \n",
       "ACS CHEMICAL NEUROSCIENCE                           1186.800              1   \n",
       "ACS NANO                                             668.140              2   \n",
       "ACTA CRYSTALLOGRAPHICA SECTION D,  BIOLOGICAL C...   771.420              1   \n",
       "\n",
       "                                                    Mean Per Article  \n",
       "ACADEMY OF NUTRITION AND DIETETICS                         2379.5400  \n",
       "ACS CHEMICAL BIOLOGY                                        283.6372  \n",
       "ACS CHEMICAL NEUROSCIENCE                                  1186.8000  \n",
       "ACS NANO                                                    334.0700  \n",
       "ACTA CRYSTALLOGRAPHICA SECTION D,  BIOLOGICAL C...          771.4200  "
      ]
     },
     "execution_count": 11,
     "metadata": {},
     "output_type": "execute_result"
    }
   ],
   "source": [
    "mean = data.groupby('Journal')[['Cost']].mean()\n",
    "mean.columns = ['Mean']\n",
    "meanperarticle = pd.concat([mean,common],axis=1)\n",
    "meanperarticle.columns = ['Mean','Article Count']\n",
    "meanperarticle['Mean Per Article'] = meanperarticle['Mean']/meanperarticle['Article Count']\n",
    "meanperarticle.head(5)"
   ]
  },
  {
   "cell_type": "code",
   "execution_count": 12,
   "metadata": {
    "collapsed": false,
    "scrolled": true
   },
   "outputs": [
    {
     "data": {
      "text/html": [
       "<div>\n",
       "<table border=\"1\" class=\"dataframe\">\n",
       "  <thead>\n",
       "    <tr style=\"text-align: right;\">\n",
       "      <th></th>\n",
       "      <th>Median</th>\n",
       "      <th>Article Count</th>\n",
       "      <th>Median Per Article</th>\n",
       "    </tr>\n",
       "  </thead>\n",
       "  <tbody>\n",
       "    <tr>\n",
       "      <th>ACADEMY OF NUTRITION AND DIETETICS</th>\n",
       "      <td>2379.54</td>\n",
       "      <td>1</td>\n",
       "      <td>2379.540</td>\n",
       "    </tr>\n",
       "    <tr>\n",
       "      <th>ACS CHEMICAL BIOLOGY</th>\n",
       "      <td>1294.59</td>\n",
       "      <td>5</td>\n",
       "      <td>258.918</td>\n",
       "    </tr>\n",
       "    <tr>\n",
       "      <th>ACS CHEMICAL NEUROSCIENCE</th>\n",
       "      <td>1186.80</td>\n",
       "      <td>1</td>\n",
       "      <td>1186.800</td>\n",
       "    </tr>\n",
       "    <tr>\n",
       "      <th>ACS NANO</th>\n",
       "      <td>668.14</td>\n",
       "      <td>2</td>\n",
       "      <td>334.070</td>\n",
       "    </tr>\n",
       "    <tr>\n",
       "      <th>ACTA CRYSTALLOGRAPHICA SECTION D,  BIOLOGICAL CRYSTALLOGRAPHY</th>\n",
       "      <td>771.42</td>\n",
       "      <td>1</td>\n",
       "      <td>771.420</td>\n",
       "    </tr>\n",
       "  </tbody>\n",
       "</table>\n",
       "</div>"
      ],
      "text/plain": [
       "                                                     Median  Article Count  \\\n",
       "ACADEMY OF NUTRITION AND DIETETICS                  2379.54              1   \n",
       "ACS CHEMICAL BIOLOGY                                1294.59              5   \n",
       "ACS CHEMICAL NEUROSCIENCE                           1186.80              1   \n",
       "ACS NANO                                             668.14              2   \n",
       "ACTA CRYSTALLOGRAPHICA SECTION D,  BIOLOGICAL C...   771.42              1   \n",
       "\n",
       "                                                    Median Per Article  \n",
       "ACADEMY OF NUTRITION AND DIETETICS                            2379.540  \n",
       "ACS CHEMICAL BIOLOGY                                           258.918  \n",
       "ACS CHEMICAL NEUROSCIENCE                                     1186.800  \n",
       "ACS NANO                                                       334.070  \n",
       "ACTA CRYSTALLOGRAPHICA SECTION D,  BIOLOGICAL C...             771.420  "
      ]
     },
     "execution_count": 12,
     "metadata": {},
     "output_type": "execute_result"
    }
   ],
   "source": [
    "median = data.groupby('Journal')[['Cost']].median()\n",
    "median.columns = ['Median']\n",
    "medianperarticle = pd.concat([median,common],axis=1)\n",
    "medianperarticle.columns = ['Median','Article Count']\n",
    "medianperarticle['Median Per Article'] = medianperarticle['Median']/medianperarticle['Article Count']\n",
    "medianperarticle.head(5)"
   ]
  },
  {
   "cell_type": "code",
   "execution_count": 13,
   "metadata": {
    "collapsed": false
   },
   "outputs": [
    {
     "data": {
      "text/html": [
       "<div>\n",
       "<table border=\"1\" class=\"dataframe\">\n",
       "  <thead>\n",
       "    <tr style=\"text-align: right;\">\n",
       "      <th></th>\n",
       "      <th>Standard Deviation</th>\n",
       "      <th>Article Count</th>\n",
       "      <th>Standard Deviation Per Article</th>\n",
       "    </tr>\n",
       "  </thead>\n",
       "  <tbody>\n",
       "    <tr>\n",
       "      <th>ACADEMY OF NUTRITION AND DIETETICS</th>\n",
       "      <td>0.000000</td>\n",
       "      <td>1</td>\n",
       "      <td>0.000000</td>\n",
       "    </tr>\n",
       "    <tr>\n",
       "      <th>ACS CHEMICAL BIOLOGY</th>\n",
       "      <td>507.309560</td>\n",
       "      <td>5</td>\n",
       "      <td>101.461912</td>\n",
       "    </tr>\n",
       "    <tr>\n",
       "      <th>ACS CHEMICAL NEUROSCIENCE</th>\n",
       "      <td>0.000000</td>\n",
       "      <td>1</td>\n",
       "      <td>0.000000</td>\n",
       "    </tr>\n",
       "    <tr>\n",
       "      <th>ACS NANO</th>\n",
       "      <td>35.708892</td>\n",
       "      <td>2</td>\n",
       "      <td>17.854446</td>\n",
       "    </tr>\n",
       "    <tr>\n",
       "      <th>ACTA CRYSTALLOGRAPHICA SECTION D,  BIOLOGICAL CRYSTALLOGRAPHY</th>\n",
       "      <td>0.000000</td>\n",
       "      <td>1</td>\n",
       "      <td>0.000000</td>\n",
       "    </tr>\n",
       "  </tbody>\n",
       "</table>\n",
       "</div>"
      ],
      "text/plain": [
       "                                                    Standard Deviation  \\\n",
       "ACADEMY OF NUTRITION AND DIETETICS                            0.000000   \n",
       "ACS CHEMICAL BIOLOGY                                        507.309560   \n",
       "ACS CHEMICAL NEUROSCIENCE                                     0.000000   \n",
       "ACS NANO                                                     35.708892   \n",
       "ACTA CRYSTALLOGRAPHICA SECTION D,  BIOLOGICAL C...            0.000000   \n",
       "\n",
       "                                                    Article Count  \\\n",
       "ACADEMY OF NUTRITION AND DIETETICS                              1   \n",
       "ACS CHEMICAL BIOLOGY                                            5   \n",
       "ACS CHEMICAL NEUROSCIENCE                                       1   \n",
       "ACS NANO                                                        2   \n",
       "ACTA CRYSTALLOGRAPHICA SECTION D,  BIOLOGICAL C...              1   \n",
       "\n",
       "                                                    Standard Deviation Per Article  \n",
       "ACADEMY OF NUTRITION AND DIETETICS                                        0.000000  \n",
       "ACS CHEMICAL BIOLOGY                                                    101.461912  \n",
       "ACS CHEMICAL NEUROSCIENCE                                                 0.000000  \n",
       "ACS NANO                                                                 17.854446  \n",
       "ACTA CRYSTALLOGRAPHICA SECTION D,  BIOLOGICAL C...                        0.000000  "
      ]
     },
     "execution_count": 13,
     "metadata": {},
     "output_type": "execute_result"
    }
   ],
   "source": [
    "#Should actually be dropping the NaN stdevs. Be careful what you impute...\n",
    "deviation = data.groupby('Journal')[['Cost']].std()\n",
    "deviation.columns = ['Standard Deviation']\n",
    "deviation.fillna(0, inplace=True)\n",
    "deviationperarticle = pd.concat([deviation,common],axis=1)\n",
    "deviationperarticle.columns = ['Standard Deviation','Article Count']\n",
    "deviationperarticle['Standard Deviation Per Article'] = deviationperarticle['Standard Deviation']/deviationperarticle['Article Count']\n",
    "deviationperarticle.head()"
   ]
  },
  {
   "cell_type": "markdown",
   "metadata": {},
   "source": [
    "## Open Access Prices Paid By Subject Area\n"
   ]
  },
  {
   "cell_type": "code",
   "execution_count": 14,
   "metadata": {
    "collapsed": false
   },
   "outputs": [
    {
     "ename": "NameError",
     "evalue": "name 'subjectarea' is not defined",
     "output_type": "error",
     "traceback": [
      "\u001b[0;31m---------------------------------------------------------------------------\u001b[0m",
      "\u001b[0;31mNameError\u001b[0m                                 Traceback (most recent call last)",
      "\u001b[0;32m<ipython-input-14-e311f104c475>\u001b[0m in \u001b[0;36m<module>\u001b[0;34m()\u001b[0m\n\u001b[1;32m     10\u001b[0m \u001b[1;31m#subjectarea['Area'] = [dictionary[e] if e else '' for e in keys]\u001b[0m\u001b[1;33m\u001b[0m\u001b[1;33m\u001b[0m\u001b[0m\n\u001b[1;32m     11\u001b[0m \u001b[1;33m\u001b[0m\u001b[0m\n\u001b[0;32m---> 12\u001b[0;31m \u001b[0msubjectarea\u001b[0m\u001b[1;33m.\u001b[0m\u001b[0mhead\u001b[0m\u001b[1;33m(\u001b[0m\u001b[1;36m10\u001b[0m\u001b[1;33m)\u001b[0m\u001b[1;33m\u001b[0m\u001b[0m\n\u001b[0m",
      "\u001b[0;31mNameError\u001b[0m: name 'subjectarea' is not defined"
     ]
    }
   ],
   "source": [
    "from difflib import get_close_matches\n",
    "\n",
    "#I wanted to search the 'Journal' column and the dictionary for partial matches.\n",
    "#Then return the corresponding value as an entry in a new series called 'Subject Area'.\n",
    "#Then group by 'Subject Area' and recalculate 'Mean,' 'Median,' and 'Standard Deviation.'\n",
    "\n",
    "#subjectarea = pd.concat([mean,median,deviation], axis=1)\n",
    "#dictionary = {'ACTA':'Life Science', 'ADDICTION':'Social Science', 'AGE': 'Life Science', 'AIDS':'Health Science', 'ALCOHOL':'Social Science', 'ART':'Social Science', 'BIO':'Life Science', 'COGNIT':'Social Science', 'COMP':'Physical Science','COMPUT':'Physical Science', 'ENGIN':'Physical Science', 'GENE':'Life Science', 'HEALTH':'Health Science', 'HISTORY':'Social Science', 'MEDICINE':'Health Science', 'OPTHALM': 'Health Science', 'NEURO':'Health Science','NUTR':'Health Science', 'PHARMA':'Life Science', 'PHYSIO':'Health Science', 'VETERIN':'Health Science', 'TRIALS':'Social Science', 'TRAFFIC':'Life Science'}\n",
    "#keys = subjectarea['Journal'].apply(lambda x: ''.join(get_close_matches(x, dictionary.keys())))\n",
    "#subjectarea['Area'] = [dictionary[e] if e else '' for e in keys]\n",
    "\n",
    "subjectarea.head(10)"
   ]
  }
 ],
 "metadata": {
  "_draft": {
   "nbviewer_url": "https://gist.github.com/c0f6ade4f23e7c8d3fe6fd53d28bd48c"
  },
  "gist": {
   "data": {
    "description": "Documents/Everything Else/Personal/Thinkful/Python Notebooks/2 Bootcamp/Drill Submission - Unit 1 - Lesson 3 - Data Cleaning.ipynb",
    "public": false
   },
   "id": "c0f6ade4f23e7c8d3fe6fd53d28bd48c"
  },
  "kernelspec": {
   "display_name": "Python 3",
   "language": "python",
   "name": "python3"
  },
  "language_info": {
   "codemirror_mode": {
    "name": "ipython",
    "version": 3
   },
   "file_extension": ".py",
   "mimetype": "text/x-python",
   "name": "python",
   "nbconvert_exporter": "python",
   "pygments_lexer": "ipython3",
   "version": "3.6.0"
  },
  "toc": {
   "nav_menu": {},
   "number_sections": true,
   "sideBar": true,
   "skip_h1_title": false,
   "toc_cell": false,
   "toc_position": {},
   "toc_section_display": "block",
   "toc_window_display": false
  }
 },
 "nbformat": 4,
 "nbformat_minor": 2
}
