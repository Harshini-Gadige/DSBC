{
 "cells": [
  {
   "cell_type": "markdown",
   "metadata": {},
   "source": [
    "# Import Statements"
   ]
  },
  {
   "cell_type": "code",
   "execution_count": 1,
   "metadata": {
    "collapsed": true
   },
   "outputs": [],
   "source": [
    "from sklearn.decomposition import TruncatedSVD, LatentDirichletAllocation, NMF\n",
    "from sklearn.feature_extraction.text import TfidfVectorizer, CountVectorizer\n",
    "from sklearn.feature_extraction.text import ENGLISH_STOP_WORDS as esw\n",
    "from sklearn.metrics import confusion_matrix\n",
    "from sklearn.model_selection import GridSearchCV, ParameterGrid, train_test_split\n",
    "from sklearn.pipeline import make_pipeline, Pipeline\n",
    "from sklearn import preprocessing\n",
    "import itertools\n",
    "import matplotlib.pyplot as plt\n",
    "import numpy as np\n",
    "import pandas as pd\n",
    "import seaborn as sns\n",
    "import warnings\n",
    "sns.set_style(\"whitegrid\")\n",
    "warnings.filterwarnings(\"ignore\")"
   ]
  },
  {
   "cell_type": "markdown",
   "metadata": {},
   "source": [
    "# Initializing Scraped & Pre-Cleaned Dataframe"
   ]
  },
  {
   "cell_type": "code",
   "execution_count": 2,
   "metadata": {
    "collapsed": true
   },
   "outputs": [],
   "source": [
    "path = 'C:\\\\Users\\\\missn\\\\Documents\\\\Thinkful\\\\Python Notebooks\\\\2 Bootcamp\\\\Output_Clean.csv'\n",
    "output_clean = pd.read_csv(path, index_col = 0)"
   ]
  },
  {
   "cell_type": "code",
   "execution_count": 3,
   "metadata": {
    "collapsed": false
   },
   "outputs": [
    {
     "data": {
      "text/html": [
       "<div>\n",
       "<style scoped>\n",
       "    .dataframe tbody tr th:only-of-type {\n",
       "        vertical-align: middle;\n",
       "    }\n",
       "\n",
       "    .dataframe tbody tr th {\n",
       "        vertical-align: top;\n",
       "    }\n",
       "\n",
       "    .dataframe thead th {\n",
       "        text-align: right;\n",
       "    }\n",
       "</style>\n",
       "<table border=\"1\" class=\"dataframe\">\n",
       "  <thead>\n",
       "    <tr style=\"text-align: right;\">\n",
       "      <th></th>\n",
       "      <th>Search Term</th>\n",
       "      <th>Site</th>\n",
       "      <th>Link</th>\n",
       "      <th>Document</th>\n",
       "    </tr>\n",
       "  </thead>\n",
       "  <tbody>\n",
       "    <tr>\n",
       "      <th>0</th>\n",
       "      <td>Ambazonia</td>\n",
       "      <td>Vanguard</td>\n",
       "      <td>https://www.vanguardngr.com/2018/02/vision-amb...</td>\n",
       "      <td>By Emmanuel Unah &amp; Victoria Ojeme This Insigh...</td>\n",
       "    </tr>\n",
       "    <tr>\n",
       "      <th>2</th>\n",
       "      <td>Ambazonia</td>\n",
       "      <td>Vanguard</td>\n",
       "      <td>https://www.vanguardngr.com/2018/02/declared-a...</td>\n",
       "      <td>By Emmanuel Unah, Victoria Ojeme &amp; Dotun Ibiw...</td>\n",
       "    </tr>\n",
       "    <tr>\n",
       "      <th>4</th>\n",
       "      <td>Ambazonia</td>\n",
       "      <td>Vanguard</td>\n",
       "      <td>https://www.vanguardngr.com/2018/04/france-amb...</td>\n",
       "      <td>By Derric Yuh For the past three weeks, an en...</td>\n",
       "    </tr>\n",
       "    <tr>\n",
       "      <th>6</th>\n",
       "      <td>Ambazonia</td>\n",
       "      <td>Vanguard</td>\n",
       "      <td>https://www.vanguardngr.com/tag/ambazonia/</td>\n",
       "      <td>In Manyu in particular, schools cannot re-ope...</td>\n",
       "    </tr>\n",
       "    <tr>\n",
       "      <th>8</th>\n",
       "      <td>Ambazonia</td>\n",
       "      <td>Vanguard</td>\n",
       "      <td>https://www.vanguardngr.com/tag/ambazonia-repu...</td>\n",
       "      <td>In the English speaking part of Cameroun, if...</td>\n",
       "    </tr>\n",
       "  </tbody>\n",
       "</table>\n",
       "</div>"
      ],
      "text/plain": [
       "  Search Term      Site                                               Link  \\\n",
       "0   Ambazonia  Vanguard  https://www.vanguardngr.com/2018/02/vision-amb...   \n",
       "2   Ambazonia  Vanguard  https://www.vanguardngr.com/2018/02/declared-a...   \n",
       "4   Ambazonia  Vanguard  https://www.vanguardngr.com/2018/04/france-amb...   \n",
       "6   Ambazonia  Vanguard         https://www.vanguardngr.com/tag/ambazonia/   \n",
       "8   Ambazonia  Vanguard  https://www.vanguardngr.com/tag/ambazonia-repu...   \n",
       "\n",
       "                                            Document  \n",
       "0   By Emmanuel Unah & Victoria Ojeme This Insigh...  \n",
       "2   By Emmanuel Unah, Victoria Ojeme & Dotun Ibiw...  \n",
       "4   By Derric Yuh For the past three weeks, an en...  \n",
       "6   In Manyu in particular, schools cannot re-ope...  \n",
       "8    In the English speaking part of Cameroun, if...  "
      ]
     },
     "execution_count": 3,
     "metadata": {},
     "output_type": "execute_result"
    }
   ],
   "source": [
    "output_clean.head()"
   ]
  },
  {
   "cell_type": "markdown",
   "metadata": {},
   "source": [
    "# Deep String Cleaning: HTML & JavaScript Residue"
   ]
  },
  {
   "cell_type": "code",
   "execution_count": 4,
   "metadata": {
    "collapsed": false
   },
   "outputs": [
    {
     "data": {
      "text/plain": [
       "Independent      79\n",
       "The Nation       20\n",
       "Cameroon Post    20\n",
       "Daily Trust      20\n",
       "Sun News         20\n",
       "Vanguard         20\n",
       "Tribune          15\n",
       "Bareta News      14\n",
       "Name: Site, dtype: int64"
      ]
     },
     "execution_count": 4,
     "metadata": {},
     "output_type": "execute_result"
    }
   ],
   "source": [
    "output_clean['Site'].value_counts()"
   ]
  },
  {
   "cell_type": "markdown",
   "metadata": {},
   "source": [
    "## Vanguard (0-19)"
   ]
  },
  {
   "cell_type": "code",
   "execution_count": 5,
   "metadata": {
    "collapsed": true
   },
   "outputs": [],
   "source": [
    "output_clean['Document'] = output_clean['Document'].str.replace(r'\\r.+\\r',' ')\n",
    "output_clean['Document'] = output_clean['Document'].str.replace(u'\\xa0',' ')\n",
    "output_clean['Document'] = output_clean['Document'].str.replace(r'Related +$','')"
   ]
  },
  {
   "cell_type": "markdown",
   "metadata": {},
   "source": [
    "## Sun News (20-39)"
   ]
  },
  {
   "cell_type": "code",
   "execution_count": 6,
   "metadata": {
    "collapsed": true
   },
   "outputs": [],
   "source": [
    "output_clean['Document'] = output_clean['Document'].str.replace(r'\\(adsbygoogle = window\\.adsbygoogle \\|\\| \\[\\]\\)\\.push\\(\\{\\}\\);','')\n",
    "output_clean['Document'] = output_clean['Document'].str.replace(r'function insertAfter.+$','')\n",
    "output_clean['Document'] = output_clean['Document'].str.replace(r'READ ALSO: .+$','')"
   ]
  },
  {
   "cell_type": "markdown",
   "metadata": {},
   "source": [
    "## The Nation (40-59)"
   ]
  },
  {
   "cell_type": "code",
   "execution_count": 7,
   "metadata": {
    "collapsed": true
   },
   "outputs": [],
   "source": [
    "output_clean['Document'] = output_clean['Document'].str.replace(r'Do you get a good or bad response from your wife after making love.+$','')"
   ]
  },
  {
   "cell_type": "markdown",
   "metadata": {},
   "source": [
    "## Tribune (60-74)"
   ]
  },
  {
   "cell_type": "code",
   "execution_count": 8,
   "metadata": {
    "collapsed": true
   },
   "outputs": [],
   "source": [
    "output_clean['Document'] = output_clean['Document'].str.replace(r'Courtesy:.+$','')\n",
    "output_clean['Document'] = output_clean['Document'].str.replace(r'Share this:.+$','')"
   ]
  },
  {
   "cell_type": "markdown",
   "metadata": {},
   "source": [
    "## Daily Trust (75-94)"
   ]
  },
  {
   "cell_type": "code",
   "execution_count": 9,
   "metadata": {
    "collapsed": true
   },
   "outputs": [],
   "source": [
    "output_clean['Document'] = output_clean['Document'].str.replace(u'\\\\u200e','')\n",
    "output_clean['Document'] = output_clean['Document'].str.replace(r'\\/ AFP PHOTO','')\n",
    "output_clean['Document'] = output_clean['Document'].str.replace(r'#notatarget.+$','')"
   ]
  },
  {
   "cell_type": "markdown",
   "metadata": {},
   "source": [
    "## Independent (95-173)"
   ]
  },
  {
   "cell_type": "code",
   "execution_count": 10,
   "metadata": {
    "collapsed": true
   },
   "outputs": [],
   "source": [
    "output_clean['Document'] = output_clean['Document'].str.replace(r'window\\._taboola.+$','')"
   ]
  },
  {
   "cell_type": "markdown",
   "metadata": {},
   "source": [
    "## Bareta News (174-187)"
   ]
  },
  {
   "cell_type": "markdown",
   "metadata": {},
   "source": [
    "**There was no need to clean these articles using regular expressions.** "
   ]
  },
  {
   "cell_type": "markdown",
   "metadata": {},
   "source": [
    "## Cameroon Post (188-207)"
   ]
  },
  {
   "cell_type": "code",
   "execution_count": 11,
   "metadata": {
    "collapsed": true
   },
   "outputs": [],
   "source": [
    "output_clean['Document'] = output_clean['Document'].str.replace(r'Posted in:.+$','')"
   ]
  },
  {
   "cell_type": "markdown",
   "metadata": {},
   "source": [
    "## Dropping Irrelevant/Truncated Documents & Intra-Source Duplicates"
   ]
  },
  {
   "cell_type": "code",
   "execution_count": 12,
   "metadata": {
    "collapsed": true
   },
   "outputs": [],
   "source": [
    "output_clean = output_clean.drop([6, 8, 49, 50, 57, 64, 66, 78, 115, 133, 135, 173, 174, 175, 176, 177, 178, 179, 180, 181, 182, 183, 184, 185, 186, 187, 188, 189, 190, 191, 192, 193, 195, 196, 198, 200, 204, 205, 206, 209, 210, 211, 212, 213, 214, 215, 216, 217, 218, 219, 220, 221, 222, 223, 224, 225, 226, 227, 228, 229, 230, 231, 232, 234, 235, 246, 247, 248, 251, 252, 253, 270, 272, 274, 276, 280, 282, 284, 288, 292, 294, 296, 298, 300, 304, 306])"
   ]
  },
  {
   "cell_type": "markdown",
   "metadata": {},
   "source": [
    "## Lowercasing, String Cleaning, & Dropping Inter-Source Duplicates"
   ]
  },
  {
   "cell_type": "code",
   "execution_count": 13,
   "metadata": {
    "collapsed": true
   },
   "outputs": [],
   "source": [
    "output_clean['Document'] = output_clean['Document'].str.lower()"
   ]
  },
  {
   "cell_type": "code",
   "execution_count": 14,
   "metadata": {
    "collapsed": true
   },
   "outputs": [],
   "source": [
    "output_clean['Document'] = output_clean['Document'].str.replace(r'[^a-zA-z\\s]',' ')"
   ]
  },
  {
   "cell_type": "code",
   "execution_count": 15,
   "metadata": {
    "collapsed": false,
    "scrolled": true
   },
   "outputs": [
    {
     "data": {
      "text/plain": [
       "False    102\n",
       "True      20\n",
       "Name: Document, dtype: int64"
      ]
     },
     "execution_count": 15,
     "metadata": {},
     "output_type": "execute_result"
    }
   ],
   "source": [
    "output_clean['Document'].duplicated().value_counts()"
   ]
  },
  {
   "cell_type": "code",
   "execution_count": 16,
   "metadata": {
    "collapsed": true,
    "scrolled": false
   },
   "outputs": [],
   "source": [
    "output_clean = output_clean.drop_duplicates(subset = ['Document'],keep = 'first')"
   ]
  },
  {
   "cell_type": "code",
   "execution_count": 17,
   "metadata": {
    "collapsed": false
   },
   "outputs": [
    {
     "data": {
      "text/plain": [
       "Boko Haram    57\n",
       "Ambazonia     45\n",
       "Name: Search Term, dtype: int64"
      ]
     },
     "execution_count": 17,
     "metadata": {},
     "output_type": "execute_result"
    }
   ],
   "source": [
    "output_clean['Search Term'].value_counts()"
   ]
  },
  {
   "cell_type": "markdown",
   "metadata": {},
   "source": [
    "# Modeling"
   ]
  },
  {
   "cell_type": "markdown",
   "metadata": {},
   "source": [
    "## Setup"
   ]
  },
  {
   "cell_type": "code",
   "execution_count": 18,
   "metadata": {
    "collapsed": true
   },
   "outputs": [],
   "source": [
    "X_train, X_test = train_test_split(output_clean, test_size = 0.25, stratify = output_clean['Search Term'], random_state = 0)"
   ]
  },
  {
   "cell_type": "code",
   "execution_count": 19,
   "metadata": {
    "collapsed": true
   },
   "outputs": [],
   "source": [
    "additional_stop_words = ['ambazonia', 'ambazonian', 'boko', 'haram', 'cameroon', 'cameroons', 'cameroun', 'camerouns', 'dr', 'cameroonian', 'nigeria', 'nigerian', 'posted', 'reintegrated', 'said', 'say']\n",
    "stop_words = esw.union(additional_stop_words)\n",
    "initial_vectorizer = TfidfVectorizer(analyzer = 'word', stop_words = stop_words, ngram_range = (1, 2)) "
   ]
  },
  {
   "cell_type": "code",
   "execution_count": 20,
   "metadata": {
    "collapsed": false
   },
   "outputs": [
    {
     "data": {
      "text/plain": [
       "Boko Haram    42\n",
       "Ambazonia     34\n",
       "Name: Search Term, dtype: int64"
      ]
     },
     "execution_count": 20,
     "metadata": {},
     "output_type": "execute_result"
    }
   ],
   "source": [
    "X_train['Search Term'].value_counts()"
   ]
  },
  {
   "cell_type": "code",
   "execution_count": 21,
   "metadata": {
    "collapsed": false
   },
   "outputs": [
    {
     "data": {
      "text/plain": [
       "Boko Haram    15\n",
       "Ambazonia     11\n",
       "Name: Search Term, dtype: int64"
      ]
     },
     "execution_count": 21,
     "metadata": {},
     "output_type": "execute_result"
    }
   ],
   "source": [
    "X_test['Search Term'].value_counts()"
   ]
  },
  {
   "cell_type": "markdown",
   "metadata": {},
   "source": [
    "## Parameter Tuning: Latent Dirichlet Allocation Model"
   ]
  },
  {
   "cell_type": "code",
   "execution_count": 22,
   "metadata": {
    "collapsed": true
   },
   "outputs": [],
   "source": [
    "min_df = [0.01, 0.015, 0.02, 0.025]\n",
    "max_df = [0.75, 0.55, 0.5, 0.45]\n",
    "n_topics = [2, 4, 6, 8, 10]\n",
    "parameters = dict(Vectorizer__min_df = min_df, Vectorizer__max_df = max_df, LDAStep__n_topics = n_topics)"
   ]
  },
  {
   "cell_type": "code",
   "execution_count": 23,
   "metadata": {
    "collapsed": false,
    "scrolled": false
   },
   "outputs": [
    {
     "name": "stdout",
     "output_type": "stream",
     "text": [
      "Best Parameters:  {'LDAStep__n_topics': 2, 'Vectorizer__max_df': 0.45, 'Vectorizer__min_df': 0.025}\n"
     ]
    }
   ],
   "source": [
    "lda_step = LatentDirichletAllocation(random_state = 0)\n",
    "lda_pipeline = Pipeline(steps = [('Vectorizer', initial_vectorizer), ('LDAStep', lda_step)])\n",
    "\n",
    "lda_pipeline_gridsearch = GridSearchCV(lda_pipeline, parameters, n_jobs = 2)\n",
    "lda_pipeline_gridsearch.fit(X_train['Document'])\n",
    "best_lda_model = lda_pipeline_gridsearch.best_estimator_\n",
    "\n",
    "print(\"Best Parameters: \", lda_pipeline_gridsearch.best_params_)"
   ]
  },
  {
   "cell_type": "markdown",
   "metadata": {},
   "source": [
    "## Post-Parameter Tuning Revisions"
   ]
  },
  {
   "cell_type": "code",
   "execution_count": 24,
   "metadata": {
    "collapsed": true
   },
   "outputs": [],
   "source": [
    "final_vectorizer = TfidfVectorizer(analyzer = 'word', stop_words = stop_words, ngram_range = (1, 2), max_df = 0.45, min_df = 0.025) "
   ]
  },
  {
   "cell_type": "code",
   "execution_count": 25,
   "metadata": {
    "collapsed": true
   },
   "outputs": [],
   "source": [
    "X_train_tfidf = final_vectorizer.fit_transform(X_train['Document'])\n",
    "X_test_tfidf = final_vectorizer.transform(X_test['Document'])"
   ]
  },
  {
   "cell_type": "code",
   "execution_count": 26,
   "metadata": {
    "collapsed": true
   },
   "outputs": [],
   "source": [
    "terms = final_vectorizer.get_feature_names()\n",
    "ntopics = 2\n",
    "n_top_words = 5\n",
    "\n",
    "def word_topic(tfidf, solution, wordlist):\n",
    "    words_by_topic = tfidf.T * solution\n",
    "    components = pd.DataFrame(words_by_topic, index = wordlist)  \n",
    "    return components\n",
    "\n",
    "def top_words(components, n_top_words):\n",
    "    n_topics = range(components.shape[1])\n",
    "    index = np.repeat(n_topics, n_top_words, axis = 0)\n",
    "    topwords = pd.Series(index = index)\n",
    "    \n",
    "    for column in range(components.shape[1]):\n",
    "        sortedwords = components.iloc[:,column].sort_values(ascending = False)\n",
    "        chosen = sortedwords[:n_top_words]\n",
    "        chosenlist = chosen.index + \" \" + round(chosen, 2).map(str) \n",
    "        topwords.loc[column] = chosenlist\n",
    "    return(topwords)\n",
    "\n",
    "topwords = pd.DataFrame()"
   ]
  },
  {
   "cell_type": "markdown",
   "metadata": {},
   "source": [
    "## Model 1A: Latent Dirichlet Allocation"
   ]
  },
  {
   "cell_type": "code",
   "execution_count": 27,
   "metadata": {
    "collapsed": true
   },
   "outputs": [],
   "source": [
    "lda = LatentDirichletAllocation(ntopics, random_state = 0)\n",
    "X_train_lda = lda.fit_transform(X_train_tfidf)\n",
    "X_test_lda = lda.transform(X_test_tfidf)"
   ]
  },
  {
   "cell_type": "code",
   "execution_count": 28,
   "metadata": {
    "collapsed": true
   },
   "outputs": [],
   "source": [
    "components_lda_train = word_topic(X_train_tfidf, X_train_lda, terms)\n",
    "topwords['LDA Training Set'] = top_words(components_lda_train, n_top_words)\n",
    "\n",
    "components_lda_test = word_topic(X_test_tfidf, X_test_lda, terms)\n",
    "topwords['LDA Test Set'] = top_words(components_lda_test, n_top_words)"
   ]
  },
  {
   "cell_type": "code",
   "execution_count": 29,
   "metadata": {
    "collapsed": true
   },
   "outputs": [],
   "source": [
    "lda_scaler = preprocessing.QuantileTransformer()\n",
    "X_train_lda = lda_scaler.fit_transform(X_train_lda)\n",
    "X_test_lda = lda_scaler.transform(X_test_lda)"
   ]
  },
  {
   "cell_type": "markdown",
   "metadata": {},
   "source": [
    "### LDA Dataframe Creation: Training Set"
   ]
  },
  {
   "cell_type": "code",
   "execution_count": 30,
   "metadata": {
    "collapsed": false,
    "scrolled": false
   },
   "outputs": [
    {
     "data": {
      "text/html": [
       "<div>\n",
       "<style scoped>\n",
       "    .dataframe tbody tr th:only-of-type {\n",
       "        vertical-align: middle;\n",
       "    }\n",
       "\n",
       "    .dataframe tbody tr th {\n",
       "        vertical-align: top;\n",
       "    }\n",
       "\n",
       "    .dataframe thead th {\n",
       "        text-align: right;\n",
       "    }\n",
       "</style>\n",
       "<table border=\"1\" class=\"dataframe\">\n",
       "  <thead>\n",
       "    <tr style=\"text-align: right;\">\n",
       "      <th></th>\n",
       "      <th>Search Term</th>\n",
       "      <th>Site</th>\n",
       "      <th>Link</th>\n",
       "      <th>Document</th>\n",
       "      <th>0</th>\n",
       "      <th>1</th>\n",
       "      <th>Topic</th>\n",
       "    </tr>\n",
       "  </thead>\n",
       "  <tbody>\n",
       "    <tr>\n",
       "      <th>89</th>\n",
       "      <td>Boko Haram</td>\n",
       "      <td>The Nation</td>\n",
       "      <td>http://thenationonlineng.net/boko-haram-sacks-...</td>\n",
       "      <td>suspected boko haram insurgents on saturday...</td>\n",
       "      <td>0.253279</td>\n",
       "      <td>0.746721</td>\n",
       "      <td>1</td>\n",
       "    </tr>\n",
       "    <tr>\n",
       "      <th>72</th>\n",
       "      <td>Ambazonia</td>\n",
       "      <td>The Nation</td>\n",
       "      <td>http://thenationonlineng.net/southern-cameroon...</td>\n",
       "      <td>agitation for independence sparks alleged...</td>\n",
       "      <td>0.800012</td>\n",
       "      <td>0.199988</td>\n",
       "      <td>0</td>\n",
       "    </tr>\n",
       "    <tr>\n",
       "      <th>31</th>\n",
       "      <td>Boko Haram</td>\n",
       "      <td>Vanguard</td>\n",
       "      <td>https://www.vanguardngr.com/2018/10/breaking-b...</td>\n",
       "      <td>boko haram jihadists on saturday hacked    fa...</td>\n",
       "      <td>0.147100</td>\n",
       "      <td>0.852900</td>\n",
       "      <td>1</td>\n",
       "    </tr>\n",
       "    <tr>\n",
       "      <th>51</th>\n",
       "      <td>Ambazonia</td>\n",
       "      <td>Sun News</td>\n",
       "      <td>http://sunnewsonline.com/biafra-pro-biafra-gro...</td>\n",
       "      <td>jeff amechi agbodo  onitsha the coa...</td>\n",
       "      <td>0.626864</td>\n",
       "      <td>0.373136</td>\n",
       "      <td>0</td>\n",
       "    </tr>\n",
       "    <tr>\n",
       "      <th>240</th>\n",
       "      <td>Boko Haram</td>\n",
       "      <td>Independent</td>\n",
       "      <td>https://www.independent.ng/fg-reintegrates-254...</td>\n",
       "      <td>bamidele shafa the federal government has sai...</td>\n",
       "      <td>0.093511</td>\n",
       "      <td>0.906489</td>\n",
       "      <td>1</td>\n",
       "    </tr>\n",
       "  </tbody>\n",
       "</table>\n",
       "</div>"
      ],
      "text/plain": [
       "    Search Term         Site  \\\n",
       "89   Boko Haram   The Nation   \n",
       "72    Ambazonia   The Nation   \n",
       "31   Boko Haram     Vanguard   \n",
       "51    Ambazonia     Sun News   \n",
       "240  Boko Haram  Independent   \n",
       "\n",
       "                                                  Link  \\\n",
       "89   http://thenationonlineng.net/boko-haram-sacks-...   \n",
       "72   http://thenationonlineng.net/southern-cameroon...   \n",
       "31   https://www.vanguardngr.com/2018/10/breaking-b...   \n",
       "51   http://sunnewsonline.com/biafra-pro-biafra-gro...   \n",
       "240  https://www.independent.ng/fg-reintegrates-254...   \n",
       "\n",
       "                                              Document         0         1  \\\n",
       "89      suspected boko haram insurgents on saturday...  0.253279  0.746721   \n",
       "72        agitation for independence sparks alleged...  0.800012  0.199988   \n",
       "31    boko haram jihadists on saturday hacked    fa...  0.147100  0.852900   \n",
       "51              jeff amechi agbodo  onitsha the coa...  0.626864  0.373136   \n",
       "240   bamidele shafa the federal government has sai...  0.093511  0.906489   \n",
       "\n",
       "     Topic  \n",
       "89       1  \n",
       "72       0  \n",
       "31       1  \n",
       "51       0  \n",
       "240      1  "
      ]
     },
     "execution_count": 30,
     "metadata": {},
     "output_type": "execute_result"
    }
   ],
   "source": [
    "train_lda = pd.DataFrame()\n",
    "train_lda = X_train\n",
    "lda_df_train = pd.DataFrame(X_train_lda, index = train_lda.index)\n",
    "train_lda = pd.concat([train_lda, lda_df_train], axis = 1)\n",
    "train_lda['Topic'] = train_lda.iloc[:, 4:6].idxmax(axis = 1)\n",
    "train_lda.head()"
   ]
  },
  {
   "cell_type": "markdown",
   "metadata": {},
   "source": [
    "### LDA Topic Distribution: Training Set"
   ]
  },
  {
   "cell_type": "code",
   "execution_count": 31,
   "metadata": {
    "collapsed": false
   },
   "outputs": [
    {
     "data": {
      "image/png": "[encoded data removed]",
      "text/plain": [
       "<matplotlib.figure.Figure at 0x16f120dd5c0>"
      ]
     },
     "metadata": {
      "needs_background": "light"
     },
     "output_type": "display_data"
    }
   ],
   "source": [
    "loadings_lda_violin_train = sns.violinplot(data = train_lda.iloc[:, 4:6], palette = 'Reds')\n",
    "x_label = plt.xlabel(\"Topic\") \n",
    "y_label = plt.ylabel(\"Loading Distribution\") \n",
    "y_lim = plt.ylim(-0.5, 1.5)"
   ]
  },
  {
   "cell_type": "markdown",
   "metadata": {},
   "source": [
    "### LDA Document Distribution Into Topics: Training Set"
   ]
  },
  {
   "cell_type": "code",
   "execution_count": 32,
   "metadata": {
    "collapsed": false,
    "scrolled": true
   },
   "outputs": [
    {
     "data": {
      "text/plain": [
       "1    38\n",
       "0    38\n",
       "Name: Topic, dtype: int64"
      ]
     },
     "execution_count": 32,
     "metadata": {},
     "output_type": "execute_result"
    }
   ],
   "source": [
    "train_lda['Topic'].value_counts()"
   ]
  },
  {
   "cell_type": "code",
   "execution_count": 33,
   "metadata": {
    "collapsed": false
   },
   "outputs": [
    {
     "data": {
      "image/png": "[encoded data removed]",
      "text/plain": [
       "<matplotlib.figure.Figure at 0x16f0b3084e0>"
      ]
     },
     "metadata": {
      "needs_background": "light"
     },
     "output_type": "display_data"
    }
   ],
   "source": [
    "lda_topic_dist_train = sns.countplot(x = train_lda['Topic'], palette = 'Reds')\n",
    "y_label = plt.ylabel(\"Count\") \n",
    "y_lim = plt.ylim(0, 75)"
   ]
  },
  {
   "cell_type": "markdown",
   "metadata": {},
   "source": [
    "### LDA Training Set Confusion Matrix: 'Topic' vs. 'Search Term'"
   ]
  },
  {
   "cell_type": "code",
   "execution_count": 34,
   "metadata": {
    "collapsed": true
   },
   "outputs": [],
   "source": [
    "train_lda['Recode'] = np.where(train_lda['Search Term'] == 'Ambazonia', 0, 1)"
   ]
  },
  {
   "cell_type": "code",
   "execution_count": 35,
   "metadata": {
    "collapsed": false,
    "scrolled": false
   },
   "outputs": [
    {
     "name": "stdout",
     "output_type": "stream",
     "text": [
      "LDA Training Set Type I Error Rate: 14.71%.\n",
      "LDA Training Set Type II Error Rate: 21.43%.\n",
      "\n"
     ]
    }
   ],
   "source": [
    "actuals_train_lda = train_lda['Recode']\n",
    "predictions_train_lda = train_lda['Topic']\n",
    "matrix_train_lda = confusion_matrix(actuals_train_lda, predictions_train_lda)\n",
    "tI_errors_train_lda = (matrix_train_lda[0][1] / (matrix_train_lda[0][0] + matrix_train_lda[0][1]))\n",
    "tII_errors_train_lda = (matrix_train_lda[1][0] / (matrix_train_lda[1][0] + matrix_train_lda[1][1]))\n",
    "print(('LDA Training Set Type I Error Rate: {:.2%}.\\n'\n",
    "       'LDA Training Set Type II Error Rate: {:.2%}.\\n').format(tI_errors_train_lda, tII_errors_train_lda))"
   ]
  },
  {
   "cell_type": "markdown",
   "metadata": {},
   "source": [
    "### LDA Dataframe Creation: Test Set"
   ]
  },
  {
   "cell_type": "code",
   "execution_count": 36,
   "metadata": {
    "collapsed": false,
    "scrolled": false
   },
   "outputs": [
    {
     "data": {
      "text/html": [
       "<div>\n",
       "<style scoped>\n",
       "    .dataframe tbody tr th:only-of-type {\n",
       "        vertical-align: middle;\n",
       "    }\n",
       "\n",
       "    .dataframe tbody tr th {\n",
       "        vertical-align: top;\n",
       "    }\n",
       "\n",
       "    .dataframe thead th {\n",
       "        text-align: right;\n",
       "    }\n",
       "</style>\n",
       "<table border=\"1\" class=\"dataframe\">\n",
       "  <thead>\n",
       "    <tr style=\"text-align: right;\">\n",
       "      <th></th>\n",
       "      <th>Search Term</th>\n",
       "      <th>Site</th>\n",
       "      <th>Link</th>\n",
       "      <th>Document</th>\n",
       "      <th>0</th>\n",
       "      <th>1</th>\n",
       "      <th>Topic</th>\n",
       "    </tr>\n",
       "  </thead>\n",
       "  <tbody>\n",
       "    <tr>\n",
       "      <th>236</th>\n",
       "      <td>Boko Haram</td>\n",
       "      <td>Independent</td>\n",
       "      <td>https://www.independent.ng/boko-haram-kills-12...</td>\n",
       "      <td>the national emergency management agency  ne...</td>\n",
       "      <td>0.273230</td>\n",
       "      <td>0.726770</td>\n",
       "      <td>1</td>\n",
       "    </tr>\n",
       "    <tr>\n",
       "      <th>80</th>\n",
       "      <td>Ambazonia</td>\n",
       "      <td>The Nation</td>\n",
       "      <td>http://thenationonlineng.net/grand-deception-1...</td>\n",
       "      <td>nigerians especially those living in urban c...</td>\n",
       "      <td>0.733107</td>\n",
       "      <td>0.266893</td>\n",
       "      <td>0</td>\n",
       "    </tr>\n",
       "    <tr>\n",
       "      <th>47</th>\n",
       "      <td>Ambazonia</td>\n",
       "      <td>Sun News</td>\n",
       "      <td>http://sunnewsonline.com/gov-ayade-raises-alar...</td>\n",
       "      <td>nan gov  ben ayade of cross river h...</td>\n",
       "      <td>0.674618</td>\n",
       "      <td>0.325382</td>\n",
       "      <td>0</td>\n",
       "    </tr>\n",
       "    <tr>\n",
       "      <th>238</th>\n",
       "      <td>Boko Haram</td>\n",
       "      <td>Independent</td>\n",
       "      <td>https://www.independent.ng/boko-haram-sacks-tw...</td>\n",
       "      <td>suspected boko haram insurgents on saturday ...</td>\n",
       "      <td>0.256795</td>\n",
       "      <td>0.743205</td>\n",
       "      <td>1</td>\n",
       "    </tr>\n",
       "    <tr>\n",
       "      <th>124</th>\n",
       "      <td>Boko Haram</td>\n",
       "      <td>Tribune</td>\n",
       "      <td>https://www.tribuneonlineng.com/165727/</td>\n",
       "      <td>the igbo professionals in diasp...</td>\n",
       "      <td>0.559952</td>\n",
       "      <td>0.440048</td>\n",
       "      <td>0</td>\n",
       "    </tr>\n",
       "  </tbody>\n",
       "</table>\n",
       "</div>"
      ],
      "text/plain": [
       "    Search Term         Site  \\\n",
       "236  Boko Haram  Independent   \n",
       "80    Ambazonia   The Nation   \n",
       "47    Ambazonia     Sun News   \n",
       "238  Boko Haram  Independent   \n",
       "124  Boko Haram      Tribune   \n",
       "\n",
       "                                                  Link  \\\n",
       "236  https://www.independent.ng/boko-haram-kills-12...   \n",
       "80   http://thenationonlineng.net/grand-deception-1...   \n",
       "47   http://sunnewsonline.com/gov-ayade-raises-alar...   \n",
       "238  https://www.independent.ng/boko-haram-sacks-tw...   \n",
       "124            https://www.tribuneonlineng.com/165727/   \n",
       "\n",
       "                                              Document         0         1  \\\n",
       "236    the national emergency management agency  ne...  0.273230  0.726770   \n",
       "80     nigerians especially those living in urban c...  0.733107  0.266893   \n",
       "47              nan gov  ben ayade of cross river h...  0.674618  0.325382   \n",
       "238    suspected boko haram insurgents on saturday ...  0.256795  0.743205   \n",
       "124                 the igbo professionals in diasp...  0.559952  0.440048   \n",
       "\n",
       "     Topic  \n",
       "236      1  \n",
       "80       0  \n",
       "47       0  \n",
       "238      1  \n",
       "124      0  "
      ]
     },
     "execution_count": 36,
     "metadata": {},
     "output_type": "execute_result"
    }
   ],
   "source": [
    "test_lda = pd.DataFrame()\n",
    "test_lda = X_test\n",
    "lda_df_test = pd.DataFrame(X_test_lda, index = test_lda.index)\n",
    "test_lda = pd.concat([test_lda, lda_df_test], axis = 1)\n",
    "test_lda['Topic'] = test_lda.iloc[:, 4:6].idxmax(axis = 1)\n",
    "test_lda.head()"
   ]
  },
  {
   "cell_type": "markdown",
   "metadata": {},
   "source": [
    "### LDA Topic Distribution: Test Set"
   ]
  },
  {
   "cell_type": "code",
   "execution_count": 37,
   "metadata": {
    "collapsed": false
   },
   "outputs": [
    {
     "data": {
      "image/png": "[encoded data removed]",
      "text/plain": [
       "<matplotlib.figure.Figure at 0x16f127bdc18>"
      ]
     },
     "metadata": {
      "needs_background": "light"
     },
     "output_type": "display_data"
    }
   ],
   "source": [
    "loadings_lda_violin_test = sns.violinplot(data = test_lda.iloc[:, 4:6], palette = 'Reds')\n",
    "x_label = plt.xlabel(\"Topic\") \n",
    "y_label = plt.ylabel(\"Loading Distribution\") \n",
    "y_lim = plt.ylim(-0.5, 1.5)"
   ]
  },
  {
   "cell_type": "markdown",
   "metadata": {},
   "source": [
    "### LDA Document Distribution Into Topics: Test Set"
   ]
  },
  {
   "cell_type": "code",
   "execution_count": 38,
   "metadata": {
    "collapsed": false,
    "scrolled": true
   },
   "outputs": [
    {
     "data": {
      "text/plain": [
       "0    15\n",
       "1    11\n",
       "Name: Topic, dtype: int64"
      ]
     },
     "execution_count": 38,
     "metadata": {},
     "output_type": "execute_result"
    }
   ],
   "source": [
    "test_lda['Topic'].value_counts()"
   ]
  },
  {
   "cell_type": "code",
   "execution_count": 39,
   "metadata": {
    "collapsed": false
   },
   "outputs": [
    {
     "data": {
      "image/png": "[encoded data removed]",
      "text/plain": [
       "<matplotlib.figure.Figure at 0x16f12726c50>"
      ]
     },
     "metadata": {
      "needs_background": "light"
     },
     "output_type": "display_data"
    }
   ],
   "source": [
    "lda_topic_dist_test = sns.countplot(x = test_lda['Topic'], palette = 'Reds')\n",
    "y_label = plt.ylabel(\"Count\") \n",
    "y_lim = plt.ylim(0, 75)"
   ]
  },
  {
   "cell_type": "markdown",
   "metadata": {},
   "source": [
    "### LDA Test Set Confusion Matrix: 'Topic' vs. 'Search Term'"
   ]
  },
  {
   "cell_type": "code",
   "execution_count": 40,
   "metadata": {
    "collapsed": true
   },
   "outputs": [],
   "source": [
    "test_lda['Recode'] = np.where(test_lda['Search Term'] == 'Ambazonia', 0, 1)"
   ]
  },
  {
   "cell_type": "code",
   "execution_count": 41,
   "metadata": {
    "collapsed": false
   },
   "outputs": [
    {
     "name": "stdout",
     "output_type": "stream",
     "text": [
      "LDA Test Set Type I Error Rate: 9.09%.\n",
      "LDA Test Set Type II Error Rate: 33.33%.\n",
      "\n"
     ]
    }
   ],
   "source": [
    "actuals_test_lda = test_lda['Recode']\n",
    "predictions_test_lda = test_lda['Topic']\n",
    "matrix_test_lda = confusion_matrix(actuals_test_lda, predictions_test_lda)\n",
    "tI_errors_test_lda = (matrix_test_lda[0][1] / (matrix_test_lda[0][0] + matrix_test_lda[0][1]))\n",
    "tII_errors_test_lda = (matrix_test_lda[1][0] / (matrix_test_lda[1][0] + matrix_test_lda[1][1]))\n",
    "print(('LDA Test Set Type I Error Rate: {:.2%}.\\n'\n",
    "       'LDA Test Set Type II Error Rate: {:.2%}.\\n').format(tI_errors_test_lda, tII_errors_test_lda))"
   ]
  },
  {
   "cell_type": "markdown",
   "metadata": {},
   "source": [
    "## Model 1B: Latent Semantic Analysis. "
   ]
  },
  {
   "cell_type": "code",
   "execution_count": 42,
   "metadata": {
    "collapsed": true
   },
   "outputs": [],
   "source": [
    "svd = TruncatedSVD(ntopics, random_state = 0)\n",
    "lsa = make_pipeline(svd, preprocessing.Normalizer(copy = False))\n",
    "X_train_lsa = lsa.fit_transform(X_train_tfidf)\n",
    "X_test_lsa = lsa.transform(X_test_tfidf)\n",
    "\n",
    "components_lsa_train = word_topic(X_train_tfidf, X_train_lsa, terms)\n",
    "topwords['LSA Training Set'] = top_words(components_lsa_train, n_top_words) \n",
    "\n",
    "components_lsa_test = word_topic(X_test_tfidf, X_test_lsa, terms)\n",
    "topwords['LSA Test Set'] = top_words(components_lsa_test, n_top_words)"
   ]
  },
  {
   "cell_type": "code",
   "execution_count": 43,
   "metadata": {
    "collapsed": true
   },
   "outputs": [],
   "source": [
    "lsa_scaler = preprocessing.QuantileTransformer()\n",
    "X_train_lsa = lsa_scaler.fit_transform(X_train_lsa)\n",
    "X_test_lsa = lsa_scaler.transform(X_test_lsa)"
   ]
  },
  {
   "cell_type": "markdown",
   "metadata": {},
   "source": [
    "### LSA Dataframe Creation: Training Set"
   ]
  },
  {
   "cell_type": "code",
   "execution_count": 44,
   "metadata": {
    "collapsed": false,
    "scrolled": true
   },
   "outputs": [
    {
     "data": {
      "text/html": [
       "<div>\n",
       "<style scoped>\n",
       "    .dataframe tbody tr th:only-of-type {\n",
       "        vertical-align: middle;\n",
       "    }\n",
       "\n",
       "    .dataframe tbody tr th {\n",
       "        vertical-align: top;\n",
       "    }\n",
       "\n",
       "    .dataframe thead th {\n",
       "        text-align: right;\n",
       "    }\n",
       "</style>\n",
       "<table border=\"1\" class=\"dataframe\">\n",
       "  <thead>\n",
       "    <tr style=\"text-align: right;\">\n",
       "      <th></th>\n",
       "      <th>Search Term</th>\n",
       "      <th>Site</th>\n",
       "      <th>Link</th>\n",
       "      <th>Document</th>\n",
       "      <th>0</th>\n",
       "      <th>1</th>\n",
       "      <th>Topic</th>\n",
       "    </tr>\n",
       "  </thead>\n",
       "  <tbody>\n",
       "    <tr>\n",
       "      <th>89</th>\n",
       "      <td>Boko Haram</td>\n",
       "      <td>The Nation</td>\n",
       "      <td>http://thenationonlineng.net/boko-haram-sacks-...</td>\n",
       "      <td>suspected boko haram insurgents on saturday...</td>\n",
       "      <td>0.106486</td>\n",
       "      <td>0.893837</td>\n",
       "      <td>1</td>\n",
       "    </tr>\n",
       "    <tr>\n",
       "      <th>72</th>\n",
       "      <td>Ambazonia</td>\n",
       "      <td>The Nation</td>\n",
       "      <td>http://thenationonlineng.net/southern-cameroon...</td>\n",
       "      <td>agitation for independence sparks alleged...</td>\n",
       "      <td>0.560305</td>\n",
       "      <td>0.373362</td>\n",
       "      <td>0</td>\n",
       "    </tr>\n",
       "    <tr>\n",
       "      <th>31</th>\n",
       "      <td>Boko Haram</td>\n",
       "      <td>Vanguard</td>\n",
       "      <td>https://www.vanguardngr.com/2018/10/breaking-b...</td>\n",
       "      <td>boko haram jihadists on saturday hacked    fa...</td>\n",
       "      <td>0.853656</td>\n",
       "      <td>0.772985</td>\n",
       "      <td>0</td>\n",
       "    </tr>\n",
       "    <tr>\n",
       "      <th>51</th>\n",
       "      <td>Ambazonia</td>\n",
       "      <td>Sun News</td>\n",
       "      <td>http://sunnewsonline.com/biafra-pro-biafra-gro...</td>\n",
       "      <td>jeff amechi agbodo  onitsha the coa...</td>\n",
       "      <td>0.587546</td>\n",
       "      <td>0.400398</td>\n",
       "      <td>0</td>\n",
       "    </tr>\n",
       "    <tr>\n",
       "      <th>240</th>\n",
       "      <td>Boko Haram</td>\n",
       "      <td>Independent</td>\n",
       "      <td>https://www.independent.ng/fg-reintegrates-254...</td>\n",
       "      <td>bamidele shafa the federal government has sai...</td>\n",
       "      <td>0.013255</td>\n",
       "      <td>0.986755</td>\n",
       "      <td>1</td>\n",
       "    </tr>\n",
       "  </tbody>\n",
       "</table>\n",
       "</div>"
      ],
      "text/plain": [
       "    Search Term         Site  \\\n",
       "89   Boko Haram   The Nation   \n",
       "72    Ambazonia   The Nation   \n",
       "31   Boko Haram     Vanguard   \n",
       "51    Ambazonia     Sun News   \n",
       "240  Boko Haram  Independent   \n",
       "\n",
       "                                                  Link  \\\n",
       "89   http://thenationonlineng.net/boko-haram-sacks-...   \n",
       "72   http://thenationonlineng.net/southern-cameroon...   \n",
       "31   https://www.vanguardngr.com/2018/10/breaking-b...   \n",
       "51   http://sunnewsonline.com/biafra-pro-biafra-gro...   \n",
       "240  https://www.independent.ng/fg-reintegrates-254...   \n",
       "\n",
       "                                              Document         0         1  \\\n",
       "89      suspected boko haram insurgents on saturday...  0.106486  0.893837   \n",
       "72        agitation for independence sparks alleged...  0.560305  0.373362   \n",
       "31    boko haram jihadists on saturday hacked    fa...  0.853656  0.772985   \n",
       "51              jeff amechi agbodo  onitsha the coa...  0.587546  0.400398   \n",
       "240   bamidele shafa the federal government has sai...  0.013255  0.986755   \n",
       "\n",
       "     Topic  \n",
       "89       1  \n",
       "72       0  \n",
       "31       0  \n",
       "51       0  \n",
       "240      1  "
      ]
     },
     "execution_count": 44,
     "metadata": {},
     "output_type": "execute_result"
    }
   ],
   "source": [
    "train_lsa = pd.DataFrame()\n",
    "train_lsa = X_train\n",
    "lsa_df_train = pd.DataFrame(X_train_lsa, index = train_lsa.index)\n",
    "train_lsa = pd.concat([train_lsa, lsa_df_train], axis = 1)\n",
    "train_lsa['Topic'] = train_lsa.iloc[:, 4:6].idxmax(axis = 1)\n",
    "train_lsa.head()"
   ]
  },
  {
   "cell_type": "markdown",
   "metadata": {},
   "source": [
    "### LSA Topic Distribution: Training Set"
   ]
  },
  {
   "cell_type": "code",
   "execution_count": 45,
   "metadata": {
    "collapsed": false,
    "scrolled": true
   },
   "outputs": [
    {
     "data": {
      "image/png": "[encoded data removed]",
      "text/plain": [
       "<matplotlib.figure.Figure at 0x16f11e25940>"
      ]
     },
     "metadata": {
      "needs_background": "light"
     },
     "output_type": "display_data"
    }
   ],
   "source": [
    "loadings_lsa_violin_train = sns.violinplot(data = train_lsa.iloc[:, 4:6], palette = 'Reds')\n",
    "x_label = plt.xlabel(\"Topic\") \n",
    "y_label = plt.ylabel(\"Loading Distribution\") \n",
    "y_lim = plt.ylim(-0.5, 1.5)"
   ]
  },
  {
   "cell_type": "markdown",
   "metadata": {},
   "source": [
    "### LSA Document Distribution Into Topics: Training Set"
   ]
  },
  {
   "cell_type": "code",
   "execution_count": 46,
   "metadata": {
    "collapsed": false
   },
   "outputs": [
    {
     "data": {
      "text/plain": [
       "0    59\n",
       "1    17\n",
       "Name: Topic, dtype: int64"
      ]
     },
     "execution_count": 46,
     "metadata": {},
     "output_type": "execute_result"
    }
   ],
   "source": [
    "train_lsa['Topic'].value_counts()"
   ]
  },
  {
   "cell_type": "code",
   "execution_count": 47,
   "metadata": {
    "collapsed": false
   },
   "outputs": [
    {
     "data": {
      "image/png": "[encoded data removed]",
      "text/plain": [
       "<matplotlib.figure.Figure at 0x16f127266a0>"
      ]
     },
     "metadata": {
      "needs_background": "light"
     },
     "output_type": "display_data"
    }
   ],
   "source": [
    "lsa_topic_dist_train = sns.countplot(x = train_lsa['Topic'], palette = 'Reds')\n",
    "y_label = plt.ylabel(\"Count\") \n",
    "y_lim = plt.ylim(0, 75)"
   ]
  },
  {
   "cell_type": "markdown",
   "metadata": {},
   "source": [
    "### LSA Training Set Confusion Matrix: 'Topic' vs. 'Search Term'"
   ]
  },
  {
   "cell_type": "code",
   "execution_count": 48,
   "metadata": {
    "collapsed": true
   },
   "outputs": [],
   "source": [
    "train_lsa['Recode'] = np.where(train_lsa['Search Term'] == 'Ambazonia', 0, 1)"
   ]
  },
  {
   "cell_type": "code",
   "execution_count": 49,
   "metadata": {
    "collapsed": false
   },
   "outputs": [
    {
     "name": "stdout",
     "output_type": "stream",
     "text": [
      "LSA Training Set Type I Error Rate: 0.00%.\n",
      "LSA Training Set Type II Error Rate: 59.52%.\n",
      "\n"
     ]
    }
   ],
   "source": [
    "actuals_train_lsa = train_lsa['Recode']\n",
    "predictions_train_lsa = train_lsa['Topic']\n",
    "matrix_train_lsa = confusion_matrix(actuals_train_lsa, predictions_train_lsa)\n",
    "tI_errors_train_lsa = (matrix_train_lsa[0][1] / (matrix_train_lsa[0][0] + matrix_train_lsa[0][1]))\n",
    "tII_errors_train_lsa = (matrix_train_lsa[1][0] / (matrix_train_lsa[1][0] + matrix_train_lsa[1][1]))\n",
    "print(('LSA Training Set Type I Error Rate: {:.2%}.\\n'\n",
    "       'LSA Training Set Type II Error Rate: {:.2%}.\\n').format(tI_errors_train_lsa, tII_errors_train_lsa))"
   ]
  },
  {
   "cell_type": "markdown",
   "metadata": {},
   "source": [
    "### LSA Dataframe Creation: Test Set"
   ]
  },
  {
   "cell_type": "code",
   "execution_count": 50,
   "metadata": {
    "collapsed": false,
    "scrolled": true
   },
   "outputs": [
    {
     "data": {
      "text/html": [
       "<div>\n",
       "<style scoped>\n",
       "    .dataframe tbody tr th:only-of-type {\n",
       "        vertical-align: middle;\n",
       "    }\n",
       "\n",
       "    .dataframe tbody tr th {\n",
       "        vertical-align: top;\n",
       "    }\n",
       "\n",
       "    .dataframe thead th {\n",
       "        text-align: right;\n",
       "    }\n",
       "</style>\n",
       "<table border=\"1\" class=\"dataframe\">\n",
       "  <thead>\n",
       "    <tr style=\"text-align: right;\">\n",
       "      <th></th>\n",
       "      <th>Search Term</th>\n",
       "      <th>Site</th>\n",
       "      <th>Link</th>\n",
       "      <th>Document</th>\n",
       "      <th>0</th>\n",
       "      <th>1</th>\n",
       "      <th>Topic</th>\n",
       "    </tr>\n",
       "  </thead>\n",
       "  <tbody>\n",
       "    <tr>\n",
       "      <th>236</th>\n",
       "      <td>Boko Haram</td>\n",
       "      <td>Independent</td>\n",
       "      <td>https://www.independent.ng/boko-haram-kills-12...</td>\n",
       "      <td>the national emergency management agency  ne...</td>\n",
       "      <td>0.053034</td>\n",
       "      <td>0.947437</td>\n",
       "      <td>1</td>\n",
       "    </tr>\n",
       "    <tr>\n",
       "      <th>80</th>\n",
       "      <td>Ambazonia</td>\n",
       "      <td>The Nation</td>\n",
       "      <td>http://thenationonlineng.net/grand-deception-1...</td>\n",
       "      <td>nigerians especially those living in urban c...</td>\n",
       "      <td>0.391688</td>\n",
       "      <td>0.244964</td>\n",
       "      <td>0</td>\n",
       "    </tr>\n",
       "    <tr>\n",
       "      <th>47</th>\n",
       "      <td>Ambazonia</td>\n",
       "      <td>Sun News</td>\n",
       "      <td>http://sunnewsonline.com/gov-ayade-raises-alar...</td>\n",
       "      <td>nan gov  ben ayade of cross river h...</td>\n",
       "      <td>0.452784</td>\n",
       "      <td>0.306079</td>\n",
       "      <td>0</td>\n",
       "    </tr>\n",
       "    <tr>\n",
       "      <th>238</th>\n",
       "      <td>Boko Haram</td>\n",
       "      <td>Independent</td>\n",
       "      <td>https://www.independent.ng/boko-haram-sacks-tw...</td>\n",
       "      <td>suspected boko haram insurgents on saturday ...</td>\n",
       "      <td>0.136147</td>\n",
       "      <td>0.888918</td>\n",
       "      <td>1</td>\n",
       "    </tr>\n",
       "    <tr>\n",
       "      <th>124</th>\n",
       "      <td>Boko Haram</td>\n",
       "      <td>Tribune</td>\n",
       "      <td>https://www.tribuneonlineng.com/165727/</td>\n",
       "      <td>the igbo professionals in diasp...</td>\n",
       "      <td>1.000000</td>\n",
       "      <td>0.710085</td>\n",
       "      <td>0</td>\n",
       "    </tr>\n",
       "  </tbody>\n",
       "</table>\n",
       "</div>"
      ],
      "text/plain": [
       "    Search Term         Site  \\\n",
       "236  Boko Haram  Independent   \n",
       "80    Ambazonia   The Nation   \n",
       "47    Ambazonia     Sun News   \n",
       "238  Boko Haram  Independent   \n",
       "124  Boko Haram      Tribune   \n",
       "\n",
       "                                                  Link  \\\n",
       "236  https://www.independent.ng/boko-haram-kills-12...   \n",
       "80   http://thenationonlineng.net/grand-deception-1...   \n",
       "47   http://sunnewsonline.com/gov-ayade-raises-alar...   \n",
       "238  https://www.independent.ng/boko-haram-sacks-tw...   \n",
       "124            https://www.tribuneonlineng.com/165727/   \n",
       "\n",
       "                                              Document         0         1  \\\n",
       "236    the national emergency management agency  ne...  0.053034  0.947437   \n",
       "80     nigerians especially those living in urban c...  0.391688  0.244964   \n",
       "47              nan gov  ben ayade of cross river h...  0.452784  0.306079   \n",
       "238    suspected boko haram insurgents on saturday ...  0.136147  0.888918   \n",
       "124                 the igbo professionals in diasp...  1.000000  0.710085   \n",
       "\n",
       "     Topic  \n",
       "236      1  \n",
       "80       0  \n",
       "47       0  \n",
       "238      1  \n",
       "124      0  "
      ]
     },
     "execution_count": 50,
     "metadata": {},
     "output_type": "execute_result"
    }
   ],
   "source": [
    "test_lsa = pd.DataFrame()\n",
    "test_lsa = X_test\n",
    "lsa_df_test = pd.DataFrame(X_test_lsa, index = test_lsa.index)\n",
    "test_lsa = pd.concat([test_lsa, lsa_df_test], axis = 1)\n",
    "test_lsa['Topic'] = test_lsa.iloc[:, 4:6].idxmax(axis = 1)\n",
    "test_lsa.head()"
   ]
  },
  {
   "cell_type": "markdown",
   "metadata": {},
   "source": [
    "### LSA Topic Distribution: Test Set"
   ]
  },
  {
   "cell_type": "code",
   "execution_count": 51,
   "metadata": {
    "collapsed": false
   },
   "outputs": [
    {
     "data": {
      "image/png": "[encoded data removed]",
      "text/plain": [
       "<matplotlib.figure.Figure at 0x16f129fe3c8>"
      ]
     },
     "metadata": {
      "needs_background": "light"
     },
     "output_type": "display_data"
    }
   ],
   "source": [
    "loadings_lsa_violin_test = sns.violinplot(data = test_lsa.iloc[:, 4:6], palette = 'Reds')\n",
    "x_label = plt.xlabel(\"Topic\") \n",
    "y_label = plt.ylabel(\"Loading Distribution\") \n",
    "y_lim = plt.ylim(-0.5, 1.5)"
   ]
  },
  {
   "cell_type": "markdown",
   "metadata": {},
   "source": [
    "### LSA Document Distribution Into Topics: Test Set"
   ]
  },
  {
   "cell_type": "code",
   "execution_count": 52,
   "metadata": {
    "collapsed": false,
    "scrolled": true
   },
   "outputs": [
    {
     "data": {
      "text/plain": [
       "0    19\n",
       "1     7\n",
       "Name: Topic, dtype: int64"
      ]
     },
     "execution_count": 52,
     "metadata": {},
     "output_type": "execute_result"
    }
   ],
   "source": [
    "test_lsa['Topic'].value_counts()"
   ]
  },
  {
   "cell_type": "code",
   "execution_count": 53,
   "metadata": {
    "collapsed": false
   },
   "outputs": [
    {
     "data": {
      "image/png": "[encoded data removed]",
      "text/plain": [
       "<matplotlib.figure.Figure at 0x16f12a5c8d0>"
      ]
     },
     "metadata": {
      "needs_background": "light"
     },
     "output_type": "display_data"
    }
   ],
   "source": [
    "lsa_topic_dist_test = sns.countplot(x = test_lsa['Topic'], palette = 'Reds')\n",
    "y_label = plt.ylabel(\"Count\") \n",
    "y_lim = plt.ylim(0, 75)"
   ]
  },
  {
   "cell_type": "markdown",
   "metadata": {},
   "source": [
    "### LSA Test Set Confusion Matrix: 'Topic' vs. 'Search Term'"
   ]
  },
  {
   "cell_type": "code",
   "execution_count": 54,
   "metadata": {
    "collapsed": true
   },
   "outputs": [],
   "source": [
    "test_lsa['Recode'] = np.where(test_lsa['Search Term'] == 'Ambazonia', 0, 1)"
   ]
  },
  {
   "cell_type": "code",
   "execution_count": 55,
   "metadata": {
    "collapsed": false
   },
   "outputs": [
    {
     "name": "stdout",
     "output_type": "stream",
     "text": [
      "LSA Test Set Type I Error Rate: 0.00%.\n",
      "LSA Test Set Type II Error Rate: 53.33%.\n",
      "\n"
     ]
    }
   ],
   "source": [
    "actuals_test_lsa = test_lsa['Recode']\n",
    "predictions_test_lsa = test_lsa['Topic']\n",
    "matrix_test_lsa = confusion_matrix(actuals_test_lsa, predictions_test_lsa)\n",
    "tI_errors_test_lsa = (matrix_test_lsa[0][1] / (matrix_test_lsa[0][0] + matrix_test_lsa[0][1]))\n",
    "tII_errors_test_lsa = (matrix_test_lsa[1][0] / (matrix_test_lsa[1][0] + matrix_test_lsa[1][1]))\n",
    "print(('LSA Test Set Type I Error Rate: {:.2%}.\\n'\n",
    "       'LSA Test Set Type II Error Rate: {:.2%}.\\n').format(tI_errors_test_lsa, tII_errors_test_lsa))"
   ]
  },
  {
   "cell_type": "markdown",
   "metadata": {},
   "source": [
    "## Model 1C: Non-Negative Matrix Factorization"
   ]
  },
  {
   "cell_type": "code",
   "execution_count": 56,
   "metadata": {
    "collapsed": true
   },
   "outputs": [],
   "source": [
    "nmf = NMF(ntopics, random_state = 0)\n",
    "X_train_nmf = nmf.fit_transform(X_train_tfidf)\n",
    "X_test_nmf = nmf.transform(X_test_tfidf)\n",
    "\n",
    "components_nmf_train = word_topic(X_train_tfidf, X_train_nmf, terms)\n",
    "topwords['NMF Training Set'] = top_words(components_nmf_train, n_top_words) \n",
    "\n",
    "components_nmf_test = word_topic(X_test_tfidf, X_test_nmf, terms)\n",
    "topwords['NMF Test Set'] = top_words(components_nmf_test, n_top_words)"
   ]
  },
  {
   "cell_type": "code",
   "execution_count": 57,
   "metadata": {
    "collapsed": true
   },
   "outputs": [],
   "source": [
    "nmf_scaler = preprocessing.QuantileTransformer()\n",
    "X_train_nmf = nmf_scaler.fit_transform(X_train_nmf)\n",
    "X_test_nmf = nmf_scaler.transform(X_test_nmf)"
   ]
  },
  {
   "cell_type": "markdown",
   "metadata": {},
   "source": [
    "### NMF Dataframe Creation: Training Set"
   ]
  },
  {
   "cell_type": "code",
   "execution_count": 58,
   "metadata": {
    "collapsed": false,
    "scrolled": false
   },
   "outputs": [
    {
     "data": {
      "text/html": [
       "<div>\n",
       "<style scoped>\n",
       "    .dataframe tbody tr th:only-of-type {\n",
       "        vertical-align: middle;\n",
       "    }\n",
       "\n",
       "    .dataframe tbody tr th {\n",
       "        vertical-align: top;\n",
       "    }\n",
       "\n",
       "    .dataframe thead th {\n",
       "        text-align: right;\n",
       "    }\n",
       "</style>\n",
       "<table border=\"1\" class=\"dataframe\">\n",
       "  <thead>\n",
       "    <tr style=\"text-align: right;\">\n",
       "      <th></th>\n",
       "      <th>Search Term</th>\n",
       "      <th>Site</th>\n",
       "      <th>Link</th>\n",
       "      <th>Document</th>\n",
       "      <th>0</th>\n",
       "      <th>1</th>\n",
       "      <th>Topic</th>\n",
       "    </tr>\n",
       "  </thead>\n",
       "  <tbody>\n",
       "    <tr>\n",
       "      <th>89</th>\n",
       "      <td>Boko Haram</td>\n",
       "      <td>The Nation</td>\n",
       "      <td>http://thenationonlineng.net/boko-haram-sacks-...</td>\n",
       "      <td>suspected boko haram insurgents on saturday...</td>\n",
       "      <td>2.670874e-01</td>\n",
       "      <td>0.906821</td>\n",
       "      <td>1</td>\n",
       "    </tr>\n",
       "    <tr>\n",
       "      <th>72</th>\n",
       "      <td>Ambazonia</td>\n",
       "      <td>The Nation</td>\n",
       "      <td>http://thenationonlineng.net/southern-cameroon...</td>\n",
       "      <td>agitation for independence sparks alleged...</td>\n",
       "      <td>9.999999e-01</td>\n",
       "      <td>0.440353</td>\n",
       "      <td>0</td>\n",
       "    </tr>\n",
       "    <tr>\n",
       "      <th>31</th>\n",
       "      <td>Boko Haram</td>\n",
       "      <td>Vanguard</td>\n",
       "      <td>https://www.vanguardngr.com/2018/10/breaking-b...</td>\n",
       "      <td>boko haram jihadists on saturday hacked    fa...</td>\n",
       "      <td>3.867741e-01</td>\n",
       "      <td>0.506750</td>\n",
       "      <td>1</td>\n",
       "    </tr>\n",
       "    <tr>\n",
       "      <th>51</th>\n",
       "      <td>Ambazonia</td>\n",
       "      <td>Sun News</td>\n",
       "      <td>http://sunnewsonline.com/biafra-pro-biafra-gro...</td>\n",
       "      <td>jeff amechi agbodo  onitsha the coa...</td>\n",
       "      <td>9.347306e-02</td>\n",
       "      <td>0.560306</td>\n",
       "      <td>1</td>\n",
       "    </tr>\n",
       "    <tr>\n",
       "      <th>240</th>\n",
       "      <td>Boko Haram</td>\n",
       "      <td>Independent</td>\n",
       "      <td>https://www.independent.ng/fg-reintegrates-254...</td>\n",
       "      <td>bamidele shafa the federal government has sai...</td>\n",
       "      <td>1.000000e-07</td>\n",
       "      <td>0.960694</td>\n",
       "      <td>1</td>\n",
       "    </tr>\n",
       "  </tbody>\n",
       "</table>\n",
       "</div>"
      ],
      "text/plain": [
       "    Search Term         Site  \\\n",
       "89   Boko Haram   The Nation   \n",
       "72    Ambazonia   The Nation   \n",
       "31   Boko Haram     Vanguard   \n",
       "51    Ambazonia     Sun News   \n",
       "240  Boko Haram  Independent   \n",
       "\n",
       "                                                  Link  \\\n",
       "89   http://thenationonlineng.net/boko-haram-sacks-...   \n",
       "72   http://thenationonlineng.net/southern-cameroon...   \n",
       "31   https://www.vanguardngr.com/2018/10/breaking-b...   \n",
       "51   http://sunnewsonline.com/biafra-pro-biafra-gro...   \n",
       "240  https://www.independent.ng/fg-reintegrates-254...   \n",
       "\n",
       "                                              Document             0  \\\n",
       "89      suspected boko haram insurgents on saturday...  2.670874e-01   \n",
       "72        agitation for independence sparks alleged...  9.999999e-01   \n",
       "31    boko haram jihadists on saturday hacked    fa...  3.867741e-01   \n",
       "51              jeff amechi agbodo  onitsha the coa...  9.347306e-02   \n",
       "240   bamidele shafa the federal government has sai...  1.000000e-07   \n",
       "\n",
       "            1  Topic  \n",
       "89   0.906821      1  \n",
       "72   0.440353      0  \n",
       "31   0.506750      1  \n",
       "51   0.560306      1  \n",
       "240  0.960694      1  "
      ]
     },
     "execution_count": 58,
     "metadata": {},
     "output_type": "execute_result"
    }
   ],
   "source": [
    "train_nmf = pd.DataFrame()\n",
    "train_nmf = X_train\n",
    "nmf_df_train = pd.DataFrame(X_train_nmf, index = train_nmf.index)\n",
    "train_nmf = pd.concat([train_nmf, nmf_df_train], axis = 1)\n",
    "train_nmf['Topic'] = train_nmf.iloc[:, 4:6].idxmax(axis = 1)\n",
    "train_nmf.head()"
   ]
  },
  {
   "cell_type": "markdown",
   "metadata": {},
   "source": [
    "### NMF Loading Distributions By Tropic: Training Set"
   ]
  },
  {
   "cell_type": "code",
   "execution_count": 59,
   "metadata": {
    "collapsed": false,
    "scrolled": false
   },
   "outputs": [
    {
     "data": {
      "image/png": "[encoded data removed]",
      "text/plain": [
       "<matplotlib.figure.Figure at 0x16f12a2fd68>"
      ]
     },
     "metadata": {
      "needs_background": "light"
     },
     "output_type": "display_data"
    }
   ],
   "source": [
    "loadings_nmf_violin_train = sns.violinplot(data = train_nmf.iloc[:, 4:6], palette = 'Reds')\n",
    "x_label = plt.xlabel(\"Topic\") \n",
    "y_label = plt.ylabel(\"Loading Distribution\")\n",
    "y_lim = plt.ylim(-0.5, 1.5)"
   ]
  },
  {
   "cell_type": "markdown",
   "metadata": {},
   "source": [
    "### NMF Document Distribution Into Topics: Training Set"
   ]
  },
  {
   "cell_type": "code",
   "execution_count": 60,
   "metadata": {
    "collapsed": false,
    "scrolled": true
   },
   "outputs": [
    {
     "data": {
      "text/plain": [
       "0    43\n",
       "1    33\n",
       "Name: Topic, dtype: int64"
      ]
     },
     "execution_count": 60,
     "metadata": {},
     "output_type": "execute_result"
    }
   ],
   "source": [
    "train_nmf['Topic'].value_counts()"
   ]
  },
  {
   "cell_type": "code",
   "execution_count": 61,
   "metadata": {
    "collapsed": false,
    "scrolled": true
   },
   "outputs": [
    {
     "data": {
      "image/png": "[encoded data removed]",
      "text/plain": [
       "<matplotlib.figure.Figure at 0x16f13b32d30>"
      ]
     },
     "metadata": {
      "needs_background": "light"
     },
     "output_type": "display_data"
    }
   ],
   "source": [
    "nmf_topic_dist_train = sns.countplot(x = train_nmf['Topic'], palette = 'Reds')\n",
    "y_label = plt.ylabel(\"Count\") \n",
    "y_lim = plt.ylim(0, 75)"
   ]
  },
  {
   "cell_type": "markdown",
   "metadata": {},
   "source": [
    "### NMF Training Set Confusion Matrix: 'Topic' vs. 'Search Term'"
   ]
  },
  {
   "cell_type": "code",
   "execution_count": 62,
   "metadata": {
    "collapsed": true
   },
   "outputs": [],
   "source": [
    "train_nmf['Recode'] = np.where(train_nmf['Search Term'] == 'Ambazonia', 0, 1)"
   ]
  },
  {
   "cell_type": "code",
   "execution_count": 63,
   "metadata": {
    "collapsed": false
   },
   "outputs": [
    {
     "name": "stdout",
     "output_type": "stream",
     "text": [
      "NMF Training Set Type I Error Rate: 23.53%.\n",
      "NMF Training Set Type II Error Rate: 40.48%.\n",
      "\n"
     ]
    }
   ],
   "source": [
    "actuals_train_nmf = train_nmf['Recode']\n",
    "predictions_train_nmf = train_nmf['Topic']\n",
    "matrix_train_nmf = confusion_matrix(actuals_train_nmf, predictions_train_nmf)\n",
    "tI_errors_train_nmf = (matrix_train_nmf[0][1] / (matrix_train_nmf[0][0] + matrix_train_nmf[0][1]))\n",
    "tII_errors_train_nmf = (matrix_train_nmf[1][0] / (matrix_train_nmf[1][0] + matrix_train_nmf[1][1]))\n",
    "print(('NMF Training Set Type I Error Rate: {:.2%}.\\n'\n",
    "       'NMF Training Set Type II Error Rate: {:.2%}.\\n').format(tI_errors_train_nmf, tII_errors_train_nmf))"
   ]
  },
  {
   "cell_type": "markdown",
   "metadata": {},
   "source": [
    "### NMF Dataframe Creation: Test Set"
   ]
  },
  {
   "cell_type": "code",
   "execution_count": 64,
   "metadata": {
    "collapsed": false,
    "scrolled": true
   },
   "outputs": [
    {
     "data": {
      "text/html": [
       "<div>\n",
       "<style scoped>\n",
       "    .dataframe tbody tr th:only-of-type {\n",
       "        vertical-align: middle;\n",
       "    }\n",
       "\n",
       "    .dataframe tbody tr th {\n",
       "        vertical-align: top;\n",
       "    }\n",
       "\n",
       "    .dataframe thead th {\n",
       "        text-align: right;\n",
       "    }\n",
       "</style>\n",
       "<table border=\"1\" class=\"dataframe\">\n",
       "  <thead>\n",
       "    <tr style=\"text-align: right;\">\n",
       "      <th></th>\n",
       "      <th>Search Term</th>\n",
       "      <th>Site</th>\n",
       "      <th>Link</th>\n",
       "      <th>Document</th>\n",
       "      <th>0</th>\n",
       "      <th>1</th>\n",
       "      <th>Topic</th>\n",
       "    </tr>\n",
       "  </thead>\n",
       "  <tbody>\n",
       "    <tr>\n",
       "      <th>236</th>\n",
       "      <td>Boko Haram</td>\n",
       "      <td>Independent</td>\n",
       "      <td>https://www.independent.ng/boko-haram-kills-12...</td>\n",
       "      <td>the national emergency management agency  ne...</td>\n",
       "      <td>0.279819</td>\n",
       "      <td>0.937478</td>\n",
       "      <td>1</td>\n",
       "    </tr>\n",
       "    <tr>\n",
       "      <th>80</th>\n",
       "      <td>Ambazonia</td>\n",
       "      <td>The Nation</td>\n",
       "      <td>http://thenationonlineng.net/grand-deception-1...</td>\n",
       "      <td>nigerians especially those living in urban c...</td>\n",
       "      <td>0.913348</td>\n",
       "      <td>0.434859</td>\n",
       "      <td>0</td>\n",
       "    </tr>\n",
       "    <tr>\n",
       "      <th>47</th>\n",
       "      <td>Ambazonia</td>\n",
       "      <td>Sun News</td>\n",
       "      <td>http://sunnewsonline.com/gov-ayade-raises-alar...</td>\n",
       "      <td>nan gov  ben ayade of cross river h...</td>\n",
       "      <td>0.331607</td>\n",
       "      <td>0.430855</td>\n",
       "      <td>1</td>\n",
       "    </tr>\n",
       "    <tr>\n",
       "      <th>238</th>\n",
       "      <td>Boko Haram</td>\n",
       "      <td>Independent</td>\n",
       "      <td>https://www.independent.ng/boko-haram-sacks-tw...</td>\n",
       "      <td>suspected boko haram insurgents on saturday ...</td>\n",
       "      <td>0.262744</td>\n",
       "      <td>0.902630</td>\n",
       "      <td>1</td>\n",
       "    </tr>\n",
       "    <tr>\n",
       "      <th>124</th>\n",
       "      <td>Boko Haram</td>\n",
       "      <td>Tribune</td>\n",
       "      <td>https://www.tribuneonlineng.com/165727/</td>\n",
       "      <td>the igbo professionals in diasp...</td>\n",
       "      <td>0.269222</td>\n",
       "      <td>0.691044</td>\n",
       "      <td>1</td>\n",
       "    </tr>\n",
       "  </tbody>\n",
       "</table>\n",
       "</div>"
      ],
      "text/plain": [
       "    Search Term         Site  \\\n",
       "236  Boko Haram  Independent   \n",
       "80    Ambazonia   The Nation   \n",
       "47    Ambazonia     Sun News   \n",
       "238  Boko Haram  Independent   \n",
       "124  Boko Haram      Tribune   \n",
       "\n",
       "                                                  Link  \\\n",
       "236  https://www.independent.ng/boko-haram-kills-12...   \n",
       "80   http://thenationonlineng.net/grand-deception-1...   \n",
       "47   http://sunnewsonline.com/gov-ayade-raises-alar...   \n",
       "238  https://www.independent.ng/boko-haram-sacks-tw...   \n",
       "124            https://www.tribuneonlineng.com/165727/   \n",
       "\n",
       "                                              Document         0         1  \\\n",
       "236    the national emergency management agency  ne...  0.279819  0.937478   \n",
       "80     nigerians especially those living in urban c...  0.913348  0.434859   \n",
       "47              nan gov  ben ayade of cross river h...  0.331607  0.430855   \n",
       "238    suspected boko haram insurgents on saturday ...  0.262744  0.902630   \n",
       "124                 the igbo professionals in diasp...  0.269222  0.691044   \n",
       "\n",
       "     Topic  \n",
       "236      1  \n",
       "80       0  \n",
       "47       1  \n",
       "238      1  \n",
       "124      1  "
      ]
     },
     "execution_count": 64,
     "metadata": {},
     "output_type": "execute_result"
    }
   ],
   "source": [
    "test_nmf = pd.DataFrame()\n",
    "test_nmf = X_test\n",
    "nmf_df_test = pd.DataFrame(X_test_nmf, index = test_nmf.index)\n",
    "test_nmf = pd.concat([test_nmf, nmf_df_test], axis = 1)\n",
    "test_nmf['Topic'] = test_nmf.iloc[:,4:6].idxmax(axis = 1)\n",
    "test_nmf.head()"
   ]
  },
  {
   "cell_type": "markdown",
   "metadata": {},
   "source": [
    "### NMF Loading Distributions By Topic: Test Set"
   ]
  },
  {
   "cell_type": "code",
   "execution_count": 65,
   "metadata": {
    "collapsed": false
   },
   "outputs": [
    {
     "data": {
      "image/png": "[encoded data removed]",
      "text/plain": [
       "<matplotlib.figure.Figure at 0x16f13b4f588>"
      ]
     },
     "metadata": {
      "needs_background": "light"
     },
     "output_type": "display_data"
    }
   ],
   "source": [
    "loadings_nmf_violin_test = sns.violinplot(data = test_nmf.iloc[:, 4:6], palette = 'Reds')\n",
    "x_label = plt.xlabel(\"Topic\") \n",
    "y_label = plt.ylabel(\"Loading Distribution\") \n",
    "y_lim = plt.ylim(-0.5, 1.5)"
   ]
  },
  {
   "cell_type": "markdown",
   "metadata": {},
   "source": [
    "### NMF Document Distribution Into Topics: Test Set"
   ]
  },
  {
   "cell_type": "code",
   "execution_count": 66,
   "metadata": {
    "collapsed": false
   },
   "outputs": [
    {
     "data": {
      "text/plain": [
       "1    18\n",
       "0     8\n",
       "Name: Topic, dtype: int64"
      ]
     },
     "execution_count": 66,
     "metadata": {},
     "output_type": "execute_result"
    }
   ],
   "source": [
    "test_nmf['Topic'].value_counts()"
   ]
  },
  {
   "cell_type": "code",
   "execution_count": 67,
   "metadata": {
    "collapsed": false
   },
   "outputs": [
    {
     "data": {
      "image/png": "[encoded data removed]",
      "text/plain": [
       "<matplotlib.figure.Figure at 0x16f13b88780>"
      ]
     },
     "metadata": {
      "needs_background": "light"
     },
     "output_type": "display_data"
    }
   ],
   "source": [
    "nmf_topic_dist_test = sns.countplot(x = test_nmf['Topic'], palette = 'Reds')\n",
    "y_label = plt.ylabel(\"Count\") \n",
    "y_lim = plt.ylim(0, 75)"
   ]
  },
  {
   "cell_type": "markdown",
   "metadata": {},
   "source": [
    "### NMF Test Set Confusion Matrix: 'Topic' vs. 'Search Term'"
   ]
  },
  {
   "cell_type": "code",
   "execution_count": 68,
   "metadata": {
    "collapsed": true
   },
   "outputs": [],
   "source": [
    "test_nmf['Recode'] = np.where(test_nmf['Search Term'] == 'Ambazonia', 0, 1)"
   ]
  },
  {
   "cell_type": "code",
   "execution_count": 69,
   "metadata": {
    "collapsed": false
   },
   "outputs": [
    {
     "name": "stdout",
     "output_type": "stream",
     "text": [
      "NMF Test Set Type I Error Rate: 54.55%.\n",
      "NMF Test Set Type II Error Rate: 20.00%.\n",
      "\n"
     ]
    }
   ],
   "source": [
    "actuals_test_nmf = test_nmf['Recode']\n",
    "predictions_test_nmf = test_nmf['Topic']\n",
    "matrix_test_nmf = confusion_matrix(actuals_test_nmf, predictions_test_nmf)\n",
    "tI_errors_test_nmf = (matrix_test_nmf[0][1] / (matrix_test_nmf[0][0] + matrix_test_nmf[0][1]))\n",
    "tII_errors_test_nmf = (matrix_test_nmf[1][0] / (matrix_test_nmf[1][0] + matrix_test_nmf[1][1]))\n",
    "print(('NMF Test Set Type I Error Rate: {:.2%}.\\n'\n",
    "       'NMF Test Set Type II Error Rate: {:.2%}.\\n').format(tI_errors_test_nmf, tII_errors_test_nmf))"
   ]
  },
  {
   "cell_type": "markdown",
   "metadata": {},
   "source": [
    "## Top Words Inspection"
   ]
  },
  {
   "cell_type": "markdown",
   "metadata": {},
   "source": [
    "### Dataframe Creation"
   ]
  },
  {
   "cell_type": "code",
   "execution_count": 70,
   "metadata": {
    "collapsed": false
   },
   "outputs": [
    {
     "data": {
      "text/html": [
       "<div>\n",
       "<style scoped>\n",
       "    .dataframe tbody tr th:only-of-type {\n",
       "        vertical-align: middle;\n",
       "    }\n",
       "\n",
       "    .dataframe tbody tr th {\n",
       "        vertical-align: top;\n",
       "    }\n",
       "\n",
       "    .dataframe thead th {\n",
       "        text-align: right;\n",
       "    }\n",
       "</style>\n",
       "<table border=\"1\" class=\"dataframe\">\n",
       "  <thead>\n",
       "    <tr style=\"text-align: right;\">\n",
       "      <th></th>\n",
       "      <th>LDA Training Set</th>\n",
       "      <th>LDA Test Set</th>\n",
       "      <th>LSA Training Set</th>\n",
       "      <th>LSA Test Set</th>\n",
       "      <th>NMF Training Set</th>\n",
       "      <th>NMF Test Set</th>\n",
       "    </tr>\n",
       "  </thead>\n",
       "  <tbody>\n",
       "    <tr>\n",
       "      <th>0</th>\n",
       "      <td>southern 2.47</td>\n",
       "      <td>southern 0.94</td>\n",
       "      <td>southern 2.63</td>\n",
       "      <td>insurgents 2.04</td>\n",
       "      <td>southern 0.53</td>\n",
       "      <td>insurgents 0.27</td>\n",
       "    </tr>\n",
       "    <tr>\n",
       "      <th>0</th>\n",
       "      <td>president 1.84</td>\n",
       "      <td>revolutionary 0.7</td>\n",
       "      <td>president 2.57</td>\n",
       "      <td>troops 1.04</td>\n",
       "      <td>president 0.51</td>\n",
       "      <td>southern 0.24</td>\n",
       "    </tr>\n",
       "    <tr>\n",
       "      <th>0</th>\n",
       "      <td>french 1.58</td>\n",
       "      <td>republic 0.56</td>\n",
       "      <td>country 2.11</td>\n",
       "      <td>southern 1.02</td>\n",
       "      <td>country 0.47</td>\n",
       "      <td>group 0.15</td>\n",
       "    </tr>\n",
       "    <tr>\n",
       "      <th>0</th>\n",
       "      <td>country 1.48</td>\n",
       "      <td>independence 0.53</td>\n",
       "      <td>insurgents 2.05</td>\n",
       "      <td>group 0.9</td>\n",
       "      <td>biya 0.45</td>\n",
       "      <td>troops 0.14</td>\n",
       "    </tr>\n",
       "    <tr>\n",
       "      <th>0</th>\n",
       "      <td>danare 1.46</td>\n",
       "      <td>refugees 0.51</td>\n",
       "      <td>french 1.93</td>\n",
       "      <td>division 0.9</td>\n",
       "      <td>french 0.43</td>\n",
       "      <td>communities 0.13</td>\n",
       "    </tr>\n",
       "    <tr>\n",
       "      <th>1</th>\n",
       "      <td>insurgents 1.92</td>\n",
       "      <td>insurgents 1.88</td>\n",
       "      <td>initiative 0.66</td>\n",
       "      <td>insurgents 0.56</td>\n",
       "      <td>initiative 0.47</td>\n",
       "      <td>insurgents 0.09</td>\n",
       "    </tr>\n",
       "    <tr>\n",
       "      <th>1</th>\n",
       "      <td>hauwa 1.63</td>\n",
       "      <td>troops 0.91</td>\n",
       "      <td>reintegration 0.6</td>\n",
       "      <td>maiduguri 0.27</td>\n",
       "      <td>reintegration 0.43</td>\n",
       "      <td>maiduguri 0.04</td>\n",
       "    </tr>\n",
       "    <tr>\n",
       "      <th>1</th>\n",
       "      <td>killed 1.47</td>\n",
       "      <td>maiduguri 0.82</td>\n",
       "      <td>affected 0.59</td>\n",
       "      <td>biu 0.21</td>\n",
       "      <td>collaboration 0.41</td>\n",
       "      <td>attacks 0.04</td>\n",
       "    </tr>\n",
       "    <tr>\n",
       "      <th>1</th>\n",
       "      <td>terrorists 1.41</td>\n",
       "      <td>biu 0.74</td>\n",
       "      <td>collaboration 0.56</td>\n",
       "      <td>farmers 0.2</td>\n",
       "      <td>development 0.39</td>\n",
       "      <td>troops 0.03</td>\n",
       "    </tr>\n",
       "    <tr>\n",
       "      <th>1</th>\n",
       "      <td>worker 1.26</td>\n",
       "      <td>division 0.71</td>\n",
       "      <td>development 0.55</td>\n",
       "      <td>troops 0.2</td>\n",
       "      <td>repented 0.39</td>\n",
       "      <td>farmers 0.03</td>\n",
       "    </tr>\n",
       "  </tbody>\n",
       "</table>\n",
       "</div>"
      ],
      "text/plain": [
       "  LDA Training Set       LDA Test Set    LSA Training Set     LSA Test Set  \\\n",
       "0    southern 2.47      southern 0.94       southern 2.63  insurgents 2.04   \n",
       "0   president 1.84  revolutionary 0.7      president 2.57      troops 1.04   \n",
       "0      french 1.58      republic 0.56        country 2.11    southern 1.02   \n",
       "0     country 1.48  independence 0.53     insurgents 2.05        group 0.9   \n",
       "0      danare 1.46      refugees 0.51         french 1.93     division 0.9   \n",
       "1  insurgents 1.92    insurgents 1.88     initiative 0.66  insurgents 0.56   \n",
       "1       hauwa 1.63        troops 0.91   reintegration 0.6   maiduguri 0.27   \n",
       "1      killed 1.47     maiduguri 0.82       affected 0.59         biu 0.21   \n",
       "1  terrorists 1.41           biu 0.74  collaboration 0.56      farmers 0.2   \n",
       "1      worker 1.26      division 0.71    development 0.55       troops 0.2   \n",
       "\n",
       "     NMF Training Set      NMF Test Set  \n",
       "0       southern 0.53   insurgents 0.27  \n",
       "0      president 0.51     southern 0.24  \n",
       "0        country 0.47        group 0.15  \n",
       "0           biya 0.45       troops 0.14  \n",
       "0         french 0.43  communities 0.13  \n",
       "1     initiative 0.47   insurgents 0.09  \n",
       "1  reintegration 0.43    maiduguri 0.04  \n",
       "1  collaboration 0.41      attacks 0.04  \n",
       "1    development 0.39       troops 0.03  \n",
       "1       repented 0.39      farmers 0.03  "
      ]
     },
     "execution_count": 70,
     "metadata": {},
     "output_type": "execute_result"
    }
   ],
   "source": [
    "df_topwords = pd.DataFrame(topwords)\n",
    "df_topwords"
   ]
  },
  {
   "cell_type": "markdown",
   "metadata": {},
   "source": [
    "### Checking Ambiguous Top Words' Document Prevalence By Search Term: Training & Test Sets"
   ]
  },
  {
   "cell_type": "code",
   "execution_count": 71,
   "metadata": {
    "collapsed": false
   },
   "outputs": [
    {
     "data": {
      "text/plain": [
       "Boko Haram    7\n",
       "Ambazonia     1\n",
       "Name: Search Term, dtype: int64"
      ]
     },
     "execution_count": 71,
     "metadata": {},
     "output_type": "execute_result"
    }
   ],
   "source": [
    "X_train[X_train['Document'].str.contains('affected')]['Search Term'].value_counts()"
   ]
  },
  {
   "cell_type": "code",
   "execution_count": 72,
   "metadata": {
    "collapsed": false
   },
   "outputs": [
    {
     "data": {
      "text/plain": [
       "Boko Haram    3\n",
       "Name: Search Term, dtype: int64"
      ]
     },
     "execution_count": 72,
     "metadata": {},
     "output_type": "execute_result"
    }
   ],
   "source": [
    "X_test[X_test['Document'].str.contains('affected')]['Search Term'].value_counts()"
   ]
  },
  {
   "cell_type": "code",
   "execution_count": 73,
   "metadata": {
    "collapsed": false
   },
   "outputs": [
    {
     "data": {
      "text/plain": [
       "Boko Haram    4\n",
       "Ambazonia     1\n",
       "Name: Search Term, dtype: int64"
      ]
     },
     "execution_count": 73,
     "metadata": {},
     "output_type": "execute_result"
    }
   ],
   "source": [
    "X_train[X_train['Document'].str.contains('collaboration')]['Search Term'].value_counts()"
   ]
  },
  {
   "cell_type": "code",
   "execution_count": 74,
   "metadata": {
    "collapsed": false
   },
   "outputs": [
    {
     "data": {
      "text/plain": [
       "Series([], Name: Search Term, dtype: int64)"
      ]
     },
     "execution_count": 74,
     "metadata": {},
     "output_type": "execute_result"
    }
   ],
   "source": [
    "X_test[X_test['Document'].str.contains('collaboration')]['Search Term'].value_counts()"
   ]
  },
  {
   "cell_type": "code",
   "execution_count": 75,
   "metadata": {
    "collapsed": false
   },
   "outputs": [
    {
     "data": {
      "text/plain": [
       "Boko Haram    9\n",
       "Ambazonia     8\n",
       "Name: Search Term, dtype: int64"
      ]
     },
     "execution_count": 75,
     "metadata": {},
     "output_type": "execute_result"
    }
   ],
   "source": [
    "X_train[X_train['Document'].str.contains('development')]['Search Term'].value_counts()"
   ]
  },
  {
   "cell_type": "code",
   "execution_count": 76,
   "metadata": {
    "collapsed": false
   },
   "outputs": [
    {
     "data": {
      "text/plain": [
       "Boko Haram    2\n",
       "Ambazonia     1\n",
       "Name: Search Term, dtype: int64"
      ]
     },
     "execution_count": 76,
     "metadata": {},
     "output_type": "execute_result"
    }
   ],
   "source": [
    "X_test[X_test['Document'].str.contains('development')]['Search Term'].value_counts()"
   ]
  },
  {
   "cell_type": "code",
   "execution_count": 77,
   "metadata": {
    "collapsed": false
   },
   "outputs": [
    {
     "data": {
      "text/plain": [
       "Boko Haram    9\n",
       "Ambazonia     1\n",
       "Name: Search Term, dtype: int64"
      ]
     },
     "execution_count": 77,
     "metadata": {},
     "output_type": "execute_result"
    }
   ],
   "source": [
    "X_train[X_train['Document'].str.contains('initiative')]['Search Term'].value_counts()"
   ]
  },
  {
   "cell_type": "code",
   "execution_count": 78,
   "metadata": {
    "collapsed": false
   },
   "outputs": [
    {
     "data": {
      "text/plain": [
       "Series([], Name: Search Term, dtype: int64)"
      ]
     },
     "execution_count": 78,
     "metadata": {},
     "output_type": "execute_result"
    }
   ],
   "source": [
    "X_test[X_test['Document'].str.contains('initiative')]['Search Term'].value_counts()"
   ]
  },
  {
   "cell_type": "code",
   "execution_count": 79,
   "metadata": {
    "collapsed": false
   },
   "outputs": [
    {
     "data": {
      "text/plain": [
       "Boko Haram    4\n",
       "Name: Search Term, dtype: int64"
      ]
     },
     "execution_count": 79,
     "metadata": {},
     "output_type": "execute_result"
    }
   ],
   "source": [
    "X_train[X_train['Document'].str.contains('reintegration')]['Search Term'].value_counts()"
   ]
  },
  {
   "cell_type": "code",
   "execution_count": 80,
   "metadata": {
    "collapsed": false,
    "scrolled": true
   },
   "outputs": [
    {
     "data": {
      "text/plain": [
       "Series([], Name: Search Term, dtype: int64)"
      ]
     },
     "execution_count": 80,
     "metadata": {},
     "output_type": "execute_result"
    }
   ],
   "source": [
    "X_test[X_test['Document'].str.contains('reintegration')]['Search Term'].value_counts()"
   ]
  },
  {
   "cell_type": "code",
   "execution_count": 81,
   "metadata": {
    "collapsed": false
   },
   "outputs": [
    {
     "data": {
      "text/plain": [
       "Boko Haram    4\n",
       "Name: Search Term, dtype: int64"
      ]
     },
     "execution_count": 81,
     "metadata": {},
     "output_type": "execute_result"
    }
   ],
   "source": [
    "X_train[X_train['Document'].str.contains('repented')]['Search Term'].value_counts()"
   ]
  },
  {
   "cell_type": "code",
   "execution_count": 82,
   "metadata": {
    "collapsed": false
   },
   "outputs": [
    {
     "data": {
      "text/plain": [
       "Series([], Name: Search Term, dtype: int64)"
      ]
     },
     "execution_count": 82,
     "metadata": {},
     "output_type": "execute_result"
    }
   ],
   "source": [
    "X_test[X_test['Document'].str.contains('repented')]['Search Term'].value_counts()"
   ]
  },
  {
   "cell_type": "markdown",
   "metadata": {},
   "source": [
    "### Top Word List"
   ]
  },
  {
   "cell_type": "code",
   "execution_count": 83,
   "metadata": {
    "collapsed": false
   },
   "outputs": [
    {
     "name": "stdout",
     "output_type": "stream",
     "text": [
      "['affected', 'attacks', 'biu', 'biya', 'collaboration', 'communities', 'country', 'danare', 'development', 'division', 'farmers', 'french', 'group', 'hauwa', 'independence', 'initiative', 'insurgents', 'killed', 'maiduguri', 'president', 'refugees', 'reintegration', 'repented', 'republic', 'revolutionary', 'southern', 'terrorists', 'troops', 'worker']\n"
     ]
    }
   ],
   "source": [
    "for column in df_topwords.columns: \n",
    "    df_topwords[column] = df_topwords[column].str.replace('\\s\\d.*', '')\n",
    "\n",
    "words_allmethods = []\n",
    "for column in df_topwords.columns: \n",
    "    words_allmethods.append(df_topwords[column].tolist())\n",
    "    \n",
    "words_allmethods_flat = sorted(set([string for sublist in words_allmethods for string in sublist]))\n",
    "print(words_allmethods_flat)"
   ]
  },
  {
   "cell_type": "markdown",
   "metadata": {},
   "source": [
    "### Top Word Loadings By Model: Training Set"
   ]
  },
  {
   "cell_type": "code",
   "execution_count": 84,
   "metadata": {
    "collapsed": false,
    "scrolled": false
   },
   "outputs": [
    {
     "data": {
      "image/png": "[encoded data removed]",
      "text/plain": [
       "<matplotlib.figure.Figure at 0x16f129487b8>"
      ]
     },
     "metadata": {
      "needs_background": "light"
     },
     "output_type": "display_data"
    },
    {
     "data": {
      "image/png": "[encoded data removed]",
      "text/plain": [
       "<matplotlib.figure.Figure at 0x16f13c9d6a0>"
      ]
     },
     "metadata": {
      "needs_background": "light"
     },
     "output_type": "display_data"
    },
    {
     "data": {
      "image/png": "[encoded data removed]",
      "text/plain": [
       "<matplotlib.figure.Figure at 0x16f13cdf208>"
      ]
     },
     "metadata": {
      "needs_background": "light"
     },
     "output_type": "display_data"
    },
    {
     "data": {
      "image/png": "[encoded data removed]",
      "text/plain": [
       "<matplotlib.figure.Figure at 0x16f13d203c8>"
      ]
     },
     "metadata": {
      "needs_background": "light"
     },
     "output_type": "display_data"
    },
    {
     "data": {
      "image/png": "[encoded data removed]",
      "text/plain": [
       "<matplotlib.figure.Figure at 0x16f13d5f5c0>"
      ]
     },
     "metadata": {
      "needs_background": "light"
     },
     "output_type": "display_data"
    },
    {
     "data": {
      "image/png": "[encoded data removed]",
      "text/plain": [
       "<matplotlib.figure.Figure at 0x16f13e49400>"
      ]
     },
     "metadata": {
      "needs_background": "light"
     },
     "output_type": "display_data"
    },
    {
     "data": {
      "image/png": "[encoded data removed]",
      "text/plain": [
       "<matplotlib.figure.Figure at 0x16f13ec3710>"
      ]
     },
     "metadata": {
      "needs_background": "light"
     },
     "output_type": "display_data"
    },
    {
     "data": {
      "image/png": "[encoded data removed]",
      "text/plain": [
       "<matplotlib.figure.Figure at 0x16f13f33e48>"
      ]
     },
     "metadata": {
      "needs_background": "light"
     },
     "output_type": "display_data"
    },
    {
     "data": {
      "image/png": "[encoded data removed]",
      "text/plain": [
       "<matplotlib.figure.Figure at 0x16f13f9c898>"
      ]
     },
     "metadata": {
      "needs_background": "light"
     },
     "output_type": "display_data"
    },
    {
     "data": {
      "image/png": "[encoded data removed]",
      "text/plain": [
       "<matplotlib.figure.Figure at 0x16f13fb29e8>"
      ]
     },
     "metadata": {
      "needs_background": "light"
     },
     "output_type": "display_data"
    },
    {
     "data": {
      "image/png": "[encoded data removed]",
      "text/plain": [
       "<matplotlib.figure.Figure at 0x16f14017eb8>"
      ]
     },
     "metadata": {
      "needs_background": "light"
     },
     "output_type": "display_data"
    },
    {
     "data": {
      "image/png": "[encoded data removed]",
      "text/plain": [
       "<matplotlib.figure.Figure at 0x16f1410ae10>"
      ]
     },
     "metadata": {
      "needs_background": "light"
     },
     "output_type": "display_data"
    },
    {
     "data": {
      "image/png": "[encoded data removed]",
      "text/plain": [
       "<matplotlib.figure.Figure at 0x16f1415c278>"
      ]
     },
     "metadata": {
      "needs_background": "light"
     },
     "output_type": "display_data"
    },
    {
     "data": {
      "image/png": "[encoded data removed]",
      "text/plain": [
       "<matplotlib.figure.Figure at 0x16f141d4320>"
      ]
     },
     "metadata": {
      "needs_background": "light"
     },
     "output_type": "display_data"
    },
    {
     "data": {
      "image/png": "[encoded data removed]",
      "text/plain": [
       "<matplotlib.figure.Figure at 0x16f140b3ac8>"
      ]
     },
     "metadata": {
      "needs_background": "light"
     },
     "output_type": "display_data"
    },
    {
     "data": {
      "image/png": "[encoded data removed]",
      "text/plain": [
       "<matplotlib.figure.Figure at 0x16f14270d68>"
      ]
     },
     "metadata": {
      "needs_background": "light"
     },
     "output_type": "display_data"
    },
    {
     "data": {
      "image/png": "[encoded data removed]",
      "text/plain": [
       "<matplotlib.figure.Figure at 0x16f14242550>"
      ]
     },
     "metadata": {
      "needs_background": "light"
     },
     "output_type": "display_data"
    },
    {
     "data": {
      "image/png": "[encoded data removed]",
      "text/plain": [
       "<matplotlib.figure.Figure at 0x16f13fbe668>"
      ]
     },
     "metadata": {
      "needs_background": "light"
     },
     "output_type": "display_data"
    },
    {
     "data": {
      "image/png": "[encoded data removed]",
      "text/plain": [
       "<matplotlib.figure.Figure at 0x16f142bb9e8>"
      ]
     },
     "metadata": {
      "needs_background": "light"
     },
     "output_type": "display_data"
    },
    {
     "data": {
      "image/png": "[encoded data removed]",
      "text/plain": [
       "<matplotlib.figure.Figure at 0x16f13c7e1d0>"
      ]
     },
     "metadata": {
      "needs_background": "light"
     },
     "output_type": "display_data"
    },
    {
     "data": {
      "image/png": "[encoded data removed]",
      "text/plain": [
       "<matplotlib.figure.Figure at 0x16f13cd4898>"
      ]
     },
     "metadata": {
      "needs_background": "light"
     },
     "output_type": "display_data"
    },
    {
     "data": {
      "image/png": "[encoded data removed]",
      "text/plain": [
       "<matplotlib.figure.Figure at 0x16f14153ba8>"
      ]
     },
     "metadata": {
      "needs_background": "light"
     },
     "output_type": "display_data"
    },
    {
     "data": {
      "image/png": "[encoded data removed]",
      "text/plain": [
       "<matplotlib.figure.Figure at 0x16f14153f28>"
      ]
     },
     "metadata": {
      "needs_background": "light"
     },
     "output_type": "display_data"
    },
    {
     "data": {
      "image/png": "[encoded data removed]",
      "text/plain": [
       "<matplotlib.figure.Figure at 0x16f140647b8>"
      ]
     },
     "metadata": {
      "needs_background": "light"
     },
     "output_type": "display_data"
    },
    {
     "data": {
      "image/png": "[encoded data removed]",
      "text/plain": [
       "<matplotlib.figure.Figure at 0x16f13fdd3c8>"
      ]
     },
     "metadata": {
      "needs_background": "light"
     },
     "output_type": "display_data"
    },
    {
     "data": {
      "image/png": "[encoded data removed]",
      "text/plain": [
       "<matplotlib.figure.Figure at 0x16f1435a320>"
      ]
     },
     "metadata": {
      "needs_background": "light"
     },
     "output_type": "display_data"
    },
    {
     "data": {
      "image/png": "[encoded data removed]",
      "text/plain": [
       "<matplotlib.figure.Figure at 0x16f141cb198>"
      ]
     },
     "metadata": {
      "needs_background": "light"
     },
     "output_type": "display_data"
    },
    {
     "data": {
      "image/png": "[encoded data removed]",
      "text/plain": [
       "<matplotlib.figure.Figure at 0x16f141daf60>"
      ]
     },
     "metadata": {
      "needs_background": "light"
     },
     "output_type": "display_data"
    },
    {
     "data": {
      "image/png": "[encoded data removed]",
      "text/plain": [
       "<matplotlib.figure.Figure at 0x16f13ea26a0>"
      ]
     },
     "metadata": {
      "needs_background": "light"
     },
     "output_type": "display_data"
    }
   ],
   "source": [
    "targetwords = sorted(list(set(words_allmethods_flat)))\n",
    "wordloadings = pd.DataFrame(columns = targetwords)\n",
    "                  \n",
    "for word in targetwords:\n",
    "    loadings = components_lsa_train.loc[word].append(components_lda_train.loc[word]).append(components_nmf_train.loc[word])\n",
    "    wordloadings[word] = loadings\n",
    "\n",
    "wordloadings['Model'] = np.repeat(['LSA', 'LDA', 'NMF'], 2, axis = 0)\n",
    "wordloadings['Loading'] = [0, 1] * 3\n",
    "\n",
    "for word in targetwords:\n",
    "    sns.barplot(x = 'Model', y = word, hue = 'Loading', color='tab:red', data = wordloadings)\n",
    "    plt.title(word)\n",
    "    plt.ylabel('')\n",
    "    plt.ylim(-1, 3)\n",
    "    plt.legend(bbox_to_anchor = (1.05, 1), loc = 2, borderaxespad = 0.)\n",
    "    plt.show()"
   ]
  },
  {
   "cell_type": "markdown",
   "metadata": {},
   "source": [
    "### Top Word Loadings By Model: Test Set"
   ]
  },
  {
   "cell_type": "code",
   "execution_count": 85,
   "metadata": {
    "collapsed": false,
    "scrolled": false
   },
   "outputs": [
    {
     "data": {
      "image/png": "[encoded data removed]",
      "text/plain": [
       "<matplotlib.figure.Figure at 0x16f13dff160>"
      ]
     },
     "metadata": {
      "needs_background": "light"
     },
     "output_type": "display_data"
    },
    {
     "data": {
      "image/png": "[encoded data removed]",
      "text/plain": [
       "<matplotlib.figure.Figure at 0x16f13b575f8>"
      ]
     },
     "metadata": {
      "needs_background": "light"
     },
     "output_type": "display_data"
    },
    {
     "data": {
      "image/png": "[encoded data removed]",
      "text/plain": [
       "<matplotlib.figure.Figure at 0x16f13e15358>"
      ]
     },
     "metadata": {
      "needs_background": "light"
     },
     "output_type": "display_data"
    },
    {
     "data": {
      "image/png": "[encoded data removed]",
      "text/plain": [
       "<matplotlib.figure.Figure at 0x16f13e15438>"
      ]
     },
     "metadata": {
      "needs_background": "light"
     },
     "output_type": "display_data"
    },
    {
     "data": {
      "image/png": "[encoded data removed]",
      "text/plain": [
       "<matplotlib.figure.Figure at 0x16f13c9e6a0>"
      ]
     },
     "metadata": {
      "needs_background": "light"
     },
     "output_type": "display_data"
    },
    {
     "data": {
      "image/png": "[encoded data removed]",
      "text/plain": [
       "<matplotlib.figure.Figure at 0x16f140116d8>"
      ]
     },
     "metadata": {
      "needs_background": "light"
     },
     "output_type": "display_data"
    },
    {
     "data": {
      "image/png": "[encoded data removed]",
      "text/plain": [
       "<matplotlib.figure.Figure at 0x16f13e444e0>"
      ]
     },
     "metadata": {
      "needs_background": "light"
     },
     "output_type": "display_data"
    },
    {
     "data": {
      "image/png": "[encoded data removed]",
      "text/plain": [
       "<matplotlib.figure.Figure at 0x16f13fa29e8>"
      ]
     },
     "metadata": {
      "needs_background": "light"
     },
     "output_type": "display_data"
    },
    {
     "data": {
      "image/png": "[encoded data removed]",
      "text/plain": [
       "<matplotlib.figure.Figure at 0x16f140467f0>"
      ]
     },
     "metadata": {
      "needs_background": "light"
     },
     "output_type": "display_data"
    },
    {
     "data": {
      "image/png": "[encoded data removed]",
      "text/plain": [
       "<matplotlib.figure.Figure at 0x16f1434fef0>"
      ]
     },
     "metadata": {
      "needs_background": "light"
     },
     "output_type": "display_data"
    },
    {
     "data": {
      "image/png": "[encoded data removed]",
      "text/plain": [
       "<matplotlib.figure.Figure at 0x16f13d52208>"
      ]
     },
     "metadata": {
      "needs_background": "light"
     },
     "output_type": "display_data"
    },
    {
     "data": {
      "image/png": "[encoded data removed]",
      "text/plain": [
       "<matplotlib.figure.Figure at 0x16f13ede6d8>"
      ]
     },
     "metadata": {
      "needs_background": "light"
     },
     "output_type": "display_data"
    },
    {
     "data": {
      "image/png": "[encoded data removed]",
      "text/plain": [
       "<matplotlib.figure.Figure at 0x16f1428be80>"
      ]
     },
     "metadata": {
      "needs_background": "light"
     },
     "output_type": "display_data"
    },
    {
     "data": {
      "image/png": "[encoded data removed]",
      "text/plain": [
       "<matplotlib.figure.Figure at 0x16f14363fd0>"
      ]
     },
     "metadata": {
      "needs_background": "light"
     },
     "output_type": "display_data"
    },
    {
     "data": {
      "image/png": "[encoded data removed]",
      "text/plain": [
       "<matplotlib.figure.Figure at 0x16f14197358>"
      ]
     },
     "metadata": {
      "needs_background": "light"
     },
     "output_type": "display_data"
    },
    {
     "data": {
      "image/png": "[encoded data removed]",
      "text/plain": [
       "<matplotlib.figure.Figure at 0x16f14211a90>"
      ]
     },
     "metadata": {
      "needs_background": "light"
     },
     "output_type": "display_data"
    },
    {
     "data": {
      "image/png": "[encoded data removed]",
      "text/plain": [
       "<matplotlib.figure.Figure at 0x16f14046cf8>"
      ]
     },
     "metadata": {
      "needs_background": "light"
     },
     "output_type": "display_data"
    },
    {
     "data": {
      "image/png": "[encoded data removed]",
      "text/plain": [
       "<matplotlib.figure.Figure at 0x16f1424cf28>"
      ]
     },
     "metadata": {
      "needs_background": "light"
     },
     "output_type": "display_data"
    },
    {
     "data": {
      "image/png": "[encoded data removed]",
      "text/plain": [
       "<matplotlib.figure.Figure at 0x16f142ba9e8>"
      ]
     },
     "metadata": {
      "needs_background": "light"
     },
     "output_type": "display_data"
    },
    {
     "data": {
      "image/png": "[encoded data removed]",
      "text/plain": [
       "<matplotlib.figure.Figure at 0x16f142cb908>"
      ]
     },
     "metadata": {
      "needs_background": "light"
     },
     "output_type": "display_data"
    },
    {
     "data": {
      "image/png": "[encoded data removed]",
      "text/plain": [
       "<matplotlib.figure.Figure at 0x16f13fb5e10>"
      ]
     },
     "metadata": {
      "needs_background": "light"
     },
     "output_type": "display_data"
    },
    {
     "data": {
      "image/png": "[encoded data removed]",
      "text/plain": [
       "<matplotlib.figure.Figure at 0x16f13fb8240>"
      ]
     },
     "metadata": {
      "needs_background": "light"
     },
     "output_type": "display_data"
    },
    {
     "data": {
      "image/png": "[encoded data removed]",
      "text/plain": [
       "<matplotlib.figure.Figure at 0x16f13c8b5f8>"
      ]
     },
     "metadata": {
      "needs_background": "light"
     },
     "output_type": "display_data"
    },
    {
     "data": {
      "image/png": "[encoded data removed]",
      "text/plain": [
       "<matplotlib.figure.Figure at 0x16f1410a470>"
      ]
     },
     "metadata": {
      "needs_background": "light"
     },
     "output_type": "display_data"
    },
    {
     "data": {
      "image/png": "[encoded data removed]",
      "text/plain": [
       "<matplotlib.figure.Figure at 0x16f13cb7f28>"
      ]
     },
     "metadata": {
      "needs_background": "light"
     },
     "output_type": "display_data"
    },
    {
     "data": {
      "image/png": "[encoded data removed]",
      "text/plain": [
       "<matplotlib.figure.Figure at 0x16f13d604e0>"
      ]
     },
     "metadata": {
      "needs_background": "light"
     },
     "output_type": "display_data"
    },
    {
     "data": {
      "image/png": "[encoded data removed]",
      "text/plain": [
       "<matplotlib.figure.Figure at 0x16f13d73f98>"
      ]
     },
     "metadata": {
      "needs_background": "light"
     },
     "output_type": "display_data"
    },
    {
     "data": {
      "image/png": "[encoded data removed]",
      "text/plain": [
       "<matplotlib.figure.Figure at 0x16f142f9f28>"
      ]
     },
     "metadata": {
      "needs_background": "light"
     },
     "output_type": "display_data"
    },
    {
     "data": {
      "image/png": "[encoded data removed]",
      "text/plain": [
       "<matplotlib.figure.Figure at 0x16f1534cef0>"
      ]
     },
     "metadata": {
      "needs_background": "light"
     },
     "output_type": "display_data"
    }
   ],
   "source": [
    "targetwords = sorted(list(set(words_allmethods_flat)))\n",
    "wordloadings = pd.DataFrame(columns = targetwords)\n",
    "                  \n",
    "for word in targetwords:\n",
    "    loadings = components_lsa_test.loc[word].append(components_lda_test.loc[word]).append(components_nmf_test.loc[word])\n",
    "    wordloadings[word] = loadings\n",
    "\n",
    "wordloadings['Model'] = np.repeat(['LSA','LDA','NMF'], 2, axis = 0)\n",
    "wordloadings['Loading'] = [0, 1] * 3\n",
    "\n",
    "for word in targetwords:\n",
    "    sns.barplot(x = 'Model', y = word, hue = 'Loading', color = 'tab:red', data = wordloadings)\n",
    "    plt.title(word)\n",
    "    plt.ylabel('')\n",
    "    plt.ylim(-1, 3)\n",
    "    legend = plt.legend(bbox_to_anchor = (1.05, 1), loc = 2, borderaxespad = 0.)\n",
    "    plt.show()"
   ]
  }
 ],
 "metadata": {
  "kernelspec": {
   "display_name": "Python 3",
   "language": "python",
   "name": "python3"
  },
  "language_info": {
   "codemirror_mode": {
    "name": "ipython",
    "version": 3
   },
   "file_extension": ".py",
   "mimetype": "text/x-python",
   "name": "python",
   "nbconvert_exporter": "python",
   "pygments_lexer": "ipython3",
   "version": "3.6.0"
  },
  "toc": {
   "nav_menu": {},
   "number_sections": true,
   "sideBar": true,
   "skip_h1_title": false,
   "toc_cell": false,
   "toc_position": {},
   "toc_section_display": true,
   "toc_window_display": false
  }
 },
 "nbformat": 4,
 "nbformat_minor": 2
}
