{
 "cells": [
  {
   "cell_type": "code",
   "execution_count": 88,
   "metadata": {},
   "outputs": [],
   "source": [
    "from IPython.display import Image\n",
    "from sklearn import ensemble\n",
    "from sklearn import tree\n",
    "from sklearn.feature_selection import RFECV \n",
    "from sklearn.model_selection import cross_val_score\n",
    "import graphviz\n",
    "import numpy as np\n",
    "import pandas as pd\n",
    "import pydotplus\n",
    "import scipy.stats as stats\n",
    "import timeit"
   ]
  },
  {
   "cell_type": "code",
   "execution_count": 101,
   "metadata": {},
   "outputs": [
    {
     "data": {
      "text/html": [
       "<script>\n",
       "code_show=true;\n",
       "function code_toggle() {\n",
       "if (code_show){\n",
       "$('div.input').hide();\n",
       "} else {\n",
       "$('div.input').show();\n",
       "}\n",
       "code_show = !code_show\n",
       "}\n",
       "$( document ).ready(code_toggle);\n",
       "</script>\n",
       "The code for this notebook is hidden for easier reading.\n",
       "To toggle it on/off, please click <a href=\"javascript:code_toggle()\">here</a>."
      ],
      "text/plain": [
       "<IPython.core.display.HTML object>"
      ]
     },
     "execution_count": 101,
     "metadata": {},
     "output_type": "execute_result"
    }
   ],
   "source": [
    "from IPython.display import HTML\n",
    "\n",
    "HTML('''<script>\n",
    "code_show=true;\n",
    "function code_toggle() {\n",
    "if (code_show){\n",
    "$('div.input').hide();\n",
    "} else {\n",
    "$('div.input').show();\n",
    "}\n",
    "code_show = !code_show\n",
    "}\n",
    "$( document ).ready(code_toggle);\n",
    "</script>\n",
    "The code for this notebook is hidden for easier reading.\n",
    "To toggle it on/off, please click <a href=\"javascript:code_toggle()\">here</a>.''')"
   ]
  },
  {
   "cell_type": "markdown",
   "metadata": {},
   "source": [
    "**PRIMARY SOURCE:** P. Cortez and A. Silva. Using Data Mining to Predict Secondary School Student Performance. In A. Brito and J. Teixeira Eds., Proceedings of 5th FUture BUsiness TEChnology Conference (FUBUTEC 2008) pp. 5-12, Porto, Portugal, April, 2008, EUROSIS, ISBN 978-9077381-39-7. Fabio Pagnotta, Hossain Mohammad Amran. E-Mail:fabio.pagnotta@studenti.unicam.it, mohammadamra.hossain '@' studenti.unicam.it University Of Camerino\n",
    "\n",
    "**SECONDARY SOURCE:** [Kaggle](https://www.kaggle.com/uciml/student-alcohol-consumption/data)."
   ]
  },
  {
   "cell_type": "markdown",
   "metadata": {},
   "source": [
    "# Questions for Mike"
   ]
  },
  {
   "cell_type": "markdown",
   "metadata": {},
   "source": [
    "- Am I supposed to engineer my features such that they're all categorical for a Classifier and all-continuous for a Regressor?\n",
    "- Why does model performance decline as information gain/impurity decline and depth increases? \n",
    "- Are PCA and PLSR exclusively intended for reducing dimensionality in linear regression models or could I have used them here?\n",
    "- How do PCA and PLSR differ from RFE/RFECV?\n",
    "- How would I modify my manual RFECV implementation to consider importance?\n",
    "- How would I modify sklearn's RFECV implementation \n",
    "- Should I re-do the challenge using all of the available features to try to improve model performance?"
   ]
  },
  {
   "cell_type": "code",
   "execution_count": 89,
   "metadata": {},
   "outputs": [
    {
     "data": {
      "text/html": [
       "<div>\n",
       "<style scoped>\n",
       "    .dataframe tbody tr th:only-of-type {\n",
       "        vertical-align: middle;\n",
       "    }\n",
       "\n",
       "    .dataframe tbody tr th {\n",
       "        vertical-align: top;\n",
       "    }\n",
       "\n",
       "    .dataframe thead th {\n",
       "        text-align: right;\n",
       "    }\n",
       "</style>\n",
       "<table border=\"1\" class=\"dataframe\">\n",
       "  <thead>\n",
       "    <tr style=\"text-align: right;\">\n",
       "      <th></th>\n",
       "      <th>absences</th>\n",
       "      <th>age</th>\n",
       "      <th>weekday drinking</th>\n",
       "      <th>weekend drinking</th>\n",
       "      <th>first score</th>\n",
       "      <th>second score</th>\n",
       "      <th>final score</th>\n",
       "      <th>sex</th>\n",
       "      <th>weekly studying</th>\n",
       "    </tr>\n",
       "  </thead>\n",
       "  <tbody>\n",
       "    <tr>\n",
       "      <th>0</th>\n",
       "      <td>6</td>\n",
       "      <td>18</td>\n",
       "      <td>1</td>\n",
       "      <td>1</td>\n",
       "      <td>25</td>\n",
       "      <td>30</td>\n",
       "      <td>30</td>\n",
       "      <td>F</td>\n",
       "      <td>2</td>\n",
       "    </tr>\n",
       "    <tr>\n",
       "      <th>1</th>\n",
       "      <td>4</td>\n",
       "      <td>17</td>\n",
       "      <td>1</td>\n",
       "      <td>1</td>\n",
       "      <td>25</td>\n",
       "      <td>25</td>\n",
       "      <td>30</td>\n",
       "      <td>F</td>\n",
       "      <td>2</td>\n",
       "    </tr>\n",
       "    <tr>\n",
       "      <th>2</th>\n",
       "      <td>10</td>\n",
       "      <td>15</td>\n",
       "      <td>2</td>\n",
       "      <td>3</td>\n",
       "      <td>35</td>\n",
       "      <td>40</td>\n",
       "      <td>50</td>\n",
       "      <td>F</td>\n",
       "      <td>2</td>\n",
       "    </tr>\n",
       "    <tr>\n",
       "      <th>3</th>\n",
       "      <td>2</td>\n",
       "      <td>15</td>\n",
       "      <td>1</td>\n",
       "      <td>1</td>\n",
       "      <td>75</td>\n",
       "      <td>70</td>\n",
       "      <td>75</td>\n",
       "      <td>F</td>\n",
       "      <td>3</td>\n",
       "    </tr>\n",
       "    <tr>\n",
       "      <th>4</th>\n",
       "      <td>4</td>\n",
       "      <td>16</td>\n",
       "      <td>1</td>\n",
       "      <td>2</td>\n",
       "      <td>30</td>\n",
       "      <td>50</td>\n",
       "      <td>50</td>\n",
       "      <td>F</td>\n",
       "      <td>2</td>\n",
       "    </tr>\n",
       "  </tbody>\n",
       "</table>\n",
       "</div>"
      ],
      "text/plain": [
       "   absences  age  weekday drinking  weekend drinking  first score  \\\n",
       "0         6   18                 1                 1           25   \n",
       "1         4   17                 1                 1           25   \n",
       "2        10   15                 2                 3           35   \n",
       "3         2   15                 1                 1           75   \n",
       "4         4   16                 1                 2           30   \n",
       "\n",
       "   second score  final score sex  weekly studying  \n",
       "0            30           30   F                2  \n",
       "1            25           30   F                2  \n",
       "2            40           50   F                2  \n",
       "3            70           75   F                3  \n",
       "4            50           50   F                2  "
      ]
     },
     "execution_count": 89,
     "metadata": {},
     "output_type": "execute_result"
    }
   ],
   "source": [
    "math = pd.read_csv('C:\\\\Users\\\\missn\\\\Documents\\\\student-mat.csv')\n",
    "\n",
    "#Subsetted variables of interest. \n",
    "math = math[['absences','age','Dalc','Walc','G1','G2','G3','sex','studytime']]\n",
    "\n",
    "#Converted the grades from the 20-point scale into percentages.\n",
    "for column in math[['G1','G2','G3']]:\n",
    "    math[column]=math[column].map(lambda x: x*5)\n",
    "\n",
    "#Renamed certain variables for clarity. \n",
    "math.rename(columns = {'Dalc':'weekday drinking','G1':'first score','G2':'second score','G3':'final score','studytime':'weekly studying','Walc':'weekend drinking'}, inplace = True)\n",
    "\n",
    "#Dropped the original features for weekday and weekend alcohol consumption.\n",
    "math = math.dropna()\n",
    "\n",
    "#Dropped any null observations.\n",
    "math = math.dropna()\n",
    "\n",
    "math.head()"
   ]
  },
  {
   "cell_type": "markdown",
   "metadata": {},
   "source": [
    "**OUTCOME VARIABLE:**\n",
    "- Sex\n",
    "\n",
    "**CATEGORICAL PREDICTOR VARIABLES:**\n",
    "- Weekly Studying\n",
    "- Weekday Drinking\n",
    "- Weekend Drinking\n",
    "\n",
    "**CONTINUOUS PREDICTOR VARIABLES:**\n",
    "- Absences\n",
    "- Age\n",
    "- First Score\n",
    "- Second Score\n",
    "- Final Score\n",
    "\n",
    "There are 33 variables in the original dataset - I'm focusing on these 9 for this challenge."
   ]
  },
  {
   "cell_type": "markdown",
   "metadata": {},
   "source": [
    "# Decision Tree Model"
   ]
  },
  {
   "cell_type": "markdown",
   "metadata": {},
   "source": [
    "## Criterion: Gini (Impurity)"
   ]
  },
  {
   "cell_type": "code",
   "execution_count": 90,
   "metadata": {},
   "outputs": [
    {
     "name": "stdout",
     "output_type": "stream",
     "text": [
      "Depth: 1\n",
      "Model Performance: 64.38%.\n",
      "\n",
      "Depth: 2\n",
      "Model Performance: 70.67%.\n",
      "\n",
      "Depth: 3\n",
      "Model Performance: 69.58%.\n",
      "\n",
      "Depth: 4\n",
      "Model Performance: 67.61%.\n",
      "\n",
      "Depth: 5\n",
      "Model Performance: 66.59%.\n",
      "\n",
      "Depth: 6\n",
      "Model Performance: 64.07%.\n",
      "\n",
      "Depth: 7\n",
      "Model Performance: 61.08%.\n",
      "\n",
      "Depth: 8\n",
      "Model Performance: 60.80%.\n",
      "\n",
      "Depth: 9\n",
      "Model Performance: 58.98%.\n",
      "\n",
      "Depth: 10\n",
      "Model Performance: 58.76%.\n",
      "\n",
      "--- Runtime: 13.147514645453725 seconds. ---\n"
     ]
    }
   ],
   "source": [
    "start_time = timeit.default_timer()\n",
    "\n",
    "for i in range(1,11,1):\n",
    "    decision_tree = tree.DecisionTreeClassifier(criterion = 'gini', max_depth = i, random_state = 0)\n",
    "    X = math.drop('sex',1)\n",
    "    Y = math['sex']\n",
    "    decision_tree.fit(X,Y)\n",
    "\n",
    "    dot_data = tree.export_graphviz(decision_tree, out_file = None, feature_names = X.columns, class_names=['Male', 'Female'], filled=True)\n",
    "    graph = pydotplus.graph_from_dot_data(dot_data)\n",
    "    Image(graph.create_png())\n",
    "    print('Depth: {}'.format(i))\n",
    "    print('Model Performance: {:.2%}.\\n'.format(cross_val_score(decision_tree, X, Y, cv=10).mean()))\n",
    "\n",
    "print(\"--- Runtime: %s seconds. ---\" % (timeit.default_timer() - start_time))"
   ]
  },
  {
   "cell_type": "markdown",
   "metadata": {},
   "source": [
    "### Best-Performing Tree: max_depth = 2"
   ]
  },
  {
   "cell_type": "code",
   "execution_count": 91,
   "metadata": {},
   "outputs": [
    {
     "data": {
      "image/png": "[encoded data removed]",
      "text/plain": [
       "<IPython.core.display.Image object>"
      ]
     },
     "execution_count": 91,
     "metadata": {},
     "output_type": "execute_result"
    }
   ],
   "source": [
    "decision_tree = tree.DecisionTreeClassifier(criterion = 'gini', max_depth = 2, random_state = 0)\n",
    "X = math.drop('sex',1)\n",
    "Y = math['sex']\n",
    "decision_tree.fit(X,Y)\n",
    "\n",
    "dot_data = tree.export_graphviz(decision_tree, out_file = None, feature_names = X.columns, class_names=['Male', 'Female'], filled=True)\n",
    "graph = pydotplus.graph_from_dot_data(dot_data)\n",
    "Image(graph.create_png())"
   ]
  },
  {
   "cell_type": "code",
   "execution_count": 92,
   "metadata": {},
   "outputs": [
    {
     "name": "stdout",
     "output_type": "stream",
     "text": [
      "--- Runtime: 0.21416637337983957 seconds. ---\n"
     ]
    }
   ],
   "source": [
    "start_time = timeit.default_timer()\n",
    "decision_tree = tree.DecisionTreeClassifier(criterion = 'gini', max_depth = 2, random_state = 0)\n",
    "X = math.drop('sex',1)\n",
    "Y = math['sex']\n",
    "decision_tree.fit(X,Y)\n",
    "\n",
    "dot_data = tree.export_graphviz(decision_tree, out_file = None, feature_names = X.columns, class_names=['Male', 'Female'], filled=True)\n",
    "graph = pydotplus.graph_from_dot_data(dot_data)\n",
    "Image(graph.create_png())\n",
    "print(\"--- Runtime: %s seconds. ---\" % (timeit.default_timer() - start_time))"
   ]
  },
  {
   "cell_type": "markdown",
   "metadata": {},
   "source": [
    "## Criterion: Entropy (Information Gain)"
   ]
  },
  {
   "cell_type": "code",
   "execution_count": 93,
   "metadata": {},
   "outputs": [
    {
     "name": "stdout",
     "output_type": "stream",
     "text": [
      "Depth: 1\n",
      "Model Performance: 64.38%.\n",
      "\n",
      "Depth: 2\n",
      "Model Performance: 70.67%.\n",
      "\n",
      "Depth: 3\n",
      "Model Performance: 70.14%.\n",
      "\n",
      "Depth: 4\n",
      "Model Performance: 68.36%.\n",
      "\n",
      "Depth: 5\n",
      "Model Performance: 69.13%.\n",
      "\n",
      "Depth: 6\n",
      "Model Performance: 65.85%.\n",
      "\n",
      "Depth: 7\n",
      "Model Performance: 67.34%.\n",
      "\n",
      "Depth: 8\n",
      "Model Performance: 63.30%.\n",
      "\n",
      "Depth: 9\n",
      "Model Performance: 65.32%.\n",
      "\n",
      "Depth: 10\n",
      "Model Performance: 63.34%.\n",
      "\n",
      "--- Runtime: 10.737440660201173 seconds. ---\n"
     ]
    }
   ],
   "source": [
    "start_time = timeit.default_timer()\n",
    "\n",
    "for i in range(1,11,1):\n",
    "    decision_tree = tree.DecisionTreeClassifier(criterion = 'entropy', max_depth = i, random_state = 0)\n",
    "    X = math.drop('sex',1)\n",
    "    Y = math['sex']\n",
    "    decision_tree.fit(X,Y)\n",
    "\n",
    "    dot_data = tree.export_graphviz(decision_tree, out_file = None, feature_names = X.columns, class_names=['Male', 'Female'], filled=True)\n",
    "    graph = pydotplus.graph_from_dot_data(dot_data)\n",
    "    Image(graph.create_png())\n",
    "    print('Depth: {}'.format(i))\n",
    "    print('Model Performance: {:.2%}.\\n'.format(cross_val_score(decision_tree, X, Y, cv=10).mean()))\n",
    "\n",
    "print(\"--- Runtime: %s seconds. ---\" % (timeit.default_timer() - start_time))"
   ]
  },
  {
   "cell_type": "markdown",
   "metadata": {},
   "source": [
    "### Best-Performing Tree: max_depth = 2"
   ]
  },
  {
   "cell_type": "code",
   "execution_count": 94,
   "metadata": {},
   "outputs": [
    {
     "data": {
      "image/png": "[encoded data removed]",
      "text/plain": [
       "<IPython.core.display.Image object>"
      ]
     },
     "execution_count": 94,
     "metadata": {},
     "output_type": "execute_result"
    }
   ],
   "source": [
    "decision_tree = tree.DecisionTreeClassifier(criterion = 'entropy', max_depth = 2, random_state = 0)\n",
    "X = math.drop('sex',1)\n",
    "Y = math['sex']\n",
    "decision_tree.fit(X,Y)\n",
    "\n",
    "dot_data = tree.export_graphviz(decision_tree, out_file = None, feature_names = X.columns, class_names=['Male', 'Female'], filled=True)\n",
    "graph = pydotplus.graph_from_dot_data(dot_data)\n",
    "Image(graph.create_png())"
   ]
  },
  {
   "cell_type": "code",
   "execution_count": 95,
   "metadata": {},
   "outputs": [
    {
     "name": "stdout",
     "output_type": "stream",
     "text": [
      "--- Runtime: 0.18932843661946208 seconds. ---\n"
     ]
    }
   ],
   "source": [
    "start_time = timeit.default_timer()\n",
    "\n",
    "decision_tree = tree.DecisionTreeClassifier(criterion = 'entropy', max_depth = 2, random_state = 0)\n",
    "X = math.drop('sex',1)\n",
    "Y = math['sex']\n",
    "decision_tree.fit(X,Y)\n",
    "\n",
    "dot_data = tree.export_graphviz(decision_tree, out_file = None, feature_names = X.columns, class_names=['Male', 'Female'], filled=True)\n",
    "graph = pydotplus.graph_from_dot_data(dot_data)\n",
    "Image(graph.create_png())\n",
    "\n",
    "print(\"--- Runtime: %s seconds. ---\" % (timeit.default_timer() - start_time))"
   ]
  },
  {
   "cell_type": "markdown",
   "metadata": {},
   "source": [
    "# Random Forest Model"
   ]
  },
  {
   "cell_type": "markdown",
   "metadata": {},
   "source": [
    "## (Manual) Recursive Feature Elimination With Cross-Validation"
   ]
  },
  {
   "cell_type": "code",
   "execution_count": 96,
   "metadata": {},
   "outputs": [],
   "source": [
    "rfc = ensemble.RandomForestClassifier()\n",
    "rfc.fit(X, Y)\n",
    "names_importances = {}\n",
    "for feature, importance in zip(X.columns, rfc.feature_importances_):\n",
    "    names_importances[feature] = importance\n",
    "    names_importances_desc = sorted(names_importances.items(), key=lambda x: x[1], reverse=True)\n",
    "    names_importances_desc = pd.DataFrame(names_importances_desc, columns=['feature','importance'])"
   ]
  },
  {
   "cell_type": "code",
   "execution_count": 97,
   "metadata": {},
   "outputs": [
    {
     "data": {
      "text/html": [
       "<div>\n",
       "<style scoped>\n",
       "    .dataframe tbody tr th:only-of-type {\n",
       "        vertical-align: middle;\n",
       "    }\n",
       "\n",
       "    .dataframe tbody tr th {\n",
       "        vertical-align: top;\n",
       "    }\n",
       "\n",
       "    .dataframe thead th {\n",
       "        text-align: right;\n",
       "    }\n",
       "</style>\n",
       "<table border=\"1\" class=\"dataframe\">\n",
       "  <thead>\n",
       "    <tr style=\"text-align: right;\">\n",
       "      <th></th>\n",
       "      <th>feature</th>\n",
       "      <th>importance</th>\n",
       "    </tr>\n",
       "  </thead>\n",
       "  <tbody>\n",
       "    <tr>\n",
       "      <th>0</th>\n",
       "      <td>second score</td>\n",
       "      <td>0.162602</td>\n",
       "    </tr>\n",
       "    <tr>\n",
       "      <th>1</th>\n",
       "      <td>absences</td>\n",
       "      <td>0.139525</td>\n",
       "    </tr>\n",
       "    <tr>\n",
       "      <th>2</th>\n",
       "      <td>first score</td>\n",
       "      <td>0.132499</td>\n",
       "    </tr>\n",
       "    <tr>\n",
       "      <th>3</th>\n",
       "      <td>weekend drinking</td>\n",
       "      <td>0.126341</td>\n",
       "    </tr>\n",
       "    <tr>\n",
       "      <th>4</th>\n",
       "      <td>weekly studying</td>\n",
       "      <td>0.125258</td>\n",
       "    </tr>\n",
       "    <tr>\n",
       "      <th>5</th>\n",
       "      <td>final score</td>\n",
       "      <td>0.122369</td>\n",
       "    </tr>\n",
       "    <tr>\n",
       "      <th>6</th>\n",
       "      <td>age</td>\n",
       "      <td>0.113900</td>\n",
       "    </tr>\n",
       "    <tr>\n",
       "      <th>7</th>\n",
       "      <td>weekday drinking</td>\n",
       "      <td>0.077506</td>\n",
       "    </tr>\n",
       "  </tbody>\n",
       "</table>\n",
       "</div>"
      ],
      "text/plain": [
       "            feature  importance\n",
       "0      second score    0.162602\n",
       "1          absences    0.139525\n",
       "2       first score    0.132499\n",
       "3  weekend drinking    0.126341\n",
       "4   weekly studying    0.125258\n",
       "5       final score    0.122369\n",
       "6               age    0.113900\n",
       "7  weekday drinking    0.077506"
      ]
     },
     "execution_count": 97,
     "metadata": {},
     "output_type": "execute_result"
    }
   ],
   "source": [
    "names_importances_desc"
   ]
  },
  {
   "cell_type": "code",
   "execution_count": 98,
   "metadata": {},
   "outputs": [
    {
     "name": "stdout",
     "output_type": "stream",
     "text": [
      "Run Number: 1.\n",
      "\n",
      "Number of Features: 8.\n",
      "\n",
      "Dropped Feature(s): \n",
      "[]\n",
      "\n",
      "Model Performance: 66.09%.\n",
      "\n",
      "Run Number: 2.\n",
      "\n",
      "Number of Features: 7.\n",
      "\n",
      "Dropped Feature(s): \n",
      "['weekday drinking']\n",
      "\n",
      "Model Performance: 63.31%.\n",
      "\n",
      "Run Number: 3.\n",
      "\n",
      "Number of Features: 6.\n",
      "\n",
      "Dropped Feature(s): \n",
      "['second score', 'weekday drinking']\n",
      "\n",
      "Model Performance: 61.53%.\n",
      "\n",
      "Run Number: 4.\n",
      "\n",
      "Number of Features: 5.\n",
      "\n",
      "Dropped Feature(s): \n",
      "['age', 'second score', 'weekday drinking']\n",
      "\n",
      "Model Performance: 62.56%.\n",
      "\n",
      "Run Number: 5.\n",
      "\n",
      "Number of Features: 4.\n",
      "\n",
      "Dropped Feature(s): \n",
      "['weekend drinking', 'age', 'second score', 'weekday drinking']\n",
      "\n",
      "Model Performance: 64.32%.\n",
      "\n",
      "Run Number: 6.\n",
      "\n",
      "Number of Features: 3.\n",
      "\n",
      "Dropped Feature(s): \n",
      "['final score', 'weekend drinking', 'age', 'second score', 'weekday drinking']\n",
      "\n",
      "Model Performance: 65.80%.\n",
      "\n",
      "Run Number: 7.\n",
      "\n",
      "Number of Features: 2.\n",
      "\n",
      "Dropped Feature(s): \n",
      "['weekly studying', 'final score', 'weekend drinking', 'age', 'second score', 'weekday drinking']\n",
      "\n",
      "Model Performance: 59.54%.\n",
      "\n",
      "Run Number: 8.\n",
      "\n",
      "Number of Features: 1.\n",
      "\n",
      "Dropped Feature(s): \n",
      "['absences', 'weekly studying', 'final score', 'weekend drinking', 'age', 'second score', 'weekday drinking']\n",
      "\n",
      "Model Performance: 62.81%.\n",
      "\n",
      "--- Runtime: 1.6156170847303883 seconds. ---\n"
     ]
    }
   ],
   "source": [
    "start_time = timeit.default_timer()\n",
    "\n",
    "X_prime = X[['first score','absences','weekly studying','final score','weekend drinking','age','second score','weekday drinking']]\n",
    "features = list(X_prime.columns)\n",
    "\n",
    "for i in range(len(features),0,-1): \n",
    "    X = X[features[:i+1]]\n",
    "    print('Run Number: {}.\\n'.format(len(features)-i+1))\n",
    "    print('Number of Features: {}.\\n'.format(i))\n",
    "    print('Dropped Feature(s): \\n{}\\n'.format(features[i:]))\n",
    "    print(\"Model Performance: {:.2%}.\\n\".format(cross_val_score(rfc, X_prime, Y, cv=10).mean()))\n",
    "    \n",
    "print(\"--- Runtime: %s seconds. ---\" % (timeit.default_timer() - start_time))"
   ]
  },
  {
   "cell_type": "markdown",
   "metadata": {},
   "source": [
    "## sklearn Recursive Feature Elimination With Cross-Validation"
   ]
  },
  {
   "cell_type": "code",
   "execution_count": 99,
   "metadata": {},
   "outputs": [],
   "source": [
    "def iterative_RFC(X,Y):\n",
    "    start_time = timeit.default_timer()\n",
    "    rfc = ensemble.RandomForestClassifier()\n",
    "    rfecv = RFECV(estimator=rfc, step=1, cv=10, scoring='accuracy')\n",
    "    rfecv.fit(X, Y)\n",
    "    print(\"Optimal Number of Features: {}.\".format(rfecv.n_features_))\n",
    "    print(\"Model Performance: {:.2%}.\".format(rfecv.grid_scores_.mean()))\n",
    "    print(\"--- Runtime: %s seconds. ---\" % (timeit.default_timer() - start_time))"
   ]
  },
  {
   "cell_type": "code",
   "execution_count": 100,
   "metadata": {},
   "outputs": [
    {
     "name": "stdout",
     "output_type": "stream",
     "text": [
      "Optimal Number of Features: 1.\n",
      "Model Performance: 50.80%.\n",
      "--- Runtime: 0.4024530894326972 seconds. ---\n"
     ]
    }
   ],
   "source": [
    "X=X\n",
    "Y=Y\n",
    "iterative_RFC(X,Y)"
   ]
  },
  {
   "cell_type": "markdown",
   "metadata": {},
   "source": [
    "**The Random Forest model takes approximately twice as long as the Decision Tree models. My manual implementations of recursive feature elimination take the longest for both models, but interestingly don't take as long for the former as they do for the latter.**"
   ]
  }
 ],
 "metadata": {
  "kernelspec": {
   "display_name": "Python 3",
   "language": "python",
   "name": "python3"
  },
  "language_info": {
   "codemirror_mode": {
    "name": "ipython",
    "version": 3
   },
   "file_extension": ".py",
   "mimetype": "text/x-python",
   "name": "python",
   "nbconvert_exporter": "python",
   "pygments_lexer": "ipython3",
   "version": "3.6.4"
  },
  "toc": {
   "nav_menu": {},
   "number_sections": true,
   "sideBar": true,
   "skip_h1_title": false,
   "title_cell": "Table of Contents",
   "title_sidebar": "Contents",
   "toc_cell": false,
   "toc_position": {},
   "toc_section_display": "block",
   "toc_window_display": false
  }
 },
 "nbformat": 4,
 "nbformat_minor": 2
}
