{
 "cells": [
  {
   "cell_type": "code",
   "execution_count": 116,
   "metadata": {},
   "outputs": [],
   "source": [
    "# from IPython.display import HTML\n",
    "\n",
    "# HTML('''<script>\n",
    "# code_show=true;\n",
    "# function code_toggle() {\n",
    "# if (code_show){\n",
    "# $('div.input').hide();\n",
    "# } else {\n",
    "# $('div.input').show();\n",
    "# }\n",
    "# code_show = !code_show\n",
    "# }\n",
    "# $( document ).ready(code_toggle);\n",
    "# </script>\n",
    "# The code for this notebook is hidden for easier reading.\n",
    "# To toggle it on/off, please click <a href=\"javascript:code_toggle()\">here</a>.''')"
   ]
  },
  {
   "cell_type": "code",
   "execution_count": 117,
   "metadata": {},
   "outputs": [],
   "source": [
    "%matplotlib inline\n",
    "import math\n",
    "import matplotlib.pyplot as plt\n",
    "import numpy as np\n",
    "import pandas as pd\n",
    "import scipy\n",
    "import sklearn\n",
    "import seaborn as sns\n",
    "from sklearn import linear_model\n",
    "from sklearn import metrics\n",
    "from sklearn import neighbors\n",
    "from sklearn.preprocessing import StandardScaler\n",
    "from sklearn.model_selection import train_test_split\n",
    "from sklearn.model_selection import cross_val_score\n",
    "import statsmodels.formula.api as smf\n",
    "from statsmodels.sandbox.regression.predstd import wls_prediction_std"
   ]
  },
  {
   "cell_type": "markdown",
   "metadata": {},
   "source": [
    "# Data Cleaning"
   ]
  },
  {
   "cell_type": "markdown",
   "metadata": {},
   "source": [
    "**Data: Crime In New York - [2013](https://raw.githubusercontent.com/Thinkful-Ed/data-201-resources/master/New_York_offenses/NEW_YORK-Offenses_Known_to_Law_Enforcement_by_City_2013%20-%2013tbl8ny.csv).**"
   ]
  },
  {
   "cell_type": "markdown",
   "metadata": {},
   "source": [
    "# Notes: Session With Joe"
   ]
  },
  {
   "cell_type": "markdown",
   "metadata": {},
   "source": [
    "**I was told to Z-normalize the entire dataset, then build functions that iteratively drop features in a backward pass and calculate train/test/validation scores so that I can:** \n",
    "-  Select the optimal number of features for building my Linear Regression model, check assumptions, tune parameters, finalize the model, and evaluate its performance.\n",
    "-  Select the optimal k for building my weighted/unweighted k-NN Regression models and then the optimal number of features, finalize the model, and evaluate its performance.  \n",
    "\n",
    "**As such, my questions are:**\n",
    "-  How come R^2 is 100% when the number of features is greater than or equal to 7? What does that mean for feature selection? Was my initial workflow (re: other notebook) wrong? If so, why? \n",
    "- How do I select the optimal k when it differs for training/testing/cross-validation? How would I tell if my model was overfitting? \n",
    "-  What do I fix about my other two functions to resolve dimension-related errors?"
   ]
  },
  {
   "cell_type": "code",
   "execution_count": 118,
   "metadata": {},
   "outputs": [],
   "source": [
    "path = 'https://raw.githubusercontent.com/Thinkful-Ed/data-201-resources/master/New_York_offenses/NEW_YORK-Offenses_Known_to_Law_Enforcement_by_City_2013%20-%2013tbl8ny.csv'\n",
    "crime = pd.read_csv(path)"
   ]
  },
  {
   "cell_type": "code",
   "execution_count": 119,
   "metadata": {
    "scrolled": true
   },
   "outputs": [],
   "source": [
    "pd.options.mode.chained_assignment = None\n",
    "\n",
    "crime.columns = ['city','population','violent_crime','murder','rape_revised','rape_legacy','robbery','aggravated_assault','property_crime','burglary','larceny_theft','vehicle_theft','arson']\n",
    "crime.drop(labels=[0,1,2,3,352,353,354],axis=0,inplace=True)\n",
    "crime.drop(labels=['city','rape_revised'],axis=1,inplace=True)\n",
    "\n",
    "columns = list(crime.columns)\n",
    "for column in columns:\n",
    "     crime[column]=crime[column].str.replace(',','')\n",
    "\n",
    "crime = crime.apply(pd.to_numeric)\n",
    "crime = crime.dropna()"
   ]
  },
  {
   "cell_type": "code",
   "execution_count": 120,
   "metadata": {},
   "outputs": [
    {
     "data": {
      "text/html": [
       "<div>\n",
       "<style scoped>\n",
       "    .dataframe tbody tr th:only-of-type {\n",
       "        vertical-align: middle;\n",
       "    }\n",
       "\n",
       "    .dataframe tbody tr th {\n",
       "        vertical-align: top;\n",
       "    }\n",
       "\n",
       "    .dataframe thead th {\n",
       "        text-align: right;\n",
       "    }\n",
       "</style>\n",
       "<table border=\"1\" class=\"dataframe\">\n",
       "  <thead>\n",
       "    <tr style=\"text-align: right;\">\n",
       "      <th></th>\n",
       "      <th>population</th>\n",
       "      <th>violent_crime</th>\n",
       "      <th>murder</th>\n",
       "      <th>rape_legacy</th>\n",
       "      <th>robbery</th>\n",
       "      <th>aggravated_assault</th>\n",
       "      <th>property_crime</th>\n",
       "      <th>burglary</th>\n",
       "      <th>larceny_theft</th>\n",
       "      <th>vehicle_theft</th>\n",
       "      <th>arson</th>\n",
       "    </tr>\n",
       "  </thead>\n",
       "  <tbody>\n",
       "    <tr>\n",
       "      <th>4</th>\n",
       "      <td>1861</td>\n",
       "      <td>0</td>\n",
       "      <td>0</td>\n",
       "      <td>0</td>\n",
       "      <td>0</td>\n",
       "      <td>0</td>\n",
       "      <td>12</td>\n",
       "      <td>2</td>\n",
       "      <td>10</td>\n",
       "      <td>0</td>\n",
       "      <td>0.0</td>\n",
       "    </tr>\n",
       "    <tr>\n",
       "      <th>5</th>\n",
       "      <td>2577</td>\n",
       "      <td>3</td>\n",
       "      <td>0</td>\n",
       "      <td>0</td>\n",
       "      <td>0</td>\n",
       "      <td>3</td>\n",
       "      <td>24</td>\n",
       "      <td>3</td>\n",
       "      <td>20</td>\n",
       "      <td>1</td>\n",
       "      <td>0.0</td>\n",
       "    </tr>\n",
       "    <tr>\n",
       "      <th>6</th>\n",
       "      <td>2846</td>\n",
       "      <td>3</td>\n",
       "      <td>0</td>\n",
       "      <td>0</td>\n",
       "      <td>0</td>\n",
       "      <td>3</td>\n",
       "      <td>16</td>\n",
       "      <td>1</td>\n",
       "      <td>15</td>\n",
       "      <td>0</td>\n",
       "      <td>0.0</td>\n",
       "    </tr>\n",
       "    <tr>\n",
       "      <th>10</th>\n",
       "      <td>1781</td>\n",
       "      <td>3</td>\n",
       "      <td>0</td>\n",
       "      <td>0</td>\n",
       "      <td>0</td>\n",
       "      <td>3</td>\n",
       "      <td>10</td>\n",
       "      <td>0</td>\n",
       "      <td>10</td>\n",
       "      <td>0</td>\n",
       "      <td>0.0</td>\n",
       "    </tr>\n",
       "    <tr>\n",
       "      <th>11</th>\n",
       "      <td>118296</td>\n",
       "      <td>107</td>\n",
       "      <td>1</td>\n",
       "      <td>7</td>\n",
       "      <td>31</td>\n",
       "      <td>68</td>\n",
       "      <td>2118</td>\n",
       "      <td>204</td>\n",
       "      <td>1882</td>\n",
       "      <td>32</td>\n",
       "      <td>3.0</td>\n",
       "    </tr>\n",
       "  </tbody>\n",
       "</table>\n",
       "</div>"
      ],
      "text/plain": [
       "    population  violent_crime  murder  rape_legacy  robbery  \\\n",
       "4         1861              0       0            0        0   \n",
       "5         2577              3       0            0        0   \n",
       "6         2846              3       0            0        0   \n",
       "10        1781              3       0            0        0   \n",
       "11      118296            107       1            7       31   \n",
       "\n",
       "    aggravated_assault  property_crime  burglary  larceny_theft  \\\n",
       "4                    0              12         2             10   \n",
       "5                    3              24         3             20   \n",
       "6                    3              16         1             15   \n",
       "10                   3              10         0             10   \n",
       "11                  68            2118       204           1882   \n",
       "\n",
       "    vehicle_theft  arson  \n",
       "4               0    0.0  \n",
       "5               1    0.0  \n",
       "6               0    0.0  \n",
       "10              0    0.0  \n",
       "11             32    3.0  "
      ]
     },
     "execution_count": 120,
     "metadata": {},
     "output_type": "execute_result"
    }
   ],
   "source": [
    "crime.head()"
   ]
  },
  {
   "cell_type": "code",
   "execution_count": 121,
   "metadata": {
    "scrolled": true
   },
   "outputs": [
    {
     "data": {
      "text/html": [
       "<div>\n",
       "<style scoped>\n",
       "    .dataframe tbody tr th:only-of-type {\n",
       "        vertical-align: middle;\n",
       "    }\n",
       "\n",
       "    .dataframe tbody tr th {\n",
       "        vertical-align: top;\n",
       "    }\n",
       "\n",
       "    .dataframe thead th {\n",
       "        text-align: right;\n",
       "    }\n",
       "</style>\n",
       "<table border=\"1\" class=\"dataframe\">\n",
       "  <thead>\n",
       "    <tr style=\"text-align: right;\">\n",
       "      <th></th>\n",
       "      <th>population</th>\n",
       "      <th>violent_crime</th>\n",
       "      <th>murder</th>\n",
       "      <th>rape_legacy</th>\n",
       "      <th>robbery</th>\n",
       "      <th>aggravated_assault</th>\n",
       "      <th>property_crime</th>\n",
       "      <th>burglary</th>\n",
       "      <th>larceny_theft</th>\n",
       "      <th>vehicle_theft</th>\n",
       "      <th>arson</th>\n",
       "    </tr>\n",
       "  </thead>\n",
       "  <tbody>\n",
       "    <tr>\n",
       "      <th>count</th>\n",
       "      <td>187.000000</td>\n",
       "      <td>187.000000</td>\n",
       "      <td>187.000000</td>\n",
       "      <td>187.000000</td>\n",
       "      <td>187.000000</td>\n",
       "      <td>187.000000</td>\n",
       "      <td>187.000000</td>\n",
       "      <td>187.000000</td>\n",
       "      <td>187.000000</td>\n",
       "      <td>187.000000</td>\n",
       "      <td>187.000000</td>\n",
       "    </tr>\n",
       "    <tr>\n",
       "      <th>mean</th>\n",
       "      <td>14787.053476</td>\n",
       "      <td>45.978610</td>\n",
       "      <td>0.566845</td>\n",
       "      <td>2.192513</td>\n",
       "      <td>16.556150</td>\n",
       "      <td>26.663102</td>\n",
       "      <td>339.823529</td>\n",
       "      <td>65.037433</td>\n",
       "      <td>260.871658</td>\n",
       "      <td>13.914439</td>\n",
       "      <td>1.871658</td>\n",
       "    </tr>\n",
       "    <tr>\n",
       "      <th>std</th>\n",
       "      <td>27220.701187</td>\n",
       "      <td>201.362989</td>\n",
       "      <td>3.552914</td>\n",
       "      <td>9.124901</td>\n",
       "      <td>81.476501</td>\n",
       "      <td>109.234772</td>\n",
       "      <td>965.182269</td>\n",
       "      <td>242.693164</td>\n",
       "      <td>675.898585</td>\n",
       "      <td>57.360520</td>\n",
       "      <td>10.693411</td>\n",
       "    </tr>\n",
       "    <tr>\n",
       "      <th>min</th>\n",
       "      <td>526.000000</td>\n",
       "      <td>0.000000</td>\n",
       "      <td>0.000000</td>\n",
       "      <td>0.000000</td>\n",
       "      <td>0.000000</td>\n",
       "      <td>0.000000</td>\n",
       "      <td>0.000000</td>\n",
       "      <td>0.000000</td>\n",
       "      <td>0.000000</td>\n",
       "      <td>0.000000</td>\n",
       "      <td>0.000000</td>\n",
       "    </tr>\n",
       "    <tr>\n",
       "      <th>25%</th>\n",
       "      <td>2195.000000</td>\n",
       "      <td>1.000000</td>\n",
       "      <td>0.000000</td>\n",
       "      <td>0.000000</td>\n",
       "      <td>0.000000</td>\n",
       "      <td>0.000000</td>\n",
       "      <td>19.500000</td>\n",
       "      <td>3.000000</td>\n",
       "      <td>16.000000</td>\n",
       "      <td>0.000000</td>\n",
       "      <td>0.000000</td>\n",
       "    </tr>\n",
       "    <tr>\n",
       "      <th>50%</th>\n",
       "      <td>6487.000000</td>\n",
       "      <td>4.000000</td>\n",
       "      <td>0.000000</td>\n",
       "      <td>0.000000</td>\n",
       "      <td>1.000000</td>\n",
       "      <td>3.000000</td>\n",
       "      <td>73.000000</td>\n",
       "      <td>11.000000</td>\n",
       "      <td>62.000000</td>\n",
       "      <td>2.000000</td>\n",
       "      <td>0.000000</td>\n",
       "    </tr>\n",
       "    <tr>\n",
       "      <th>75%</th>\n",
       "      <td>16109.000000</td>\n",
       "      <td>17.000000</td>\n",
       "      <td>0.000000</td>\n",
       "      <td>1.000000</td>\n",
       "      <td>4.000000</td>\n",
       "      <td>11.000000</td>\n",
       "      <td>297.000000</td>\n",
       "      <td>39.000000</td>\n",
       "      <td>240.500000</td>\n",
       "      <td>5.000000</td>\n",
       "      <td>1.000000</td>\n",
       "    </tr>\n",
       "    <tr>\n",
       "      <th>max</th>\n",
       "      <td>210562.000000</td>\n",
       "      <td>2107.000000</td>\n",
       "      <td>42.000000</td>\n",
       "      <td>92.000000</td>\n",
       "      <td>918.000000</td>\n",
       "      <td>1055.000000</td>\n",
       "      <td>10051.000000</td>\n",
       "      <td>2587.000000</td>\n",
       "      <td>6855.000000</td>\n",
       "      <td>609.000000</td>\n",
       "      <td>132.000000</td>\n",
       "    </tr>\n",
       "  </tbody>\n",
       "</table>\n",
       "</div>"
      ],
      "text/plain": [
       "          population  violent_crime      murder  rape_legacy     robbery  \\\n",
       "count     187.000000     187.000000  187.000000   187.000000  187.000000   \n",
       "mean    14787.053476      45.978610    0.566845     2.192513   16.556150   \n",
       "std     27220.701187     201.362989    3.552914     9.124901   81.476501   \n",
       "min       526.000000       0.000000    0.000000     0.000000    0.000000   \n",
       "25%      2195.000000       1.000000    0.000000     0.000000    0.000000   \n",
       "50%      6487.000000       4.000000    0.000000     0.000000    1.000000   \n",
       "75%     16109.000000      17.000000    0.000000     1.000000    4.000000   \n",
       "max    210562.000000    2107.000000   42.000000    92.000000  918.000000   \n",
       "\n",
       "       aggravated_assault  property_crime     burglary  larceny_theft  \\\n",
       "count          187.000000      187.000000   187.000000     187.000000   \n",
       "mean            26.663102      339.823529    65.037433     260.871658   \n",
       "std            109.234772      965.182269   242.693164     675.898585   \n",
       "min              0.000000        0.000000     0.000000       0.000000   \n",
       "25%              0.000000       19.500000     3.000000      16.000000   \n",
       "50%              3.000000       73.000000    11.000000      62.000000   \n",
       "75%             11.000000      297.000000    39.000000     240.500000   \n",
       "max           1055.000000    10051.000000  2587.000000    6855.000000   \n",
       "\n",
       "       vehicle_theft       arson  \n",
       "count     187.000000  187.000000  \n",
       "mean       13.914439    1.871658  \n",
       "std        57.360520   10.693411  \n",
       "min         0.000000    0.000000  \n",
       "25%         0.000000    0.000000  \n",
       "50%         2.000000    0.000000  \n",
       "75%         5.000000    1.000000  \n",
       "max       609.000000  132.000000  "
      ]
     },
     "execution_count": 121,
     "metadata": {},
     "output_type": "execute_result"
    }
   ],
   "source": [
    "crime.describe()"
   ]
  },
  {
   "cell_type": "code",
   "execution_count": 122,
   "metadata": {},
   "outputs": [],
   "source": [
    "z_scaler = StandardScaler()\n",
    "crime = pd.DataFrame(data=z_scaler.fit_transform(crime),\n",
    "                   columns=['aggravated_assault','arson','burglary','larceny_theft','murder','population','property_crime','rape_legacy','robbery','vehicle_theft','violent_crime'])"
   ]
  },
  {
   "cell_type": "code",
   "execution_count": 123,
   "metadata": {},
   "outputs": [
    {
     "data": {
      "text/html": [
       "<div>\n",
       "<style scoped>\n",
       "    .dataframe tbody tr th:only-of-type {\n",
       "        vertical-align: middle;\n",
       "    }\n",
       "\n",
       "    .dataframe tbody tr th {\n",
       "        vertical-align: top;\n",
       "    }\n",
       "\n",
       "    .dataframe thead th {\n",
       "        text-align: right;\n",
       "    }\n",
       "</style>\n",
       "<table border=\"1\" class=\"dataframe\">\n",
       "  <thead>\n",
       "    <tr style=\"text-align: right;\">\n",
       "      <th></th>\n",
       "      <th>aggravated_assault</th>\n",
       "      <th>arson</th>\n",
       "      <th>burglary</th>\n",
       "      <th>larceny_theft</th>\n",
       "      <th>murder</th>\n",
       "      <th>population</th>\n",
       "      <th>property_crime</th>\n",
       "      <th>rape_legacy</th>\n",
       "      <th>robbery</th>\n",
       "      <th>vehicle_theft</th>\n",
       "      <th>violent_crime</th>\n",
       "    </tr>\n",
       "  </thead>\n",
       "  <tbody>\n",
       "    <tr>\n",
       "      <th>0</th>\n",
       "      <td>-0.476136</td>\n",
       "      <td>-0.228950</td>\n",
       "      <td>-0.159972</td>\n",
       "      <td>-0.240923</td>\n",
       "      <td>-0.203747</td>\n",
       "      <td>-0.244745</td>\n",
       "      <td>-0.340561</td>\n",
       "      <td>-0.260439</td>\n",
       "      <td>-0.372164</td>\n",
       "      <td>-0.243230</td>\n",
       "      <td>-0.175499</td>\n",
       "    </tr>\n",
       "    <tr>\n",
       "      <th>1</th>\n",
       "      <td>-0.449762</td>\n",
       "      <td>-0.214011</td>\n",
       "      <td>-0.159972</td>\n",
       "      <td>-0.240923</td>\n",
       "      <td>-0.203747</td>\n",
       "      <td>-0.217208</td>\n",
       "      <td>-0.328095</td>\n",
       "      <td>-0.256307</td>\n",
       "      <td>-0.357329</td>\n",
       "      <td>-0.225749</td>\n",
       "      <td>-0.175499</td>\n",
       "    </tr>\n",
       "    <tr>\n",
       "      <th>2</th>\n",
       "      <td>-0.439853</td>\n",
       "      <td>-0.214011</td>\n",
       "      <td>-0.159972</td>\n",
       "      <td>-0.240923</td>\n",
       "      <td>-0.203747</td>\n",
       "      <td>-0.217208</td>\n",
       "      <td>-0.336406</td>\n",
       "      <td>-0.264570</td>\n",
       "      <td>-0.364747</td>\n",
       "      <td>-0.243230</td>\n",
       "      <td>-0.175499</td>\n",
       "    </tr>\n",
       "    <tr>\n",
       "      <th>3</th>\n",
       "      <td>-0.479083</td>\n",
       "      <td>-0.214011</td>\n",
       "      <td>-0.159972</td>\n",
       "      <td>-0.240923</td>\n",
       "      <td>-0.203747</td>\n",
       "      <td>-0.217208</td>\n",
       "      <td>-0.342639</td>\n",
       "      <td>-0.268702</td>\n",
       "      <td>-0.372164</td>\n",
       "      <td>-0.243230</td>\n",
       "      <td>-0.175499</td>\n",
       "    </tr>\n",
       "    <tr>\n",
       "      <th>4</th>\n",
       "      <td>3.812790</td>\n",
       "      <td>0.303855</td>\n",
       "      <td>0.122243</td>\n",
       "      <td>0.528268</td>\n",
       "      <td>0.177752</td>\n",
       "      <td>0.379438</td>\n",
       "      <td>1.847268</td>\n",
       "      <td>0.574123</td>\n",
       "      <td>2.404918</td>\n",
       "      <td>0.316143</td>\n",
       "      <td>0.105801</td>\n",
       "    </tr>\n",
       "  </tbody>\n",
       "</table>\n",
       "</div>"
      ],
      "text/plain": [
       "   aggravated_assault     arson  burglary  larceny_theft    murder  \\\n",
       "0           -0.476136 -0.228950 -0.159972      -0.240923 -0.203747   \n",
       "1           -0.449762 -0.214011 -0.159972      -0.240923 -0.203747   \n",
       "2           -0.439853 -0.214011 -0.159972      -0.240923 -0.203747   \n",
       "3           -0.479083 -0.214011 -0.159972      -0.240923 -0.203747   \n",
       "4            3.812790  0.303855  0.122243       0.528268  0.177752   \n",
       "\n",
       "   population  property_crime  rape_legacy   robbery  vehicle_theft  \\\n",
       "0   -0.244745       -0.340561    -0.260439 -0.372164      -0.243230   \n",
       "1   -0.217208       -0.328095    -0.256307 -0.357329      -0.225749   \n",
       "2   -0.217208       -0.336406    -0.264570 -0.364747      -0.243230   \n",
       "3   -0.217208       -0.342639    -0.268702 -0.372164      -0.243230   \n",
       "4    0.379438        1.847268     0.574123  2.404918       0.316143   \n",
       "\n",
       "   violent_crime  \n",
       "0      -0.175499  \n",
       "1      -0.175499  \n",
       "2      -0.175499  \n",
       "3      -0.175499  \n",
       "4       0.105801  "
      ]
     },
     "execution_count": 123,
     "metadata": {},
     "output_type": "execute_result"
    }
   ],
   "source": [
    "crime.head()"
   ]
  },
  {
   "cell_type": "code",
   "execution_count": 124,
   "metadata": {},
   "outputs": [
    {
     "data": {
      "text/html": [
       "<div>\n",
       "<style scoped>\n",
       "    .dataframe tbody tr th:only-of-type {\n",
       "        vertical-align: middle;\n",
       "    }\n",
       "\n",
       "    .dataframe tbody tr th {\n",
       "        vertical-align: top;\n",
       "    }\n",
       "\n",
       "    .dataframe thead th {\n",
       "        text-align: right;\n",
       "    }\n",
       "</style>\n",
       "<table border=\"1\" class=\"dataframe\">\n",
       "  <thead>\n",
       "    <tr style=\"text-align: right;\">\n",
       "      <th></th>\n",
       "      <th>aggravated_assault</th>\n",
       "      <th>arson</th>\n",
       "      <th>burglary</th>\n",
       "      <th>larceny_theft</th>\n",
       "      <th>murder</th>\n",
       "      <th>population</th>\n",
       "      <th>property_crime</th>\n",
       "      <th>rape_legacy</th>\n",
       "      <th>robbery</th>\n",
       "      <th>vehicle_theft</th>\n",
       "      <th>violent_crime</th>\n",
       "    </tr>\n",
       "  </thead>\n",
       "  <tbody>\n",
       "    <tr>\n",
       "      <th>count</th>\n",
       "      <td>1.870000e+02</td>\n",
       "      <td>1.870000e+02</td>\n",
       "      <td>1.870000e+02</td>\n",
       "      <td>1.870000e+02</td>\n",
       "      <td>1.870000e+02</td>\n",
       "      <td>1.870000e+02</td>\n",
       "      <td>1.870000e+02</td>\n",
       "      <td>1.870000e+02</td>\n",
       "      <td>1.870000e+02</td>\n",
       "      <td>1.870000e+02</td>\n",
       "      <td>1.870000e+02</td>\n",
       "    </tr>\n",
       "    <tr>\n",
       "      <th>mean</th>\n",
       "      <td>3.799694e-17</td>\n",
       "      <td>8.074349e-17</td>\n",
       "      <td>3.241614e-16</td>\n",
       "      <td>2.541045e-16</td>\n",
       "      <td>-1.899847e-17</td>\n",
       "      <td>1.947343e-16</td>\n",
       "      <td>9.499234e-18</td>\n",
       "      <td>4.274655e-17</td>\n",
       "      <td>-1.662366e-17</td>\n",
       "      <td>1.187404e-16</td>\n",
       "      <td>1.139908e-16</td>\n",
       "    </tr>\n",
       "    <tr>\n",
       "      <th>std</th>\n",
       "      <td>1.002685e+00</td>\n",
       "      <td>1.002685e+00</td>\n",
       "      <td>1.002685e+00</td>\n",
       "      <td>1.002685e+00</td>\n",
       "      <td>1.002685e+00</td>\n",
       "      <td>1.002685e+00</td>\n",
       "      <td>1.002685e+00</td>\n",
       "      <td>1.002685e+00</td>\n",
       "      <td>1.002685e+00</td>\n",
       "      <td>1.002685e+00</td>\n",
       "      <td>1.002685e+00</td>\n",
       "    </tr>\n",
       "    <tr>\n",
       "      <th>min</th>\n",
       "      <td>-5.253112e-01</td>\n",
       "      <td>-2.289499e-01</td>\n",
       "      <td>-1.599720e-01</td>\n",
       "      <td>-2.409231e-01</td>\n",
       "      <td>-2.037470e-01</td>\n",
       "      <td>-2.447451e-01</td>\n",
       "      <td>-3.530274e-01</td>\n",
       "      <td>-2.687016e-01</td>\n",
       "      <td>-3.869989e-01</td>\n",
       "      <td>-2.432299e-01</td>\n",
       "      <td>-1.754990e-01</td>\n",
       "    </tr>\n",
       "    <tr>\n",
       "      <th>25%</th>\n",
       "      <td>-4.638329e-01</td>\n",
       "      <td>-2.239704e-01</td>\n",
       "      <td>-1.599720e-01</td>\n",
       "      <td>-2.409231e-01</td>\n",
       "      <td>-2.037470e-01</td>\n",
       "      <td>-2.447451e-01</td>\n",
       "      <td>-3.327697e-01</td>\n",
       "      <td>-2.563071e-01</td>\n",
       "      <td>-3.632631e-01</td>\n",
       "      <td>-2.432299e-01</td>\n",
       "      <td>-1.754990e-01</td>\n",
       "    </tr>\n",
       "    <tr>\n",
       "      <th>50%</th>\n",
       "      <td>-3.057355e-01</td>\n",
       "      <td>-2.090320e-01</td>\n",
       "      <td>-1.599720e-01</td>\n",
       "      <td>-2.409231e-01</td>\n",
       "      <td>-1.914406e-01</td>\n",
       "      <td>-2.172076e-01</td>\n",
       "      <td>-2.771910e-01</td>\n",
       "      <td>-2.232552e-01</td>\n",
       "      <td>-2.950229e-01</td>\n",
       "      <td>-2.082691e-01</td>\n",
       "      <td>-1.754990e-01</td>\n",
       "    </tr>\n",
       "    <tr>\n",
       "      <th>75%</th>\n",
       "      <td>4.869439e-02</td>\n",
       "      <td>-1.442986e-01</td>\n",
       "      <td>-1.599720e-01</td>\n",
       "      <td>-1.310387e-01</td>\n",
       "      <td>-1.545213e-01</td>\n",
       "      <td>-1.437743e-01</td>\n",
       "      <td>-4.448744e-02</td>\n",
       "      <td>-1.075734e-01</td>\n",
       "      <td>-3.022102e-02</td>\n",
       "      <td>-1.558279e-01</td>\n",
       "      <td>-8.173237e-02</td>\n",
       "    </tr>\n",
       "    <tr>\n",
       "      <th>max</th>\n",
       "      <td>7.211442e+00</td>\n",
       "      <td>1.026283e+01</td>\n",
       "      <td>1.169305e+01</td>\n",
       "      <td>9.868445e+00</td>\n",
       "      <td>1.109355e+01</td>\n",
       "      <td>9.439279e+00</td>\n",
       "      <td>1.008851e+01</td>\n",
       "      <td>1.041947e+01</td>\n",
       "      <td>9.782282e+00</td>\n",
       "      <td>1.040233e+01</td>\n",
       "      <td>1.220169e+01</td>\n",
       "    </tr>\n",
       "  </tbody>\n",
       "</table>\n",
       "</div>"
      ],
      "text/plain": [
       "       aggravated_assault         arson      burglary  larceny_theft  \\\n",
       "count        1.870000e+02  1.870000e+02  1.870000e+02   1.870000e+02   \n",
       "mean         3.799694e-17  8.074349e-17  3.241614e-16   2.541045e-16   \n",
       "std          1.002685e+00  1.002685e+00  1.002685e+00   1.002685e+00   \n",
       "min         -5.253112e-01 -2.289499e-01 -1.599720e-01  -2.409231e-01   \n",
       "25%         -4.638329e-01 -2.239704e-01 -1.599720e-01  -2.409231e-01   \n",
       "50%         -3.057355e-01 -2.090320e-01 -1.599720e-01  -2.409231e-01   \n",
       "75%          4.869439e-02 -1.442986e-01 -1.599720e-01  -1.310387e-01   \n",
       "max          7.211442e+00  1.026283e+01  1.169305e+01   9.868445e+00   \n",
       "\n",
       "             murder    population  property_crime   rape_legacy       robbery  \\\n",
       "count  1.870000e+02  1.870000e+02    1.870000e+02  1.870000e+02  1.870000e+02   \n",
       "mean  -1.899847e-17  1.947343e-16    9.499234e-18  4.274655e-17 -1.662366e-17   \n",
       "std    1.002685e+00  1.002685e+00    1.002685e+00  1.002685e+00  1.002685e+00   \n",
       "min   -2.037470e-01 -2.447451e-01   -3.530274e-01 -2.687016e-01 -3.869989e-01   \n",
       "25%   -2.037470e-01 -2.447451e-01   -3.327697e-01 -2.563071e-01 -3.632631e-01   \n",
       "50%   -1.914406e-01 -2.172076e-01   -2.771910e-01 -2.232552e-01 -2.950229e-01   \n",
       "75%   -1.545213e-01 -1.437743e-01   -4.448744e-02 -1.075734e-01 -3.022102e-02   \n",
       "max    1.109355e+01  9.439279e+00    1.008851e+01  1.041947e+01  9.782282e+00   \n",
       "\n",
       "       vehicle_theft  violent_crime  \n",
       "count   1.870000e+02   1.870000e+02  \n",
       "mean    1.187404e-16   1.139908e-16  \n",
       "std     1.002685e+00   1.002685e+00  \n",
       "min    -2.432299e-01  -1.754990e-01  \n",
       "25%    -2.432299e-01  -1.754990e-01  \n",
       "50%    -2.082691e-01  -1.754990e-01  \n",
       "75%    -1.558279e-01  -8.173237e-02  \n",
       "max     1.040233e+01   1.220169e+01  "
      ]
     },
     "execution_count": 124,
     "metadata": {},
     "output_type": "execute_result"
    }
   ],
   "source": [
    "crime.describe()"
   ]
  },
  {
   "cell_type": "code",
   "execution_count": 125,
   "metadata": {
    "scrolled": false
   },
   "outputs": [
    {
     "data": {
      "image/png": "[encoded data removed]",
      "text/plain": [
       "<matplotlib.figure.Figure at 0x15cd5acef28>"
      ]
     },
     "metadata": {},
     "output_type": "display_data"
    }
   ],
   "source": [
    "population = sns.violinplot(crime['population'], color='m')"
   ]
  },
  {
   "cell_type": "code",
   "execution_count": 126,
   "metadata": {},
   "outputs": [],
   "source": [
    "q25 = crime['population'].quantile(0.25)\n",
    "q75 = crime['population'].quantile(0.75)\n",
    "iqr = q75 - q25\n",
    "maximum = q75 + (iqr * 1.5)\n",
    "crime=crime.where(crime['population'] < maximum)"
   ]
  },
  {
   "cell_type": "code",
   "execution_count": 127,
   "metadata": {},
   "outputs": [
    {
     "data": {
      "image/png": "[encoded data removed]",
      "text/plain": [
       "<matplotlib.figure.Figure at 0x15cd5b91a90>"
      ]
     },
     "metadata": {},
     "output_type": "display_data"
    }
   ],
   "source": [
    "population = sns.violinplot(crime['population'], color='m')"
   ]
  },
  {
   "cell_type": "markdown",
   "metadata": {},
   "source": [
    "# Linear Regression Model "
   ]
  },
  {
   "cell_type": "code",
   "execution_count": 128,
   "metadata": {},
   "outputs": [],
   "source": [
    "crime = crime.replace([np.inf, -np.inf], np.nan).dropna(how=\"all\")"
   ]
  },
  {
   "cell_type": "code",
   "execution_count": 129,
   "metadata": {},
   "outputs": [],
   "source": [
    "def iterative_LR(X,Y):\n",
    "    \n",
    "    features = list(X.columns) \n",
    "    feature_count = []\n",
    "    train_scores = []\n",
    "    test_scores = []\n",
    "    cross_scores = []\n",
    "    \n",
    "    for i in range(len(features),0,-1):  \n",
    "        feature_count.append(i)\n",
    "        X = X[features[:i+1]]\n",
    "                \n",
    "        #Train-Test Split.\n",
    "        X_train, X_test, Y_train, Y_test = train_test_split(X, Y, test_size=0.9, random_state=0)\n",
    "        \n",
    "        #Training & Scores.\n",
    "        regr = linear_model.LinearRegression()\n",
    "        regr.fit(X_train,Y_train)\n",
    "        train_scores.append(regr.score(X_train, Y_train)*100)\n",
    "               \n",
    "        #Testing & Scores.\n",
    "        Y_pred = regr.predict(X_test)\n",
    "        test_scores.append(metrics.r2_score(Y_test, Y_pred)*100)\n",
    "        \n",
    "        #Cross-Validation & Scores.\n",
    "        cross_scores.append(cross_val_score(regr, X_test, Y_test, cv=5, scoring = 'r2').mean()*100)\n",
    "        \n",
    "        #Plotting Number of Features & All 3 Scores For Each Loop Run.\n",
    "        plt.plot(feature_count, train_scores, linewidth=2.0,c='k',label='Training')\n",
    "        plt.plot(feature_count, test_scores, linewidth=2.0,c='c',label='Testing')  \n",
    "        plt.plot(feature_count, cross_scores, linewidth=2.0,c='m',label='Cross-Validation')\n",
    "        \n",
    "        plt.xticks(range(12))\n",
    "        plt.xlabel('Number of Features')\n",
    "        plt.ylabel('Score')\n",
    "\n",
    "    #Model Descriptive Statistics.\n",
    "    maxtrainscore_idx = train_scores.index(max(train_scores))\n",
    "    maxfeatures_train = feature_count[maxtrainscore_idx] \n",
    "    print('Highest Training R^2: {:.2f}%.'.format(max(train_scores)))\n",
    "    print('Number Of Features For Highest Training R^2: {}.'.format(maxfeatures_train))\n",
    "    \n",
    "    maxtestscore_idx = test_scores.index(max(test_scores))\n",
    "    maxfeatures_test = feature_count[maxtestscore_idx] \n",
    "    print('Highest Testing R^2: {:.2f}%.'.format(max(test_scores)))\n",
    "    print('Number Of Features For Highest Testing R^2: {}.'.format(maxfeatures_test))\n",
    "    \n",
    "    maxcrossscore_idx = cross_scores.index(max(cross_scores))\n",
    "    maxfeatures_cross = feature_count[maxcrossscore_idx] \n",
    "    print('Highest Cross-Validation R^2: {:.2f}%.'.format(max(cross_scores)))\n",
    "    print('Number Of Features For Highest Cross-Validation R^2: {}.'.format(maxfeatures_cross))"
   ]
  },
  {
   "cell_type": "code",
   "execution_count": 130,
   "metadata": {
    "scrolled": false
   },
   "outputs": [
    {
     "name": "stdout",
     "output_type": "stream",
     "text": [
      "Highest Training R^2: 100.00%.\n",
      "Number Of Features For Highest Training R^2: 10.\n",
      "Highest Testing R^2: 100.00%.\n",
      "Number Of Features For Highest Testing R^2: 10.\n",
      "Highest Cross-Validation R^2: 100.00%.\n",
      "Number Of Features For Highest Cross-Validation R^2: 10.\n"
     ]
    },
    {
     "data": {
      "image/png": "[encoded data removed]",
      "text/plain": [
       "<matplotlib.figure.Figure at 0x15cd5b5beb8>"
      ]
     },
     "metadata": {},
     "output_type": "display_data"
    }
   ],
   "source": [
    "X = crime.drop('property_crime',axis=1)\n",
    "Y = crime['property_crime']\n",
    "iterative_LR(X,Y)"
   ]
  },
  {
   "cell_type": "code",
   "execution_count": 131,
   "metadata": {},
   "outputs": [],
   "source": [
    "# crime_train = pd.concat([X_train, Y_train], axis=1)\n",
    "# lf = 'property_crime ~ aggravated_assault + arson + burglary + larceny_theft + murder + population + rape_legacy + vehicle_theft + violent_crime'\n",
    "# lm = smf.ols(formula=lf, data=crime_train).fit()\n",
    "# print(lm.summary())"
   ]
  },
  {
   "cell_type": "markdown",
   "metadata": {},
   "source": [
    "## Checking Assumptions"
   ]
  },
  {
   "cell_type": "markdown",
   "metadata": {},
   "source": [
    "### Linear Relationship"
   ]
  },
  {
   "cell_type": "code",
   "execution_count": 132,
   "metadata": {},
   "outputs": [],
   "source": [
    "# plt.scatter(y=crime['property_crime'], x=crime['burglary'], c='m',edgecolors='k')\n",
    "# plt.ylabel('Property Crime')\n",
    "# plt.xlabel('Burglary')\n",
    "# plt.title('Burglary vs. Property Crime')\n",
    "# plt.show()\n",
    "\n",
    "# plt.scatter(y=crime['property_crime'], x=crime['larceny_theft'],c='m',edgecolors='k')\n",
    "# plt.ylabel('Property Crime')\n",
    "# plt.xlabel('Larceny')\n",
    "# plt.title('Larceny vs. Property Crime')\n",
    "# plt.show()\n",
    "\n",
    "# plt.scatter(y=crime['property_crime'], x=crime['population'],c='m',edgecolors='k')\n",
    "# plt.ylabel('Property Crime')\n",
    "# plt.xlabel('Population')\n",
    "# plt.title('Population vs. Property Crime')\n",
    "# plt.show()\n",
    "\n",
    "# plt.scatter(y=crime['property_crime'], x=crime['vehicle_theft'],c='m',edgecolors='k')\n",
    "# plt.ylabel('Property Crime')\n",
    "# plt.xlabel('Vehicle Theft')\n",
    "# plt.title('Vehicle Theft vs. Property Crime')\n",
    "# plt.show()"
   ]
  },
  {
   "cell_type": "markdown",
   "metadata": {},
   "source": [
    "### Multivariate Normality"
   ]
  },
  {
   "cell_type": "code",
   "execution_count": 133,
   "metadata": {},
   "outputs": [],
   "source": [
    "# predicted = regr.predict(X_train).ravel()\n",
    "# actual = Y_train\n",
    "# residual = actual - predicted\n",
    "\n",
    "# plt.hist(residual,color='m',edgecolor='k')\n",
    "# plt.title('Residual Counts')\n",
    "# plt.xlabel('Residual')\n",
    "# plt.ylabel('Count')\n",
    "# plt.show()"
   ]
  },
  {
   "cell_type": "markdown",
   "metadata": {},
   "source": [
    "### Homoscedasticity"
   ]
  },
  {
   "cell_type": "code",
   "execution_count": 134,
   "metadata": {},
   "outputs": [],
   "source": [
    "# plt.scatter(predicted, residual,c='m',edgecolors='k')\n",
    "# plt.xlabel('Predicted')\n",
    "# plt.ylabel('Residual')\n",
    "# plt.axhline(y=0,c='k')\n",
    "# plt.title('Residual vs. Predicted')\n",
    "# plt.show()"
   ]
  },
  {
   "cell_type": "markdown",
   "metadata": {},
   "source": [
    "### Low Multicollinearity"
   ]
  },
  {
   "cell_type": "code",
   "execution_count": 135,
   "metadata": {},
   "outputs": [],
   "source": [
    "# correlation_matrix = X_train.corr()\n",
    "# multicollinearity = sns.heatmap(correlation_matrix, cmap=sns.cubehelix_palette(light=1, as_cmap=True))\n",
    "# ticks = plt.xticks(rotation=90) "
   ]
  },
  {
   "cell_type": "markdown",
   "metadata": {},
   "source": [
    "## Finalizing the Model"
   ]
  },
  {
   "cell_type": "markdown",
   "metadata": {},
   "source": [
    "## Rechecking Assumptions"
   ]
  },
  {
   "cell_type": "markdown",
   "metadata": {},
   "source": [
    "### Linear Relationship"
   ]
  },
  {
   "cell_type": "code",
   "execution_count": 136,
   "metadata": {},
   "outputs": [],
   "source": [
    "# plt.scatter(y=crime['property_crime'], x=crime['population'],c='m',edgecolors='k')\n",
    "# plt.ylabel('Property Crime')\n",
    "# plt.xlabel('Population')\n",
    "# plt.title('Population vs. Property Crime')\n",
    "# plt.show()\n",
    "\n",
    "# plt.scatter(y=crime['property_crime'], x=crime['burglary_theft'],c='m',edgecolors='k')\n",
    "# plt.ylabel('Property Crime')\n",
    "# plt.xlabel('Burglary & Theft')\n",
    "# plt.title('Burglary & Theft vs. Property Crime')\n",
    "# plt.show()"
   ]
  },
  {
   "cell_type": "markdown",
   "metadata": {},
   "source": [
    "### Multivariate Normality"
   ]
  },
  {
   "cell_type": "code",
   "execution_count": 137,
   "metadata": {},
   "outputs": [],
   "source": [
    "# predicted = regr.predict(X_train).ravel()\n",
    "# actual = Y_train\n",
    "# residual = actual - predicted\n",
    "\n",
    "# plt.hist(residual,color='m',edgecolor='k')\n",
    "# plt.title('Residual Counts')\n",
    "# plt.xlabel('Residual')\n",
    "# plt.ylabel('Count')\n",
    "# plt.show()"
   ]
  },
  {
   "cell_type": "markdown",
   "metadata": {},
   "source": [
    "### Homoscedasticity"
   ]
  },
  {
   "cell_type": "code",
   "execution_count": 138,
   "metadata": {},
   "outputs": [],
   "source": [
    "# plt.scatter(predicted, residual,c='m',edgecolors='k')\n",
    "# plt.xlabel('Predicted')\n",
    "# plt.ylabel('Residual')\n",
    "# plt.axhline(y=0,c='k')\n",
    "# plt.title('Residual vs. Predicted')\n",
    "# plt.show()"
   ]
  },
  {
   "cell_type": "markdown",
   "metadata": {},
   "source": [
    "### Low Multicollinearity"
   ]
  },
  {
   "cell_type": "code",
   "execution_count": 139,
   "metadata": {},
   "outputs": [],
   "source": [
    "# correlation_matrix = X_train.corr()\n",
    "# multicollinearity = sns.heatmap(correlation_matrix, cmap=sns.cubehelix_palette(light=1, as_cmap=True))\n",
    "# ticks = plt.xticks(rotation=90) "
   ]
  },
  {
   "cell_type": "markdown",
   "metadata": {},
   "source": [
    "## In-Sample Evaluation Against Test Split"
   ]
  },
  {
   "cell_type": "code",
   "execution_count": 140,
   "metadata": {},
   "outputs": [],
   "source": [
    "# regr = linear_model.LinearRegression()\n",
    "# Y_pred = regr.predict(X_test)\n",
    "# print(\"Coefficient of Determination: {:.2f}%.\".format(regr.score(X_test,Y_pred)*100))"
   ]
  },
  {
   "cell_type": "markdown",
   "metadata": {},
   "source": [
    "## Cross-Validation"
   ]
  },
  {
   "cell_type": "code",
   "execution_count": 141,
   "metadata": {
    "scrolled": false
   },
   "outputs": [],
   "source": [
    "# regr = linear_model.LinearRegression()\n",
    "# scores = cross_val_score(regr, X_test, Y_test, cv=5, scoring = 'r2')\n",
    "# print(\"Cross-Validation R^2 By Fold: {}.\".format(scores))\n",
    "# print(\"Cross-Validation R^2: {:.2f}% (+/- {:.2f}%).\".format(scores.mean()*100, scores.std() * 200))"
   ]
  },
  {
   "cell_type": "markdown",
   "metadata": {},
   "source": [
    "# KNN Regression Models: Weighted & Unweighted"
   ]
  },
  {
   "cell_type": "code",
   "execution_count": 142,
   "metadata": {},
   "outputs": [],
   "source": [
    "def KNN(X,Y,use_weights):\n",
    "    Y = Y.values.reshape(-1,1)\n",
    "    k_values = []\n",
    "    train_scores = []\n",
    "    test_scores = []\n",
    "    cross_scores = []\n",
    "    for k in range(1,21):\n",
    "        k_values.append(k)\n",
    "        \n",
    "        X_train, X_test, Y_train, Y_test = train_test_split(X, Y, test_size=0.5, random_state=0)\n",
    "        \n",
    "        if use_weights == 1:\n",
    "            knn_w = neighbors.KNeighborsRegressor(n_neighbors=k, weights='distance')\n",
    "            knn_w.fit(X_train, Y_train)\n",
    "            train_scores.append(knn_w.score(X_train,Y_train))\n",
    "            Y_pred = knn_w.predict(X_test)\n",
    "            test_scores.append(knn_w.score(Y_test, Y_pred)*100)\n",
    "            cross_scores.append(cross_val_score(knn_w, X, Y, cv=5).mean()*100)\n",
    "        else: \n",
    "            knn = neighbors.KNeighborsRegressor(n_neighbors=k)\n",
    "            knn.fit(X_train,Y_train)\n",
    "            train_scores.append(knn.score(X_train, Y_train)*100)\n",
    "            Y_pred = knn.predict(X_test)\n",
    "            test_scores.append(knn.score(Y_test, Y_pred)*100)\n",
    "            cross_scores.append(cross_val_score(knn, X, Y, cv=5).mean()*100)  \n",
    "    \n",
    "    plt.plot(k_values, train_scores, linewidth=2.0,c='k',label='Training')\n",
    "    plt.plot(k_values, test_scores, linewidth=2.0,c='c',label='Testing')\n",
    "    plt.plot(k_values, cross_scores, linewidth=2.0,c='m',label='Cross-Validation')\n",
    "    \n",
    "    plt.xticks(range(21))\n",
    "    plt.xlabel('K')\n",
    "    plt.ylabel('Score')\n",
    "    plt.legend()\n",
    "    \n",
    "    maxtrainscore_idx = train_scores.index(max(train_scores))\n",
    "    maxk_train = k_values[maxtrainscore_idx] \n",
    "    print('Highest Training R^2: {:.2f}%.'.format(max(train_scores)))\n",
    "    print('K For Highest Training R^2: {}.'.format(maxk_train))\n",
    "    \n",
    "    maxtestscore_idx = test_scores.index(max(test_scores))\n",
    "    maxk_test = k_values[maxtestscore_idx] \n",
    "    print('Highest Testing R^2: {:.2f}%.'.format(max(test_scores)))\n",
    "    print('K For Highest Testing R^2: {}.'.format(maxk_test))\n",
    "    \n",
    "    maxcrossscore_idx = cross_scores.index(max(cross_scores))\n",
    "    maxk_cross = k_values[maxcrossscore_idx] \n",
    "    print('Highest Cross-Validation R^2: {:.2f}%.'.format(max(cross_scores)))\n",
    "    print('K For Highest Cross-Validation R^2: {}.'.format(maxk_cross))"
   ]
  },
  {
   "cell_type": "code",
   "execution_count": 143,
   "metadata": {
    "scrolled": false
   },
   "outputs": [],
   "source": [
    "# X=crime[crime.columns]\n",
    "# Y=crime['property_crime']\n",
    "# use_weights=0\n",
    "# KNN(X,Y,use_weights)"
   ]
  },
  {
   "cell_type": "code",
   "execution_count": 144,
   "metadata": {},
   "outputs": [],
   "source": [
    "# X=crime[crime.columns]\n",
    "# Y=crime['property_crime']\n",
    "# use_weights=1\n",
    "# KNN(X,Y,use_weights)"
   ]
  },
  {
   "cell_type": "code",
   "execution_count": 145,
   "metadata": {
    "code_folding": [],
    "scrolled": true
   },
   "outputs": [],
   "source": [
    "def iterative_KNN(X,Y,k,use_weights):\n",
    "    \n",
    "    features = list(X.columns)\n",
    "#     \n",
    "    t = np.arange(0, 17.2, .1)[:, np.newaxis]\n",
    "        \n",
    "    for i in range(len(features),0,-1):  \n",
    "        X = X[features[:i+1]]\n",
    "        T = np.column_stack([t]*i)\n",
    "        \n",
    "        if use_weights == 1:\n",
    "            knn_w = neighbors.KNeighborsRegressor(n_neighbors=k, weights='distance')\n",
    "            knn_w.fit(X, Y)\n",
    "            Y_pred = knn_w.predict(T)\n",
    "            score_w = cross_val_score(knn_w, X, Y, cv=5)\n",
    "            \n",
    "            plt.figure(figsize=(10,10))\n",
    "            plt.scatter(X, Y, color ='k', label='Data')\n",
    "            plt.plot(T, Y_pred, color ='m', label='Prediction')\n",
    "            plt.legend()\n",
    "            plt.ylabel('Property Crime')\n",
    "            plt.xlabel(list(X.columns))\n",
    "            plt.title('Weighted')\n",
    "            plt.show()\n",
    "            \n",
    "            print(\"Weighted R^2: {:.2f}% (+/- {:.2f})%.\".format(score_w.mean()*100, score_w.std()*100))\n",
    "\n",
    "        else: \n",
    "            knn = neighbors.KNeighborsRegressor(n_neighbors=k)\n",
    "            knn.fit(X_train,Y_train)\n",
    "            Y_pred = knn.predict(T)\n",
    "            score = cross_val_score(knn, X, Y, cv=5)\n",
    "                         \n",
    "            plt.figure(figsize=(10,10))\n",
    "            plt.scatter(X, Y, color ='k', label='Data')\n",
    "            plt.plot(T, Y_pred, color ='m', label='Prediction')\n",
    "            plt.legend()\n",
    "            plt.ylabel('Property Crime')\n",
    "            plt.xlabel(list(X.columns))\n",
    "            plt.title('Unweighted')\n",
    "            plt.show()\n",
    "            \n",
    "            print(\"Unweighted R^2: {:.2f}% (+/- {:.2f})%.\".format(score.mean()*100, score.std()*100))"
   ]
  },
  {
   "cell_type": "code",
   "execution_count": 146,
   "metadata": {},
   "outputs": [],
   "source": [
    "# X=crime.drop('property_crime',axis=1)\n",
    "# Y=crime['property_crime']\n",
    "# k=15\n",
    "# use_weights=0\n",
    "# iterative_KNN(X,Y,k,use_weights)"
   ]
  },
  {
   "cell_type": "code",
   "execution_count": 147,
   "metadata": {},
   "outputs": [],
   "source": [
    "# X=crime.drop('property_crime',axis=1)\n",
    "# Y=crime['property_crime']\n",
    "# k=15\n",
    "# use_weights=1\n",
    "# iterative_KNN(X,Y,k,use_weights)"
   ]
  },
  {
   "cell_type": "markdown",
   "metadata": {},
   "source": [
    "# Discussion"
   ]
  }
 ],
 "metadata": {
  "kernelspec": {
   "display_name": "Python 3",
   "language": "python",
   "name": "python3"
  },
  "language_info": {
   "codemirror_mode": {
    "name": "ipython",
    "version": 3
   },
   "file_extension": ".py",
   "mimetype": "text/x-python",
   "name": "python",
   "nbconvert_exporter": "python",
   "pygments_lexer": "ipython3",
   "version": "3.6.4"
  },
  "toc": {
   "nav_menu": {},
   "number_sections": true,
   "sideBar": true,
   "skip_h1_title": false,
   "title_cell": "Table of Contents",
   "title_sidebar": "Contents",
   "toc_cell": false,
   "toc_position": {
    "height": "680px",
    "left": "0px",
    "right": "auto",
    "top": "107px",
    "width": "400px"
   },
   "toc_section_display": true,
   "toc_window_display": true
  }
 },
 "nbformat": 4,
 "nbformat_minor": 2
}
