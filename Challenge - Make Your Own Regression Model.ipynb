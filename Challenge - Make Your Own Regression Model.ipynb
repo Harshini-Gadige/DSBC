{
 "cells": [
  {
   "cell_type": "code",
   "execution_count": 252,
   "metadata": {
    "scrolled": true
   },
   "outputs": [],
   "source": [
    "%matplotlib inline\n",
    "import math\n",
    "import matplotlib.pyplot as plt\n",
    "import numpy as np\n",
    "import pandas as pd\n",
    "import scipy\n",
    "import sklearn\n",
    "import seaborn as sns\n",
    "from sklearn import linear_model\n",
    "import statsmodels.formula.api as smf\n",
    "from statsmodels.sandbox.regression.predstd import wls_prediction_std"
   ]
  },
  {
   "cell_type": "code",
   "execution_count": 253,
   "metadata": {
    "code_folding": []
   },
   "outputs": [
    {
     "data": {
      "text/html": [
       "<script>\n",
       "code_show=true;\n",
       "function code_toggle() {\n",
       "if (code_show){\n",
       "$('div.input').hide();\n",
       "} else {\n",
       "$('div.input').show();\n",
       "}\n",
       "code_show = !code_show\n",
       "}\n",
       "$( document ).ready(code_toggle);\n",
       "</script>\n",
       "The code for this notebook is hidden for easier reading.\n",
       "To toggle it on/off, please click <a href=\"javascript:code_toggle()\">here</a>."
      ],
      "text/plain": [
       "<IPython.core.display.HTML object>"
      ]
     },
     "execution_count": 253,
     "metadata": {},
     "output_type": "execute_result"
    }
   ],
   "source": [
    "from IPython.display import HTML\n",
    "\n",
    "HTML('''<script>\n",
    "code_show=true;\n",
    "function code_toggle() {\n",
    "if (code_show){\n",
    "$('div.input').hide();\n",
    "} else {\n",
    "$('div.input').show();\n",
    "}\n",
    "code_show = !code_show\n",
    "}\n",
    "$( document ).ready(code_toggle);\n",
    "</script>\n",
    "The code for this notebook is hidden for easier reading.\n",
    "To toggle it on/off, please click <a href=\"javascript:code_toggle()\">here</a>.''')"
   ]
  },
  {
   "cell_type": "markdown",
   "metadata": {},
   "source": [
    "# Questions for Debjit: "
   ]
  },
  {
   "cell_type": "markdown",
   "metadata": {},
   "source": [
    "<span class=\"burk\">1.  Why did the initial data preparation drill suggest that 'murder' and 'robbery' be recoded as categorical features? Does this choice impact the assumptions and model outcomes?\n",
    "<span class=\"burk\">2.  Are all 4 assumptions equally weighted? If not, which are prioritized and why? Must I always attempt to fix violated assumptions and if so, how far can I go before I'm over-engineering features?</span> \n",
    "<span class=\"burk\">3.  When evaluating a model using holdout groups and/or cross-validation, should I check assumptions for the testing dataset as well? Why or why not?</span></span> "
   ]
  },
  {
   "cell_type": "markdown",
   "metadata": {},
   "source": [
    "# Cleaning & Feature Engineering"
   ]
  },
  {
   "cell_type": "markdown",
   "metadata": {},
   "source": [
    "**Data: Crime In New York - [2013](https://raw.githubusercontent.com/Thinkful-Ed/data-201-resources/master/New_York_offenses/NEW_YORK-Offenses_Known_to_Law_Enforcement_by_City_2013%20-%2013tbl8ny.csv).**\n",
    "\n",
    "**I created a dataframe to hold the following features and the target variable - property crime:** \n",
    "-  'population' (Continuous)\n",
    "-  'population_squared' (Continuous)\n",
    "-  'murder' (Categorical)\n",
    "-  'robbery' (Categorical)"
   ]
  },
  {
   "cell_type": "code",
   "execution_count": 254,
   "metadata": {
    "scrolled": true
   },
   "outputs": [],
   "source": [
    "path = 'https://raw.githubusercontent.com/Thinkful-Ed/data-201-resources/master/New_York_offenses/NEW_YORK-Offenses_Known_to_Law_Enforcement_by_City_2013%20-%2013tbl8ny.csv'\n",
    "crime = pd.read_csv(path)"
   ]
  },
  {
   "cell_type": "code",
   "execution_count": 255,
   "metadata": {},
   "outputs": [
    {
     "data": {
      "text/html": [
       "<div>\n",
       "<style scoped>\n",
       "    .dataframe tbody tr th:only-of-type {\n",
       "        vertical-align: middle;\n",
       "    }\n",
       "\n",
       "    .dataframe tbody tr th {\n",
       "        vertical-align: top;\n",
       "    }\n",
       "\n",
       "    .dataframe thead th {\n",
       "        text-align: right;\n",
       "    }\n",
       "</style>\n",
       "<table border=\"1\" class=\"dataframe\">\n",
       "  <thead>\n",
       "    <tr style=\"text-align: right;\">\n",
       "      <th></th>\n",
       "      <th>murder</th>\n",
       "      <th>population</th>\n",
       "      <th>property_crime</th>\n",
       "      <th>robbery</th>\n",
       "      <th>population_squared</th>\n",
       "    </tr>\n",
       "  </thead>\n",
       "  <tbody>\n",
       "    <tr>\n",
       "      <th>4</th>\n",
       "      <td>0</td>\n",
       "      <td>1861</td>\n",
       "      <td>12</td>\n",
       "      <td>0</td>\n",
       "      <td>3463321</td>\n",
       "    </tr>\n",
       "    <tr>\n",
       "      <th>5</th>\n",
       "      <td>0</td>\n",
       "      <td>2577</td>\n",
       "      <td>24</td>\n",
       "      <td>0</td>\n",
       "      <td>6640929</td>\n",
       "    </tr>\n",
       "    <tr>\n",
       "      <th>6</th>\n",
       "      <td>0</td>\n",
       "      <td>2846</td>\n",
       "      <td>16</td>\n",
       "      <td>0</td>\n",
       "      <td>8099716</td>\n",
       "    </tr>\n",
       "    <tr>\n",
       "      <th>7</th>\n",
       "      <td>1</td>\n",
       "      <td>97956</td>\n",
       "      <td>4090</td>\n",
       "      <td>1</td>\n",
       "      <td>9595377936</td>\n",
       "    </tr>\n",
       "    <tr>\n",
       "      <th>8</th>\n",
       "      <td>0</td>\n",
       "      <td>6388</td>\n",
       "      <td>223</td>\n",
       "      <td>1</td>\n",
       "      <td>40806544</td>\n",
       "    </tr>\n",
       "  </tbody>\n",
       "</table>\n",
       "</div>"
      ],
      "text/plain": [
       "   murder  population  property_crime  robbery  population_squared\n",
       "4       0        1861              12        0             3463321\n",
       "5       0        2577              24        0             6640929\n",
       "6       0        2846              16        0             8099716\n",
       "7       1       97956            4090        1          9595377936\n",
       "8       0        6388             223        1            40806544"
      ]
     },
     "execution_count": 255,
     "metadata": {},
     "output_type": "execute_result"
    }
   ],
   "source": [
    "pd.options.mode.chained_assignment = None\n",
    "\n",
    "crime.columns = ['city','population','violent_crime','murder','rape_revised','rape_legacy','robbery','aggravated_assault','property_crime','burglary','larceny_theft','vehicle_theft','arson']\n",
    "crime.drop(labels=[0,1,2,3,352,353,354],axis=0,inplace=True)\n",
    "\n",
    "pcmodel = crime[['murder','population','property_crime','robbery']]\n",
    "columns = list(pcmodel.columns)\n",
    "for column in columns:\n",
    "    pcmodel[column]=pcmodel[column].str.replace(',','')\n",
    "pcmodel = pcmodel.apply(pd.to_numeric)\n",
    "\n",
    "pcmodel['population_squared']=pcmodel['population']**2\n",
    "pcmodel['murder']=pcmodel['murder'].apply(lambda x: 0 if x <= 0 else 1).astype('int64')\n",
    "pcmodel['robbery']=pcmodel['robbery'].apply(lambda x: 0 if x <= 0 else 1).astype('int64')\n",
    "pcmodel.dropna(axis=0,how='all',inplace=True)\n",
    "pcmodel.head()"
   ]
  },
  {
   "cell_type": "code",
   "execution_count": 256,
   "metadata": {},
   "outputs": [
    {
     "data": {
      "text/html": [
       "<div>\n",
       "<style scoped>\n",
       "    .dataframe tbody tr th:only-of-type {\n",
       "        vertical-align: middle;\n",
       "    }\n",
       "\n",
       "    .dataframe tbody tr th {\n",
       "        vertical-align: top;\n",
       "    }\n",
       "\n",
       "    .dataframe thead th {\n",
       "        text-align: right;\n",
       "    }\n",
       "</style>\n",
       "<table border=\"1\" class=\"dataframe\">\n",
       "  <thead>\n",
       "    <tr style=\"text-align: right;\">\n",
       "      <th></th>\n",
       "      <th>murder</th>\n",
       "      <th>population</th>\n",
       "      <th>property_crime</th>\n",
       "      <th>robbery</th>\n",
       "      <th>population_squared</th>\n",
       "    </tr>\n",
       "  </thead>\n",
       "  <tbody>\n",
       "    <tr>\n",
       "      <th>count</th>\n",
       "      <td>348.000000</td>\n",
       "      <td>3.480000e+02</td>\n",
       "      <td>348.000000</td>\n",
       "      <td>348.000000</td>\n",
       "      <td>3.480000e+02</td>\n",
       "    </tr>\n",
       "    <tr>\n",
       "      <th>mean</th>\n",
       "      <td>0.140805</td>\n",
       "      <td>4.003763e+04</td>\n",
       "      <td>792.606322</td>\n",
       "      <td>0.600575</td>\n",
       "      <td>2.035547e+11</td>\n",
       "    </tr>\n",
       "    <tr>\n",
       "      <th>std</th>\n",
       "      <td>0.348321</td>\n",
       "      <td>4.500374e+05</td>\n",
       "      <td>7659.724746</td>\n",
       "      <td>0.490486</td>\n",
       "      <td>3.778876e+12</td>\n",
       "    </tr>\n",
       "    <tr>\n",
       "      <th>min</th>\n",
       "      <td>0.000000</td>\n",
       "      <td>5.260000e+02</td>\n",
       "      <td>0.000000</td>\n",
       "      <td>0.000000</td>\n",
       "      <td>2.766760e+05</td>\n",
       "    </tr>\n",
       "    <tr>\n",
       "      <th>25%</th>\n",
       "      <td>0.000000</td>\n",
       "      <td>3.003000e+03</td>\n",
       "      <td>40.500000</td>\n",
       "      <td>0.000000</td>\n",
       "      <td>9.018117e+06</td>\n",
       "    </tr>\n",
       "    <tr>\n",
       "      <th>50%</th>\n",
       "      <td>0.000000</td>\n",
       "      <td>7.233500e+03</td>\n",
       "      <td>112.500000</td>\n",
       "      <td>1.000000</td>\n",
       "      <td>5.232568e+07</td>\n",
       "    </tr>\n",
       "    <tr>\n",
       "      <th>75%</th>\n",
       "      <td>0.000000</td>\n",
       "      <td>1.842750e+04</td>\n",
       "      <td>341.000000</td>\n",
       "      <td>1.000000</td>\n",
       "      <td>3.397536e+08</td>\n",
       "    </tr>\n",
       "    <tr>\n",
       "      <th>max</th>\n",
       "      <td>1.000000</td>\n",
       "      <td>8.396126e+06</td>\n",
       "      <td>141971.000000</td>\n",
       "      <td>1.000000</td>\n",
       "      <td>7.049493e+13</td>\n",
       "    </tr>\n",
       "  </tbody>\n",
       "</table>\n",
       "</div>"
      ],
      "text/plain": [
       "           murder    population  property_crime     robbery  \\\n",
       "count  348.000000  3.480000e+02      348.000000  348.000000   \n",
       "mean     0.140805  4.003763e+04      792.606322    0.600575   \n",
       "std      0.348321  4.500374e+05     7659.724746    0.490486   \n",
       "min      0.000000  5.260000e+02        0.000000    0.000000   \n",
       "25%      0.000000  3.003000e+03       40.500000    0.000000   \n",
       "50%      0.000000  7.233500e+03      112.500000    1.000000   \n",
       "75%      0.000000  1.842750e+04      341.000000    1.000000   \n",
       "max      1.000000  8.396126e+06   141971.000000    1.000000   \n",
       "\n",
       "       population_squared  \n",
       "count        3.480000e+02  \n",
       "mean         2.035547e+11  \n",
       "std          3.778876e+12  \n",
       "min          2.766760e+05  \n",
       "25%          9.018117e+06  \n",
       "50%          5.232568e+07  \n",
       "75%          3.397536e+08  \n",
       "max          7.049493e+13  "
      ]
     },
     "execution_count": 256,
     "metadata": {},
     "output_type": "execute_result"
    }
   ],
   "source": [
    "pcmodel.describe()"
   ]
  },
  {
   "cell_type": "code",
   "execution_count": 257,
   "metadata": {
    "scrolled": false
   },
   "outputs": [
    {
     "data": {
      "image/png": "[encoded data removed]",
      "text/plain": [
       "<matplotlib.figure.Figure at 0xc3af30>"
      ]
     },
     "metadata": {},
     "output_type": "display_data"
    }
   ],
   "source": [
    "plt.subplot(121)\n",
    "population = sns.boxplot(pcmodel['population'])\n",
    "plt.subplot(122)\n",
    "population = sns.violinplot(pcmodel['population'])"
   ]
  },
  {
   "cell_type": "code",
   "execution_count": 258,
   "metadata": {
    "scrolled": true
   },
   "outputs": [
    {
     "data": {
      "image/png": "[encoded data removed]",
      "text/plain": [
       "<matplotlib.figure.Figure at 0xae2a50>"
      ]
     },
     "metadata": {},
     "output_type": "display_data"
    }
   ],
   "source": [
    "plt.subplot(121)\n",
    "population_squared = sns.boxplot(pcmodel['population_squared'])\n",
    "plt.subplot(122)\n",
    "population = sns.violinplot(pcmodel['population_squared'])"
   ]
  },
  {
   "cell_type": "markdown",
   "metadata": {},
   "source": [
    "**There are extreme outliers (much more densely populated cities) beyond Q3+1.5IQR that I chose to exclude.**"
   ]
  },
  {
   "cell_type": "code",
   "execution_count": 259,
   "metadata": {},
   "outputs": [],
   "source": [
    "columns = list(pcmodel[['population','population_squared']].columns)\n",
    "for column in columns: \n",
    "    q25 = pcmodel[column].quantile(0.25)\n",
    "    q75 = pcmodel[column].quantile(0.75)\n",
    "    iqr = q75 - q25\n",
    "    max = q75 + (iqr * 1.5)\n",
    "    pcmodel=pcmodel.where(pcmodel[column] < max)"
   ]
  },
  {
   "cell_type": "code",
   "execution_count": 260,
   "metadata": {},
   "outputs": [
    {
     "data": {
      "image/png": "[encoded data removed]",
      "text/plain": [
       "<matplotlib.figure.Figure at 0xe03eab0>"
      ]
     },
     "metadata": {},
     "output_type": "display_data"
    }
   ],
   "source": [
    "plt.subplot(121)\n",
    "population = sns.boxplot(pcmodel['population'])\n",
    "plt.subplot(122)\n",
    "population = sns.violinplot(pcmodel['population'])"
   ]
  },
  {
   "cell_type": "code",
   "execution_count": 261,
   "metadata": {
    "scrolled": true
   },
   "outputs": [
    {
     "data": {
      "image/png": "[encoded data removed]",
      "text/plain": [
       "<matplotlib.figure.Figure at 0x54a9c10>"
      ]
     },
     "metadata": {},
     "output_type": "display_data"
    }
   ],
   "source": [
    "plt.subplot(121)\n",
    "population_squared = sns.boxplot(pcmodel['population_squared'])\n",
    "plt.subplot(122)\n",
    "population_squared = sns.violinplot(pcmodel['population_squared'])"
   ]
  },
  {
   "cell_type": "code",
   "execution_count": 262,
   "metadata": {},
   "outputs": [
    {
     "data": {
      "text/html": [
       "<div>\n",
       "<style scoped>\n",
       "    .dataframe tbody tr th:only-of-type {\n",
       "        vertical-align: middle;\n",
       "    }\n",
       "\n",
       "    .dataframe tbody tr th {\n",
       "        vertical-align: top;\n",
       "    }\n",
       "\n",
       "    .dataframe thead th {\n",
       "        text-align: right;\n",
       "    }\n",
       "</style>\n",
       "<table border=\"1\" class=\"dataframe\">\n",
       "  <thead>\n",
       "    <tr style=\"text-align: right;\">\n",
       "      <th></th>\n",
       "      <th>murder</th>\n",
       "      <th>population</th>\n",
       "      <th>property_crime</th>\n",
       "      <th>robbery</th>\n",
       "      <th>population_squared</th>\n",
       "    </tr>\n",
       "  </thead>\n",
       "  <tbody>\n",
       "    <tr>\n",
       "      <th>count</th>\n",
       "      <td>274.000000</td>\n",
       "      <td>274.000000</td>\n",
       "      <td>274.000000</td>\n",
       "      <td>274.000000</td>\n",
       "      <td>2.740000e+02</td>\n",
       "    </tr>\n",
       "    <tr>\n",
       "      <th>mean</th>\n",
       "      <td>0.051095</td>\n",
       "      <td>6730.492701</td>\n",
       "      <td>130.014599</td>\n",
       "      <td>0.500000</td>\n",
       "      <td>7.301594e+07</td>\n",
       "    </tr>\n",
       "    <tr>\n",
       "      <th>std</th>\n",
       "      <td>0.220594</td>\n",
       "      <td>5274.271168</td>\n",
       "      <td>151.249060</td>\n",
       "      <td>0.500915</td>\n",
       "      <td>1.039372e+08</td>\n",
       "    </tr>\n",
       "    <tr>\n",
       "      <th>min</th>\n",
       "      <td>0.000000</td>\n",
       "      <td>526.000000</td>\n",
       "      <td>0.000000</td>\n",
       "      <td>0.000000</td>\n",
       "      <td>2.766760e+05</td>\n",
       "    </tr>\n",
       "    <tr>\n",
       "      <th>25%</th>\n",
       "      <td>0.000000</td>\n",
       "      <td>2467.750000</td>\n",
       "      <td>31.000000</td>\n",
       "      <td>0.000000</td>\n",
       "      <td>6.089970e+06</td>\n",
       "    </tr>\n",
       "    <tr>\n",
       "      <th>50%</th>\n",
       "      <td>0.000000</td>\n",
       "      <td>5133.500000</td>\n",
       "      <td>73.500000</td>\n",
       "      <td>0.500000</td>\n",
       "      <td>2.635293e+07</td>\n",
       "    </tr>\n",
       "    <tr>\n",
       "      <th>75%</th>\n",
       "      <td>0.000000</td>\n",
       "      <td>9517.000000</td>\n",
       "      <td>171.000000</td>\n",
       "      <td>1.000000</td>\n",
       "      <td>9.057329e+07</td>\n",
       "    </tr>\n",
       "    <tr>\n",
       "      <th>max</th>\n",
       "      <td>1.000000</td>\n",
       "      <td>21397.000000</td>\n",
       "      <td>949.000000</td>\n",
       "      <td>1.000000</td>\n",
       "      <td>4.578316e+08</td>\n",
       "    </tr>\n",
       "  </tbody>\n",
       "</table>\n",
       "</div>"
      ],
      "text/plain": [
       "           murder    population  property_crime     robbery  \\\n",
       "count  274.000000    274.000000      274.000000  274.000000   \n",
       "mean     0.051095   6730.492701      130.014599    0.500000   \n",
       "std      0.220594   5274.271168      151.249060    0.500915   \n",
       "min      0.000000    526.000000        0.000000    0.000000   \n",
       "25%      0.000000   2467.750000       31.000000    0.000000   \n",
       "50%      0.000000   5133.500000       73.500000    0.500000   \n",
       "75%      0.000000   9517.000000      171.000000    1.000000   \n",
       "max      1.000000  21397.000000      949.000000    1.000000   \n",
       "\n",
       "       population_squared  \n",
       "count        2.740000e+02  \n",
       "mean         7.301594e+07  \n",
       "std          1.039372e+08  \n",
       "min          2.766760e+05  \n",
       "25%          6.089970e+06  \n",
       "50%          2.635293e+07  \n",
       "75%          9.057329e+07  \n",
       "max          4.578316e+08  "
      ]
     },
     "execution_count": 262,
     "metadata": {},
     "output_type": "execute_result"
    }
   ],
   "source": [
    "pcmodel.describe()"
   ]
  },
  {
   "cell_type": "markdown",
   "metadata": {
    "collapsed": true
   },
   "source": [
    "# Initial Model"
   ]
  },
  {
   "cell_type": "code",
   "execution_count": 263,
   "metadata": {},
   "outputs": [],
   "source": [
    "pcmodel = pcmodel.dropna()\n",
    "Y1 = pcmodel['property_crime']\n",
    "X1 = pcmodel[['murder','population','population_squared','robbery']]"
   ]
  },
  {
   "cell_type": "code",
   "execution_count": 264,
   "metadata": {
    "scrolled": false
   },
   "outputs": [
    {
     "name": "stdout",
     "output_type": "stream",
     "text": [
      "\n",
      "Coefficients: \n",
      " [6.76296273e+01 1.18902035e-02 1.52184341e-07 9.04003946e+01]\n",
      "\n",
      "Intercept: \n",
      " -9.779938071912653\n",
      "\n",
      "R-Squared:\n",
      "0.5405511190673918\n"
     ]
    }
   ],
   "source": [
    "regr = linear_model.LinearRegression()\n",
    "regr.fit(X1, Y1)\n",
    "\n",
    "print('\\nCoefficients: \\n', regr.coef_)\n",
    "print('\\nIntercept: \\n', regr.intercept_)\n",
    "print('\\nR-Squared:')\n",
    "print(regr.score(X1, Y1))"
   ]
  },
  {
   "cell_type": "code",
   "execution_count": 265,
   "metadata": {},
   "outputs": [
    {
     "name": "stdout",
     "output_type": "stream",
     "text": [
      "                            OLS Regression Results                            \n",
      "==============================================================================\n",
      "Dep. Variable:         property_crime   R-squared:                       0.541\n",
      "Model:                            OLS   Adj. R-squared:                  0.534\n",
      "Method:                 Least Squares   F-statistic:                     79.12\n",
      "Date:                Sun, 25 Feb 2018   Prob (F-statistic):           2.74e-44\n",
      "Time:                        18:59:53   Log-Likelihood:                -1656.9\n",
      "No. Observations:                 274   AIC:                             3324.\n",
      "Df Residuals:                     269   BIC:                             3342.\n",
      "Df Model:                           4                                         \n",
      "Covariance Type:            nonrobust                                         \n",
      "======================================================================================\n",
      "                         coef    std err          t      P>|t|      [0.025      0.975]\n",
      "--------------------------------------------------------------------------------------\n",
      "Intercept             -9.7799     15.563     -0.628      0.530     -40.421      20.861\n",
      "population             0.0119      0.005      2.598      0.010       0.003       0.021\n",
      "population_squared  1.522e-07   2.22e-07      0.685      0.494   -2.85e-07     5.9e-07\n",
      "murder                67.6296     29.264      2.311      0.022      10.014     125.245\n",
      "robbery               90.4004     14.664      6.165      0.000      61.529     119.271\n",
      "==============================================================================\n",
      "Omnibus:                      109.074   Durbin-Watson:                   1.992\n",
      "Prob(Omnibus):                  0.000   Jarque-Bera (JB):              516.681\n",
      "Skew:                           1.580   Prob(JB):                    6.37e-113\n",
      "Kurtosis:                       8.939   Cond. No.                     5.97e+08\n",
      "==============================================================================\n",
      "\n",
      "Warnings:\n",
      "[1] Standard Errors assume that the covariance matrix of the errors is correctly specified.\n",
      "[2] The condition number is large, 5.97e+08. This might indicate that there are\n",
      "strong multicollinearity or other numerical problems.\n"
     ]
    }
   ],
   "source": [
    "lf = 'property_crime ~ population + population_squared + murder + robbery'\n",
    "lm = smf.ols(formula=lf, data=pcmodel).fit()\n",
    "print(lm.summary())"
   ]
  },
  {
   "cell_type": "markdown",
   "metadata": {},
   "source": [
    "**Based on the overall model's F-test statistic and p-value, I concluded that it provides a better fit than the intercept-only model.**\n",
    "\n",
    "**Based on the features' t-test statistics and p-values, 'population_squared' isn't a statistically significant feature of the model.** \n",
    "\n",
    "**Based on the warning citing \"multicollinearity or other numerical problems\", I decided to check all 4 assumptions before making feature engineering and model revision decisions.** "
   ]
  },
  {
   "cell_type": "markdown",
   "metadata": {},
   "source": [
    "# Checking Assumptions"
   ]
  },
  {
   "cell_type": "markdown",
   "metadata": {},
   "source": [
    "## Linear Relationship"
   ]
  },
  {
   "cell_type": "code",
   "execution_count": 266,
   "metadata": {},
   "outputs": [
    {
     "data": {
      "image/png": "[encoded data removed]",
      "text/plain": [
       "<matplotlib.figure.Figure at 0x880d50>"
      ]
     },
     "metadata": {},
     "output_type": "display_data"
    },
    {
     "data": {
      "image/png": "[encoded data removed]",
      "text/plain": [
       "<matplotlib.figure.Figure at 0xf30b270>"
      ]
     },
     "metadata": {},
     "output_type": "display_data"
    },
    {
     "data": {
      "image/png": "[encoded data removed]",
      "text/plain": [
       "<matplotlib.figure.Figure at 0x56a7270>"
      ]
     },
     "metadata": {},
     "output_type": "display_data"
    },
    {
     "data": {
      "image/png": "[encoded data removed]",
      "text/plain": [
       "<matplotlib.figure.Figure at 0xb6d750>"
      ]
     },
     "metadata": {},
     "output_type": "display_data"
    }
   ],
   "source": [
    "plt.scatter(y=pcmodel['property_crime'], x=pcmodel['murder'])\n",
    "plt.ylabel('Property Crime')\n",
    "plt.xlabel('Murder')\n",
    "plt.title('Murder vs. Property Crime')\n",
    "plt.show()\n",
    "\n",
    "plt.scatter(y=pcmodel['property_crime'], x=pcmodel['population'])\n",
    "plt.ylabel('Property Crime')\n",
    "plt.xlabel('Population')\n",
    "plt.title('Population vs. Property Crime')\n",
    "plt.show()\n",
    "\n",
    "plt.scatter(y=pcmodel['property_crime'], x=pcmodel['population_squared'])\n",
    "plt.ylabel('Property Crime')\n",
    "plt.xlabel('Population (Squared)')\n",
    "plt.title('Population (Squared) vs. Property Crime')\n",
    "plt.show()\n",
    "\n",
    "plt.scatter(y=pcmodel['property_crime'], x=pcmodel['robbery'])\n",
    "plt.ylabel('Property Crime')\n",
    "plt.xlabel('Robbery')\n",
    "plt.title('Robbery vs. Property Crime')\n",
    "plt.show()"
   ]
  },
  {
   "cell_type": "markdown",
   "metadata": {},
   "source": [
    "**The target 'property crime' seems to be less related to the features 'murder' and 'population_squared'.**"
   ]
  },
  {
   "cell_type": "markdown",
   "metadata": {},
   "source": [
    "## Multivariate Normality"
   ]
  },
  {
   "cell_type": "code",
   "execution_count": 267,
   "metadata": {
    "scrolled": false
   },
   "outputs": [
    {
     "data": {
      "image/png": "[encoded data removed]",
      "text/plain": [
       "<matplotlib.figure.Figure at 0xb64970>"
      ]
     },
     "metadata": {},
     "output_type": "display_data"
    }
   ],
   "source": [
    "predicted = regr.predict(X1).ravel()\n",
    "actual = Y1\n",
    "residual = actual - predicted\n",
    "\n",
    "plt.hist(residual)\n",
    "plt.title('Residual Counts')\n",
    "plt.xlabel('Residual')\n",
    "plt.ylabel('Count')\n",
    "plt.show()"
   ]
  },
  {
   "cell_type": "markdown",
   "metadata": {},
   "source": [
    "**The model's error is approximately normal.**"
   ]
  },
  {
   "cell_type": "markdown",
   "metadata": {},
   "source": [
    "## Homoscedasticity"
   ]
  },
  {
   "cell_type": "code",
   "execution_count": 268,
   "metadata": {},
   "outputs": [
    {
     "data": {
      "image/png": "[encoded data removed]",
      "text/plain": [
       "<matplotlib.figure.Figure at 0x8852b0>"
      ]
     },
     "metadata": {},
     "output_type": "display_data"
    }
   ],
   "source": [
    "plt.scatter(predicted, residual)\n",
    "plt.xlabel('Predicted')\n",
    "plt.ylabel('Residual')\n",
    "plt.axhline(y=0)\n",
    "plt.title('Residual vs. Predicted')\n",
    "plt.show()"
   ]
  },
  {
   "cell_type": "markdown",
   "metadata": {},
   "source": [
    "**The error terms are heteroscedastic.**"
   ]
  },
  {
   "cell_type": "markdown",
   "metadata": {},
   "source": [
    "## Low Multicollinearity"
   ]
  },
  {
   "cell_type": "code",
   "execution_count": 269,
   "metadata": {},
   "outputs": [
    {
     "data": {
      "image/png": "[encoded data removed]",
      "text/plain": [
       "<matplotlib.figure.Figure at 0xe10c7f0>"
      ]
     },
     "metadata": {},
     "output_type": "display_data"
    }
   ],
   "source": [
    "correlation_matrix = X1.corr()\n",
    "multicollinearity = sns.heatmap(correlation_matrix,cmap=sns.cubehelix_palette(light=1, as_cmap=True))\n",
    "ticks = plt.xticks(rotation=90) "
   ]
  },
  {
   "cell_type": "markdown",
   "metadata": {},
   "source": [
    "**Consistent with the initial model's warning, the feature 'population and its derivative 'population_squared' are highly correlated.**"
   ]
  },
  {
   "cell_type": "markdown",
   "metadata": {},
   "source": [
    "# Feature Reengineering"
   ]
  },
  {
   "cell_type": "markdown",
   "metadata": {},
   "source": [
    "**Decisions:**\n",
    "-  Added 'burglary' hypothesizing that it might improve the model's coefficient of determination (R^2). \n",
    "-  Added 'larceny_theft' hypothesizing that it might improve the model's coefficient of determination (R^2). \n",
    "-  Added 'vehicle_theft' hypothesizing that it might improve the model's coefficient of determination (R^2). \n",
    "-  Dropped 'population_squared' based on the initial model's summary statistics (p-value). "
   ]
  },
  {
   "cell_type": "code",
   "execution_count": 270,
   "metadata": {},
   "outputs": [],
   "source": [
    "pcmodel[['burglary','larceny_theft','vehicle_theft']]=crime[['burglary','larceny_theft','vehicle_theft']]\n",
    "pcmodel.drop(labels=['population_squared'], axis=1, inplace=True)"
   ]
  },
  {
   "cell_type": "code",
   "execution_count": 271,
   "metadata": {
    "scrolled": true
   },
   "outputs": [
    {
     "data": {
      "text/html": [
       "<div>\n",
       "<style scoped>\n",
       "    .dataframe tbody tr th:only-of-type {\n",
       "        vertical-align: middle;\n",
       "    }\n",
       "\n",
       "    .dataframe tbody tr th {\n",
       "        vertical-align: top;\n",
       "    }\n",
       "\n",
       "    .dataframe thead th {\n",
       "        text-align: right;\n",
       "    }\n",
       "</style>\n",
       "<table border=\"1\" class=\"dataframe\">\n",
       "  <thead>\n",
       "    <tr style=\"text-align: right;\">\n",
       "      <th></th>\n",
       "      <th>murder</th>\n",
       "      <th>population</th>\n",
       "      <th>property_crime</th>\n",
       "      <th>robbery</th>\n",
       "      <th>burglary</th>\n",
       "      <th>larceny_theft</th>\n",
       "      <th>vehicle_theft</th>\n",
       "    </tr>\n",
       "  </thead>\n",
       "  <tbody>\n",
       "    <tr>\n",
       "      <th>4</th>\n",
       "      <td>0.0</td>\n",
       "      <td>1861.0</td>\n",
       "      <td>12.0</td>\n",
       "      <td>0.0</td>\n",
       "      <td>1</td>\n",
       "      <td>1</td>\n",
       "      <td>0</td>\n",
       "    </tr>\n",
       "    <tr>\n",
       "      <th>5</th>\n",
       "      <td>0.0</td>\n",
       "      <td>2577.0</td>\n",
       "      <td>24.0</td>\n",
       "      <td>0.0</td>\n",
       "      <td>1</td>\n",
       "      <td>1</td>\n",
       "      <td>1</td>\n",
       "    </tr>\n",
       "    <tr>\n",
       "      <th>6</th>\n",
       "      <td>0.0</td>\n",
       "      <td>2846.0</td>\n",
       "      <td>16.0</td>\n",
       "      <td>0.0</td>\n",
       "      <td>1</td>\n",
       "      <td>1</td>\n",
       "      <td>0</td>\n",
       "    </tr>\n",
       "    <tr>\n",
       "      <th>8</th>\n",
       "      <td>0.0</td>\n",
       "      <td>6388.0</td>\n",
       "      <td>223.0</td>\n",
       "      <td>1.0</td>\n",
       "      <td>1</td>\n",
       "      <td>1</td>\n",
       "      <td>1</td>\n",
       "    </tr>\n",
       "    <tr>\n",
       "      <th>9</th>\n",
       "      <td>0.0</td>\n",
       "      <td>4089.0</td>\n",
       "      <td>46.0</td>\n",
       "      <td>1.0</td>\n",
       "      <td>1</td>\n",
       "      <td>1</td>\n",
       "      <td>0</td>\n",
       "    </tr>\n",
       "  </tbody>\n",
       "</table>\n",
       "</div>"
      ],
      "text/plain": [
       "   murder  population  property_crime  robbery  burglary  larceny_theft  \\\n",
       "4     0.0      1861.0            12.0      0.0         1              1   \n",
       "5     0.0      2577.0            24.0      0.0         1              1   \n",
       "6     0.0      2846.0            16.0      0.0         1              1   \n",
       "8     0.0      6388.0           223.0      1.0         1              1   \n",
       "9     0.0      4089.0            46.0      1.0         1              1   \n",
       "\n",
       "   vehicle_theft  \n",
       "4              0  \n",
       "5              1  \n",
       "6              0  \n",
       "8              1  \n",
       "9              0  "
      ]
     },
     "execution_count": 271,
     "metadata": {},
     "output_type": "execute_result"
    }
   ],
   "source": [
    "\n",
    "pcmodel.dropna(axis=0,how='all',inplace=True)\n",
    "pcmodel = pcmodel.apply(pd.to_numeric)\n",
    "pcmodel['burglary']=pcmodel['burglary'].apply(lambda x: 0 if x <= 0 else 1)\n",
    "pcmodel['larceny_theft']=pcmodel['larceny_theft'].apply(lambda x: 0 if x <= 0 else 1)\n",
    "pcmodel['vehicle_theft']=pcmodel['vehicle_theft'].apply(lambda x: 0 if x <= 0 else 1)\n",
    "pcmodel.head()"
   ]
  },
  {
   "cell_type": "markdown",
   "metadata": {},
   "source": [
    "# Revised Model "
   ]
  },
  {
   "cell_type": "code",
   "execution_count": 272,
   "metadata": {},
   "outputs": [],
   "source": [
    "Y2 = pcmodel['property_crime']\n",
    "X2 = pcmodel[['burglary','larceny_theft','murder','population','robbery','vehicle_theft']]"
   ]
  },
  {
   "cell_type": "code",
   "execution_count": 273,
   "metadata": {},
   "outputs": [
    {
     "name": "stdout",
     "output_type": "stream",
     "text": [
      "\n",
      "Coefficients: \n",
      " [-2.39429147e+00 -3.33990134e+00  6.43939850e+01  1.45860406e-02\n",
      "  8.50177741e+01  1.49947933e+01]\n",
      "\n",
      "Intercept: \n",
      " -18.395688944312752\n",
      "\n",
      "R-Squared:\n",
      "0.5414587647094049\n"
     ]
    }
   ],
   "source": [
    "regr = linear_model.LinearRegression()\n",
    "regr.fit(X2, Y2)\n",
    "\n",
    "print('\\nCoefficients: \\n', regr.coef_)\n",
    "print('\\nIntercept: \\n', regr.intercept_)\n",
    "print('\\nR-Squared:')\n",
    "print(regr.score(X2, Y2))"
   ]
  },
  {
   "cell_type": "code",
   "execution_count": 274,
   "metadata": {},
   "outputs": [
    {
     "name": "stdout",
     "output_type": "stream",
     "text": [
      "                            OLS Regression Results                            \n",
      "==============================================================================\n",
      "Dep. Variable:         property_crime   R-squared:                       0.541\n",
      "Model:                            OLS   Adj. R-squared:                  0.531\n",
      "Method:                 Least Squares   F-statistic:                     52.55\n",
      "Date:                Sun, 25 Feb 2018   Prob (F-statistic):           1.68e-42\n",
      "Time:                        18:59:55   Log-Likelihood:                -1656.7\n",
      "No. Observations:                 274   AIC:                             3327.\n",
      "Df Residuals:                     267   BIC:                             3353.\n",
      "Df Model:                           6                                         \n",
      "Covariance Type:            nonrobust                                         \n",
      "=================================================================================\n",
      "                    coef    std err          t      P>|t|      [0.025      0.975]\n",
      "---------------------------------------------------------------------------------\n",
      "Intercept       -18.3957     39.368     -0.467      0.641     -95.906      59.115\n",
      "burglary         -2.3943     28.022     -0.085      0.932     -57.566      52.778\n",
      "larceny_theft    -3.3399     45.260     -0.074      0.941     -92.451      85.771\n",
      "murder           64.3940     29.201      2.205      0.028       6.900     121.888\n",
      "population        0.0146      0.001     10.306      0.000       0.012       0.017\n",
      "robbery          85.0178     14.868      5.718      0.000      55.745     114.290\n",
      "vehicle_theft    14.9948     15.079      0.994      0.321     -14.695      44.684\n",
      "==============================================================================\n",
      "Omnibus:                      110.525   Durbin-Watson:                   2.000\n",
      "Prob(Omnibus):                  0.000   Jarque-Bera (JB):              533.186\n",
      "Skew:                           1.597   Prob(JB):                    1.66e-116\n",
      "Kurtosis:                       9.042   Cond. No.                     7.87e+04\n",
      "==============================================================================\n",
      "\n",
      "Warnings:\n",
      "[1] Standard Errors assume that the covariance matrix of the errors is correctly specified.\n",
      "[2] The condition number is large, 7.87e+04. This might indicate that there are\n",
      "strong multicollinearity or other numerical problems.\n"
     ]
    }
   ],
   "source": [
    "lf2 = 'property_crime ~ burglary + larceny_theft + murder + population + robbery + vehicle_theft'\n",
    "lm2 = smf.ols(formula=lf2, data=pcmodel).fit()\n",
    "print(lm2.summary())"
   ]
  },
  {
   "cell_type": "markdown",
   "metadata": {},
   "source": [
    "**The model's coefficient of determination (R^2) but is more or less the same as the initial model's according to the above regression score and summary.**\n",
    "\n",
    "**Based on the revised overall model's F-test statistic and p-value, I concluded that it still provides a better fit than the intercept-only model.**\n",
    "\n",
    "**Based on the features' t-test statistics and p-values, 'burglary', 'larceny_theft', and 'vehicle_theft' aren't statistically significant features of the model.** \n",
    "\n",
    "**Based on the warning citing \"multicollinearity or other numerical problems\", I decided to re-check all 4 assumptions before making final feature engineering and model revision decisions.** "
   ]
  },
  {
   "cell_type": "markdown",
   "metadata": {},
   "source": [
    "# Re-Checking Assumptions"
   ]
  },
  {
   "cell_type": "markdown",
   "metadata": {},
   "source": [
    "## Linear Relationship"
   ]
  },
  {
   "cell_type": "code",
   "execution_count": 275,
   "metadata": {
    "scrolled": false
   },
   "outputs": [
    {
     "data": {
      "image/png": "[encoded data removed]",
      "text/plain": [
       "<matplotlib.figure.Figure at 0xad6d10>"
      ]
     },
     "metadata": {},
     "output_type": "display_data"
    },
    {
     "data": {
      "image/png": "[encoded data removed]",
      "text/plain": [
       "<matplotlib.figure.Figure at 0xdc0610>"
      ]
     },
     "metadata": {},
     "output_type": "display_data"
    },
    {
     "data": {
      "image/png": "[encoded data removed]",
      "text/plain": [
       "<matplotlib.figure.Figure at 0x902d90>"
      ]
     },
     "metadata": {},
     "output_type": "display_data"
    },
    {
     "data": {
      "image/png": "[encoded data removed]",
      "text/plain": [
       "<matplotlib.figure.Figure at 0xa80650>"
      ]
     },
     "metadata": {},
     "output_type": "display_data"
    },
    {
     "data": {
      "image/png": "[encoded data removed]",
      "text/plain": [
       "<matplotlib.figure.Figure at 0x5608070>"
      ]
     },
     "metadata": {},
     "output_type": "display_data"
    },
    {
     "data": {
      "image/png": "[encoded data removed]",
      "text/plain": [
       "<matplotlib.figure.Figure at 0xdf87850>"
      ]
     },
     "metadata": {},
     "output_type": "display_data"
    }
   ],
   "source": [
    "plt.scatter(y=pcmodel['property_crime'], x=pcmodel['burglary'])\n",
    "plt.ylabel('Property Crime')\n",
    "plt.xlabel('Burglary')\n",
    "plt.title('Burglary vs. Property Crime')\n",
    "plt.show()\n",
    "\n",
    "plt.scatter(y=pcmodel['property_crime'], x=pcmodel['larceny_theft'])\n",
    "plt.ylabel('Property Crime')\n",
    "plt.xlabel('Larceny')\n",
    "plt.title('Larceny vs. Property Crime')\n",
    "plt.show()\n",
    "\n",
    "plt.scatter(y=pcmodel['property_crime'], x=pcmodel['murder'])\n",
    "plt.ylabel('Property Crime')\n",
    "plt.xlabel('Murder')\n",
    "plt.title('Murder vs. Property Crime')\n",
    "plt.show()\n",
    "\n",
    "plt.scatter(y=pcmodel['property_crime'], x=pcmodel['population'])\n",
    "plt.ylabel('Property Crime')\n",
    "plt.xlabel('Population')\n",
    "plt.title('Population vs. Property Crime')\n",
    "plt.show()\n",
    "\n",
    "plt.scatter(y=pcmodel['property_crime'], x=pcmodel['robbery'])\n",
    "plt.ylabel('Property Crime')\n",
    "plt.xlabel('Robbery')\n",
    "plt.title('Robbery vs. Property Crime')\n",
    "plt.show()\n",
    "\n",
    "plt.scatter(y=pcmodel['property_crime'], x=pcmodel['vehicle_theft'])\n",
    "plt.ylabel('Property Crime')\n",
    "plt.xlabel('Vehicle Theft')\n",
    "plt.title('Vehicle Theft vs. Property Crime')\n",
    "plt.show()"
   ]
  },
  {
   "cell_type": "markdown",
   "metadata": {},
   "source": [
    "**There are linear relationship between these features and the target, but 'murder' seems to be less linearly related than 'burglary', 'larceny_theft', 'population, 'robbbery', and 'vehicle_theft' are to 'property_crime'.**"
   ]
  },
  {
   "cell_type": "markdown",
   "metadata": {},
   "source": [
    "## Multivariate Normality"
   ]
  },
  {
   "cell_type": "code",
   "execution_count": 276,
   "metadata": {},
   "outputs": [
    {
     "data": {
      "image/png": "[encoded data removed]",
      "text/plain": [
       "<matplotlib.figure.Figure at 0x57c80f0>"
      ]
     },
     "metadata": {},
     "output_type": "display_data"
    }
   ],
   "source": [
    "predicted = regr.predict(X2).ravel()\n",
    "actual = Y2\n",
    "residual = actual - predicted\n",
    "\n",
    "plt.hist(residual)\n",
    "plt.title('Residual Counts')\n",
    "plt.xlabel('Residual')\n",
    "plt.ylabel('Count')\n",
    "plt.show()"
   ]
  },
  {
   "cell_type": "markdown",
   "metadata": {},
   "source": [
    "**The model's error is still approximately normally distributed.**"
   ]
  },
  {
   "cell_type": "markdown",
   "metadata": {},
   "source": [
    "## Homoscedasticity"
   ]
  },
  {
   "cell_type": "code",
   "execution_count": 277,
   "metadata": {},
   "outputs": [
    {
     "data": {
      "image/png": "[encoded data removed]",
      "text/plain": [
       "<matplotlib.figure.Figure at 0xb98430>"
      ]
     },
     "metadata": {},
     "output_type": "display_data"
    }
   ],
   "source": [
    "plt.scatter(predicted, residual)\n",
    "plt.xlabel('Predicted')\n",
    "plt.ylabel('Residual')\n",
    "plt.axhline(y=0)\n",
    "plt.title('Residual vs. Predicted')\n",
    "plt.show()"
   ]
  },
  {
   "cell_type": "markdown",
   "metadata": {},
   "source": [
    "**The error terms are still heteroscedastic.**"
   ]
  },
  {
   "cell_type": "markdown",
   "metadata": {},
   "source": [
    "## Low Multicollinearity "
   ]
  },
  {
   "cell_type": "code",
   "execution_count": 280,
   "metadata": {},
   "outputs": [
    {
     "data": {
      "image/png": "[encoded data removed]",
      "text/plain": [
       "<matplotlib.figure.Figure at 0xe0439d0>"
      ]
     },
     "metadata": {},
     "output_type": "display_data"
    }
   ],
   "source": [
    "correlation_matrix = X2.corr()\n",
    "multicollinearity = sns.heatmap(correlation_matrix, cmap=sns.cubehelix_palette(light=1, as_cmap=True))\n",
    "ticks = plt.xticks(rotation=90) "
   ]
  },
  {
   "cell_type": "markdown",
   "metadata": {},
   "source": [
    "**There are moderate interactions between 'burglary' and larceny_theft' and 'population' and 'robbery'.**"
   ]
  },
  {
   "cell_type": "markdown",
   "metadata": {},
   "source": [
    "# Final Model "
   ]
  },
  {
   "cell_type": "markdown",
   "metadata": {},
   "source": [
    "## Feature Finalization"
   ]
  },
  {
   "cell_type": "markdown",
   "metadata": {},
   "source": [
    "**Decisions:**\n",
    "-  Dropped 'burglary' based on the revised model's summary statistics (p-value). \n",
    "-  Dropped 'larceny_theft' based on the revised model's summary statistics (p-value). \n",
    "-  Dropped 'vehicle_theft' based on the revised model's summary statistics (p-value). \n",
    "\n",
    "**Final Feature Set:**\n",
    "-  'murder'\n",
    "-  'population'\n",
    "-  'robbery'"
   ]
  },
  {
   "cell_type": "code",
   "execution_count": 281,
   "metadata": {
    "scrolled": true
   },
   "outputs": [
    {
     "data": {
      "text/html": [
       "<div>\n",
       "<style scoped>\n",
       "    .dataframe tbody tr th:only-of-type {\n",
       "        vertical-align: middle;\n",
       "    }\n",
       "\n",
       "    .dataframe tbody tr th {\n",
       "        vertical-align: top;\n",
       "    }\n",
       "\n",
       "    .dataframe thead th {\n",
       "        text-align: right;\n",
       "    }\n",
       "</style>\n",
       "<table border=\"1\" class=\"dataframe\">\n",
       "  <thead>\n",
       "    <tr style=\"text-align: right;\">\n",
       "      <th></th>\n",
       "      <th>murder</th>\n",
       "      <th>population</th>\n",
       "      <th>property_crime</th>\n",
       "      <th>robbery</th>\n",
       "    </tr>\n",
       "  </thead>\n",
       "  <tbody>\n",
       "    <tr>\n",
       "      <th>4</th>\n",
       "      <td>0.0</td>\n",
       "      <td>1861.0</td>\n",
       "      <td>12.0</td>\n",
       "      <td>0.0</td>\n",
       "    </tr>\n",
       "    <tr>\n",
       "      <th>5</th>\n",
       "      <td>0.0</td>\n",
       "      <td>2577.0</td>\n",
       "      <td>24.0</td>\n",
       "      <td>0.0</td>\n",
       "    </tr>\n",
       "    <tr>\n",
       "      <th>6</th>\n",
       "      <td>0.0</td>\n",
       "      <td>2846.0</td>\n",
       "      <td>16.0</td>\n",
       "      <td>0.0</td>\n",
       "    </tr>\n",
       "    <tr>\n",
       "      <th>8</th>\n",
       "      <td>0.0</td>\n",
       "      <td>6388.0</td>\n",
       "      <td>223.0</td>\n",
       "      <td>1.0</td>\n",
       "    </tr>\n",
       "    <tr>\n",
       "      <th>9</th>\n",
       "      <td>0.0</td>\n",
       "      <td>4089.0</td>\n",
       "      <td>46.0</td>\n",
       "      <td>1.0</td>\n",
       "    </tr>\n",
       "  </tbody>\n",
       "</table>\n",
       "</div>"
      ],
      "text/plain": [
       "   murder  population  property_crime  robbery\n",
       "4     0.0      1861.0            12.0      0.0\n",
       "5     0.0      2577.0            24.0      0.0\n",
       "6     0.0      2846.0            16.0      0.0\n",
       "8     0.0      6388.0           223.0      1.0\n",
       "9     0.0      4089.0            46.0      1.0"
      ]
     },
     "execution_count": 281,
     "metadata": {},
     "output_type": "execute_result"
    }
   ],
   "source": [
    "pcmodel = pcmodel[['murder','population','property_crime','robbery']]\n",
    "pcmodel.head()"
   ]
  },
  {
   "cell_type": "code",
   "execution_count": 282,
   "metadata": {},
   "outputs": [],
   "source": [
    "Y3 = pcmodel['property_crime']\n",
    "X3 = pcmodel[['murder','population','robbery']]"
   ]
  },
  {
   "cell_type": "code",
   "execution_count": 283,
   "metadata": {},
   "outputs": [
    {
     "name": "stdout",
     "output_type": "stream",
     "text": [
      "\n",
      "Coefficients: \n",
      " [6.55050065e+01 1.48837035e-02 8.82772660e+01]\n",
      "\n",
      "Intercept: \n",
      " -17.645663626959788\n",
      "\n",
      "R-Squared:\n",
      "0.539750001692379\n"
     ]
    }
   ],
   "source": [
    "regr = linear_model.LinearRegression()\n",
    "regr.fit(X3, Y3)\n",
    "\n",
    "print('\\nCoefficients: \\n', regr.coef_)\n",
    "print('\\nIntercept: \\n', regr.intercept_)\n",
    "print('\\nR-Squared:')\n",
    "print(regr.score(X3, Y3))"
   ]
  },
  {
   "cell_type": "code",
   "execution_count": 284,
   "metadata": {
    "scrolled": false
   },
   "outputs": [
    {
     "name": "stdout",
     "output_type": "stream",
     "text": [
      "                            OLS Regression Results                            \n",
      "==============================================================================\n",
      "Dep. Variable:         property_crime   R-squared:                       0.540\n",
      "Model:                            OLS   Adj. R-squared:                  0.535\n",
      "Method:                 Least Squares   F-statistic:                     105.5\n",
      "Date:                Sun, 25 Feb 2018   Prob (F-statistic):           3.09e-45\n",
      "Time:                        18:59:57   Log-Likelihood:                -1657.2\n",
      "No. Observations:                 274   AIC:                             3322.\n",
      "Df Residuals:                     270   BIC:                             3337.\n",
      "Df Model:                           3                                         \n",
      "Covariance Type:            nonrobust                                         \n",
      "==============================================================================\n",
      "                 coef    std err          t      P>|t|      [0.025      0.975]\n",
      "------------------------------------------------------------------------------\n",
      "Intercept    -17.6457     10.492     -1.682      0.094     -38.303       3.011\n",
      "murder        65.5050     29.070      2.253      0.025       8.272     122.738\n",
      "population     0.0149      0.001     10.960      0.000       0.012       0.018\n",
      "robbery       88.2773     14.319      6.165      0.000      60.087     116.467\n",
      "==============================================================================\n",
      "Omnibus:                      110.077   Durbin-Watson:                   2.007\n",
      "Prob(Omnibus):                  0.000   Jarque-Bera (JB):              524.952\n",
      "Skew:                           1.594   Prob(JB):                    1.02e-114\n",
      "Kurtosis:                       8.985   Cond. No.                     4.00e+04\n",
      "==============================================================================\n",
      "\n",
      "Warnings:\n",
      "[1] Standard Errors assume that the covariance matrix of the errors is correctly specified.\n",
      "[2] The condition number is large,  4e+04. This might indicate that there are\n",
      "strong multicollinearity or other numerical problems.\n"
     ]
    }
   ],
   "source": [
    "lf3 = 'property_crime ~ murder + population + robbery'\n",
    "lm3 = smf.ols(formula=lf3, data=pcmodel).fit()\n",
    "print(lm3.summary())"
   ]
  },
  {
   "cell_type": "markdown",
   "metadata": {},
   "source": [
    "## Final Assumptions Check "
   ]
  },
  {
   "cell_type": "markdown",
   "metadata": {},
   "source": [
    "### Linear Relationship"
   ]
  },
  {
   "cell_type": "code",
   "execution_count": 285,
   "metadata": {
    "scrolled": false
   },
   "outputs": [
    {
     "data": {
      "image/png": "[encoded data removed]",
      "text/plain": [
       "<matplotlib.figure.Figure at 0xdff0eb0>"
      ]
     },
     "metadata": {},
     "output_type": "display_data"
    },
    {
     "data": {
      "image/png": "[encoded data removed]",
      "text/plain": [
       "<matplotlib.figure.Figure at 0x57c80f0>"
      ]
     },
     "metadata": {},
     "output_type": "display_data"
    },
    {
     "data": {
      "image/png": "[encoded data removed]",
      "text/plain": [
       "<matplotlib.figure.Figure at 0x90baf0>"
      ]
     },
     "metadata": {},
     "output_type": "display_data"
    }
   ],
   "source": [
    "plt.scatter(y=pcmodel['property_crime'], x=pcmodel['murder'])\n",
    "plt.ylabel('Property Crime')\n",
    "plt.xlabel('Murder')\n",
    "plt.title('Murder vs. Property Crime')\n",
    "plt.show()\n",
    "\n",
    "plt.scatter(y=pcmodel['property_crime'], x=pcmodel['population'])\n",
    "plt.ylabel('Property Crime')\n",
    "plt.xlabel('Population')\n",
    "plt.title('Population vs. Property Crime')\n",
    "plt.show()\n",
    "\n",
    "plt.scatter(y=pcmodel['property_crime'], x=pcmodel['robbery'])\n",
    "plt.ylabel('Property Crime')\n",
    "plt.xlabel('Robbery')\n",
    "plt.title('Robbery vs. Property Crime')\n",
    "plt.show()"
   ]
  },
  {
   "cell_type": "markdown",
   "metadata": {},
   "source": [
    "**There's still a linear relationship between these features and the target, and 'murder' still seems to be less linearly related than the others.**"
   ]
  },
  {
   "cell_type": "markdown",
   "metadata": {},
   "source": [
    "### Multivariate Normality"
   ]
  },
  {
   "cell_type": "code",
   "execution_count": 286,
   "metadata": {},
   "outputs": [
    {
     "data": {
      "image/png": "[encoded data removed]",
      "text/plain": [
       "<matplotlib.figure.Figure at 0xdff0650>"
      ]
     },
     "metadata": {},
     "output_type": "display_data"
    }
   ],
   "source": [
    "predicted = regr.predict(X3).ravel()\n",
    "actual = Y3\n",
    "residual = actual - predicted\n",
    "\n",
    "plt.hist(residual)\n",
    "plt.title('Residual Counts')\n",
    "plt.xlabel('Residual')\n",
    "plt.ylabel('Count')\n",
    "plt.show()"
   ]
  },
  {
   "cell_type": "markdown",
   "metadata": {},
   "source": [
    "**The model's error is still approximately normally distributed.**"
   ]
  },
  {
   "cell_type": "markdown",
   "metadata": {},
   "source": [
    "### Homoscedasticity"
   ]
  },
  {
   "cell_type": "code",
   "execution_count": 287,
   "metadata": {},
   "outputs": [
    {
     "data": {
      "image/png": "[encoded data removed]",
      "text/plain": [
       "<matplotlib.figure.Figure at 0xdff0d50>"
      ]
     },
     "metadata": {},
     "output_type": "display_data"
    }
   ],
   "source": [
    "plt.scatter(predicted, residual)\n",
    "plt.xlabel('Predicted')\n",
    "plt.ylabel('Residual')\n",
    "plt.axhline(y=0)\n",
    "plt.title('Residual vs. Predicted')\n",
    "plt.show()"
   ]
  },
  {
   "cell_type": "markdown",
   "metadata": {},
   "source": [
    "**The error terms are still heteroscedastic.**"
   ]
  },
  {
   "cell_type": "markdown",
   "metadata": {},
   "source": [
    "### Low Multicollinearity"
   ]
  },
  {
   "cell_type": "code",
   "execution_count": 288,
   "metadata": {},
   "outputs": [
    {
     "data": {
      "image/png": "[encoded data removed]",
      "text/plain": [
       "<matplotlib.figure.Figure at 0xdfe6970>"
      ]
     },
     "metadata": {},
     "output_type": "display_data"
    }
   ],
   "source": [
    "correlation_matrix = X3.corr()\n",
    "multicollinearity = sns.heatmap(correlation_matrix, cmap=sns.cubehelix_palette(light=1, as_cmap=True))\n",
    "ticks = plt.xticks(rotation=90) "
   ]
  },
  {
   "cell_type": "markdown",
   "metadata": {},
   "source": [
    "**There's still moderate collinearity between 'population' and 'robbery', but 'murder' isn't correlated with either feature.**"
   ]
  },
  {
   "cell_type": "markdown",
   "metadata": {
    "collapsed": true
   },
   "source": [
    "# Model Evaluation: Out-of-Sample"
   ]
  },
  {
   "cell_type": "markdown",
   "metadata": {},
   "source": [
    "**Data: Crime In New York - [2014](https://ucr.fbi.gov/crime-in-the-u.s/2014/crime-in-the-u.s.-2014/tables/table-8/table-8-by-state/Table_8_Offenses_Known_to_Law_Enforcement_by_New_York_by_City_2014.xls/output.xls).**\n",
    "\n",
    "**Because my finalized model uses 'murder', 'population', and 'robbery' to explain 'property_crime', I've used the same features to test out-of-sample prediction of the target.** "
   ]
  },
  {
   "cell_type": "markdown",
   "metadata": {},
   "source": [
    "## Cleaning"
   ]
  },
  {
   "cell_type": "code",
   "execution_count": 307,
   "metadata": {},
   "outputs": [],
   "source": [
    "path = 'C:/Users/missn/Documents/Thinkful/CSV Datasets/Unit 2/Unit 2 Lesson 4/Regression NYC Crime Prediction/NYC Crime 2014.csv'\n",
    "crime_validation = pd.read_csv('C:/Users/missn/Documents/Thinkful/CSV Datasets/Unit 2/Unit 2 Lesson 4/Regression NYC Crime Prediction/NYC Crime 2014.csv')"
   ]
  },
  {
   "cell_type": "code",
   "execution_count": 308,
   "metadata": {
    "scrolled": false
   },
   "outputs": [
    {
     "data": {
      "text/html": [
       "<div>\n",
       "<style scoped>\n",
       "    .dataframe tbody tr th:only-of-type {\n",
       "        vertical-align: middle;\n",
       "    }\n",
       "\n",
       "    .dataframe tbody tr th {\n",
       "        vertical-align: top;\n",
       "    }\n",
       "\n",
       "    .dataframe thead th {\n",
       "        text-align: right;\n",
       "    }\n",
       "</style>\n",
       "<table border=\"1\" class=\"dataframe\">\n",
       "  <thead>\n",
       "    <tr style=\"text-align: right;\">\n",
       "      <th></th>\n",
       "      <th>murder</th>\n",
       "      <th>population</th>\n",
       "      <th>property_crime</th>\n",
       "      <th>robbery</th>\n",
       "    </tr>\n",
       "  </thead>\n",
       "  <tbody>\n",
       "    <tr>\n",
       "      <th>4</th>\n",
       "      <td>0</td>\n",
       "      <td>1851.0</td>\n",
       "      <td>11.0</td>\n",
       "      <td>0</td>\n",
       "    </tr>\n",
       "    <tr>\n",
       "      <th>5</th>\n",
       "      <td>0</td>\n",
       "      <td>2568.0</td>\n",
       "      <td>49.0</td>\n",
       "      <td>1</td>\n",
       "    </tr>\n",
       "    <tr>\n",
       "      <th>6</th>\n",
       "      <td>0</td>\n",
       "      <td>820.0</td>\n",
       "      <td>1.0</td>\n",
       "      <td>0</td>\n",
       "    </tr>\n",
       "    <tr>\n",
       "      <th>7</th>\n",
       "      <td>0</td>\n",
       "      <td>2842.0</td>\n",
       "      <td>17.0</td>\n",
       "      <td>0</td>\n",
       "    </tr>\n",
       "    <tr>\n",
       "      <th>8</th>\n",
       "      <td>1</td>\n",
       "      <td>98595.0</td>\n",
       "      <td>3888.0</td>\n",
       "      <td>1</td>\n",
       "    </tr>\n",
       "  </tbody>\n",
       "</table>\n",
       "</div>"
      ],
      "text/plain": [
       "   murder  population  property_crime  robbery\n",
       "4       0      1851.0            11.0        0\n",
       "5       0      2568.0            49.0        1\n",
       "6       0       820.0             1.0        0\n",
       "7       0      2842.0            17.0        0\n",
       "8       1     98595.0          3888.0        1"
      ]
     },
     "execution_count": 308,
     "metadata": {},
     "output_type": "execute_result"
    }
   ],
   "source": [
    "pd.options.mode.chained_assignment = None\n",
    "\n",
    "crime_validation.columns = ['city','population','violent_crime','murder','rape_revised','rape_legacy','robbery','aggravated_assault','property_crime','burglary','larceny_theft','vehicle_theft','arson','unknown']\n",
    "crime_validation.drop(labels=[0,1,2,3,352,353,354],axis=0,inplace=True)\n",
    "pcmodel_validation = crime_validation[['murder','population','property_crime','robbery']]\n",
    "\n",
    "columns = list(pcmodel_validation.columns)\n",
    "for column in columns:\n",
    "    pcmodel_validation[column]=pcmodel_validation[column].str.replace(',','')\n",
    "\n",
    "features = columns[:1]+columns[3:]\n",
    "for feature in features:\n",
    "    pcmodel_validation = pcmodel_validation.apply(pd.to_numeric)\n",
    "    pcmodel_validation[feature]=pcmodel_validation[feature].apply(lambda x: 0 if x <= 0 else 1).astype('int64')\n",
    "\n",
    "pcmodel_validation = pcmodel_validation.dropna()\n",
    "pcmodel_validation.head()"
   ]
  },
  {
   "cell_type": "code",
   "execution_count": 310,
   "metadata": {},
   "outputs": [
    {
     "data": {
      "text/html": [
       "<div>\n",
       "<style scoped>\n",
       "    .dataframe tbody tr th:only-of-type {\n",
       "        vertical-align: middle;\n",
       "    }\n",
       "\n",
       "    .dataframe tbody tr th {\n",
       "        vertical-align: top;\n",
       "    }\n",
       "\n",
       "    .dataframe thead th {\n",
       "        text-align: right;\n",
       "    }\n",
       "</style>\n",
       "<table border=\"1\" class=\"dataframe\">\n",
       "  <thead>\n",
       "    <tr style=\"text-align: right;\">\n",
       "      <th></th>\n",
       "      <th>murder</th>\n",
       "      <th>population</th>\n",
       "      <th>property_crime</th>\n",
       "      <th>robbery</th>\n",
       "    </tr>\n",
       "  </thead>\n",
       "  <tbody>\n",
       "    <tr>\n",
       "      <th>count</th>\n",
       "      <td>365.000000</td>\n",
       "      <td>3.650000e+02</td>\n",
       "      <td>365.000000</td>\n",
       "      <td>365.000000</td>\n",
       "    </tr>\n",
       "    <tr>\n",
       "      <th>mean</th>\n",
       "      <td>0.139726</td>\n",
       "      <td>3.808991e+04</td>\n",
       "      <td>699.723288</td>\n",
       "      <td>0.528767</td>\n",
       "    </tr>\n",
       "    <tr>\n",
       "      <th>std</th>\n",
       "      <td>0.347178</td>\n",
       "      <td>4.435674e+05</td>\n",
       "      <td>7152.724513</td>\n",
       "      <td>0.499857</td>\n",
       "    </tr>\n",
       "    <tr>\n",
       "      <th>min</th>\n",
       "      <td>0.000000</td>\n",
       "      <td>7.900000e+01</td>\n",
       "      <td>0.000000</td>\n",
       "      <td>0.000000</td>\n",
       "    </tr>\n",
       "    <tr>\n",
       "      <th>25%</th>\n",
       "      <td>0.000000</td>\n",
       "      <td>2.631000e+03</td>\n",
       "      <td>25.000000</td>\n",
       "      <td>0.000000</td>\n",
       "    </tr>\n",
       "    <tr>\n",
       "      <th>50%</th>\n",
       "      <td>0.000000</td>\n",
       "      <td>6.548000e+03</td>\n",
       "      <td>75.000000</td>\n",
       "      <td>1.000000</td>\n",
       "    </tr>\n",
       "    <tr>\n",
       "      <th>75%</th>\n",
       "      <td>0.000000</td>\n",
       "      <td>1.540800e+04</td>\n",
       "      <td>270.000000</td>\n",
       "      <td>1.000000</td>\n",
       "    </tr>\n",
       "    <tr>\n",
       "      <th>max</th>\n",
       "      <td>1.000000</td>\n",
       "      <td>8.473938e+06</td>\n",
       "      <td>135747.000000</td>\n",
       "      <td>1.000000</td>\n",
       "    </tr>\n",
       "  </tbody>\n",
       "</table>\n",
       "</div>"
      ],
      "text/plain": [
       "           murder    population  property_crime     robbery\n",
       "count  365.000000  3.650000e+02      365.000000  365.000000\n",
       "mean     0.139726  3.808991e+04      699.723288    0.528767\n",
       "std      0.347178  4.435674e+05     7152.724513    0.499857\n",
       "min      0.000000  7.900000e+01        0.000000    0.000000\n",
       "25%      0.000000  2.631000e+03       25.000000    0.000000\n",
       "50%      0.000000  6.548000e+03       75.000000    1.000000\n",
       "75%      0.000000  1.540800e+04      270.000000    1.000000\n",
       "max      1.000000  8.473938e+06   135747.000000    1.000000"
      ]
     },
     "execution_count": 310,
     "metadata": {},
     "output_type": "execute_result"
    }
   ],
   "source": [
    "pcmodel_validation.describe()"
   ]
  },
  {
   "cell_type": "code",
   "execution_count": 311,
   "metadata": {},
   "outputs": [
    {
     "data": {
      "image/png": "[encoded data removed]",
      "text/plain": [
       "<matplotlib.figure.Figure at 0xd82490>"
      ]
     },
     "metadata": {},
     "output_type": "display_data"
    }
   ],
   "source": [
    "plt.subplot(121)\n",
    "population = sns.boxplot(pcmodel_validation['population'])\n",
    "plt.subplot(122)\n",
    "population = sns.violinplot(pcmodel_validation['population'])"
   ]
  },
  {
   "cell_type": "markdown",
   "metadata": {},
   "source": [
    "**There are extreme outliers (much more densely populated cities) beyond Q3+1.5IQR that I chose to exclude.**"
   ]
  },
  {
   "cell_type": "code",
   "execution_count": 312,
   "metadata": {},
   "outputs": [],
   "source": [
    "q25 = pcmodel_validation['population'].quantile(0.25)\n",
    "q75 = pcmodel_validation['population'].quantile(0.75)\n",
    "iqr = q75 - q25\n",
    "max = q75 + (iqr * 1.5)\n",
    "pcmodel_validation=pcmodel_validation.where(pcmodel_validation['population'] < max)"
   ]
  },
  {
   "cell_type": "code",
   "execution_count": 313,
   "metadata": {},
   "outputs": [
    {
     "data": {
      "image/png": "[encoded data removed]",
      "text/plain": [
       "<matplotlib.figure.Figure at 0xf320070>"
      ]
     },
     "metadata": {},
     "output_type": "display_data"
    }
   ],
   "source": [
    "plt.subplot(121)\n",
    "population = sns.boxplot(pcmodel_validation['population'])\n",
    "plt.subplot(122)\n",
    "population = sns.violinplot(pcmodel_validation['population'])"
   ]
  },
  {
   "cell_type": "code",
   "execution_count": 314,
   "metadata": {},
   "outputs": [
    {
     "data": {
      "text/html": [
       "<div>\n",
       "<style scoped>\n",
       "    .dataframe tbody tr th:only-of-type {\n",
       "        vertical-align: middle;\n",
       "    }\n",
       "\n",
       "    .dataframe tbody tr th {\n",
       "        vertical-align: top;\n",
       "    }\n",
       "\n",
       "    .dataframe thead th {\n",
       "        text-align: right;\n",
       "    }\n",
       "</style>\n",
       "<table border=\"1\" class=\"dataframe\">\n",
       "  <thead>\n",
       "    <tr style=\"text-align: right;\">\n",
       "      <th></th>\n",
       "      <th>murder</th>\n",
       "      <th>population</th>\n",
       "      <th>property_crime</th>\n",
       "      <th>robbery</th>\n",
       "    </tr>\n",
       "  </thead>\n",
       "  <tbody>\n",
       "    <tr>\n",
       "      <th>count</th>\n",
       "      <td>329.000000</td>\n",
       "      <td>329.000000</td>\n",
       "      <td>329.000000</td>\n",
       "      <td>329.000000</td>\n",
       "    </tr>\n",
       "    <tr>\n",
       "      <th>mean</th>\n",
       "      <td>0.085106</td>\n",
       "      <td>8481.495441</td>\n",
       "      <td>147.364742</td>\n",
       "      <td>0.480243</td>\n",
       "    </tr>\n",
       "    <tr>\n",
       "      <th>std</th>\n",
       "      <td>0.279465</td>\n",
       "      <td>8258.540029</td>\n",
       "      <td>213.732938</td>\n",
       "      <td>0.500371</td>\n",
       "    </tr>\n",
       "    <tr>\n",
       "      <th>min</th>\n",
       "      <td>0.000000</td>\n",
       "      <td>79.000000</td>\n",
       "      <td>0.000000</td>\n",
       "      <td>0.000000</td>\n",
       "    </tr>\n",
       "    <tr>\n",
       "      <th>25%</th>\n",
       "      <td>0.000000</td>\n",
       "      <td>2460.000000</td>\n",
       "      <td>21.000000</td>\n",
       "      <td>0.000000</td>\n",
       "    </tr>\n",
       "    <tr>\n",
       "      <th>50%</th>\n",
       "      <td>0.000000</td>\n",
       "      <td>5234.000000</td>\n",
       "      <td>61.000000</td>\n",
       "      <td>0.000000</td>\n",
       "    </tr>\n",
       "    <tr>\n",
       "      <th>75%</th>\n",
       "      <td>0.000000</td>\n",
       "      <td>11231.000000</td>\n",
       "      <td>169.000000</td>\n",
       "      <td>1.000000</td>\n",
       "    </tr>\n",
       "    <tr>\n",
       "      <th>max</th>\n",
       "      <td>1.000000</td>\n",
       "      <td>34463.000000</td>\n",
       "      <td>1401.000000</td>\n",
       "      <td>1.000000</td>\n",
       "    </tr>\n",
       "  </tbody>\n",
       "</table>\n",
       "</div>"
      ],
      "text/plain": [
       "           murder    population  property_crime     robbery\n",
       "count  329.000000    329.000000      329.000000  329.000000\n",
       "mean     0.085106   8481.495441      147.364742    0.480243\n",
       "std      0.279465   8258.540029      213.732938    0.500371\n",
       "min      0.000000     79.000000        0.000000    0.000000\n",
       "25%      0.000000   2460.000000       21.000000    0.000000\n",
       "50%      0.000000   5234.000000       61.000000    0.000000\n",
       "75%      0.000000  11231.000000      169.000000    1.000000\n",
       "max      1.000000  34463.000000     1401.000000    1.000000"
      ]
     },
     "execution_count": 314,
     "metadata": {},
     "output_type": "execute_result"
    }
   ],
   "source": [
    "pcmodel_validation.describe()"
   ]
  },
  {
   "cell_type": "markdown",
   "metadata": {},
   "source": [
    "## Cross-Validation"
   ]
  },
  {
   "cell_type": "code",
   "execution_count": 315,
   "metadata": {},
   "outputs": [
    {
     "name": "stdout",
     "output_type": "stream",
     "text": [
      "                            OLS Regression Results                            \n",
      "==============================================================================\n",
      "Dep. Variable:         property_crime   R-squared:                       0.540\n",
      "Model:                            OLS   Adj. R-squared:                  0.535\n",
      "Method:                 Least Squares   F-statistic:                     105.5\n",
      "Date:                Sun, 25 Feb 2018   Prob (F-statistic):           3.09e-45\n",
      "Time:                        19:55:34   Log-Likelihood:                -1657.2\n",
      "No. Observations:                 274   AIC:                             3322.\n",
      "Df Residuals:                     270   BIC:                             3337.\n",
      "Df Model:                           3                                         \n",
      "Covariance Type:            nonrobust                                         \n",
      "==============================================================================\n",
      "                 coef    std err          t      P>|t|      [0.025      0.975]\n",
      "------------------------------------------------------------------------------\n",
      "Intercept    -17.6457     10.492     -1.682      0.094     -38.303       3.011\n",
      "murder        65.5050     29.070      2.253      0.025       8.272     122.738\n",
      "population     0.0149      0.001     10.960      0.000       0.012       0.018\n",
      "robbery       88.2773     14.319      6.165      0.000      60.087     116.467\n",
      "==============================================================================\n",
      "Omnibus:                      110.077   Durbin-Watson:                   2.007\n",
      "Prob(Omnibus):                  0.000   Jarque-Bera (JB):              524.952\n",
      "Skew:                           1.594   Prob(JB):                    1.02e-114\n",
      "Kurtosis:                       8.985   Cond. No.                     4.00e+04\n",
      "==============================================================================\n",
      "\n",
      "Warnings:\n",
      "[1] Standard Errors assume that the covariance matrix of the errors is correctly specified.\n",
      "[2] The condition number is large,  4e+04. This might indicate that there are\n",
      "strong multicollinearity or other numerical problems.\n"
     ]
    }
   ],
   "source": [
    "lfv = 'property_crime ~ murder + population + robbery'\n",
    "lmv = smf.ols(formula=lfv, data=pcmodel_validation).fit()\n",
    "print(lm3.summary())"
   ]
  },
  {
   "cell_type": "markdown",
   "metadata": {},
   "source": [
    "**The overall model is more valuable that the intercept-only fit, all of the features are statistically significant, and the R^2 is stable.**"
   ]
  }
 ],
 "metadata": {
  "kernelspec": {
   "display_name": "Python 3",
   "language": "python",
   "name": "python3"
  },
  "language_info": {
   "codemirror_mode": {
    "name": "ipython",
    "version": 3
   },
   "file_extension": ".py",
   "mimetype": "text/x-python",
   "name": "python",
   "nbconvert_exporter": "python",
   "pygments_lexer": "ipython3",
   "version": "3.6.4"
  },
  "toc": {
   "nav_menu": {},
   "number_sections": true,
   "sideBar": true,
   "skip_h1_title": false,
   "title_cell": "Table of Contents",
   "title_sidebar": "Contents",
   "toc_cell": false,
   "toc_position": {
    "height": "calc(100% - 180px)",
    "left": "10px",
    "top": "150px",
    "width": "320px"
   },
   "toc_section_display": "block",
   "toc_window_display": true
  }
 },
 "nbformat": 4,
 "nbformat_minor": 2
}
