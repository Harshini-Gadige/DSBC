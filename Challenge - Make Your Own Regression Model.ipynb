{
 "cells": [
  {
   "cell_type": "code",
   "execution_count": 189,
   "metadata": {
    "scrolled": true
   },
   "outputs": [],
   "source": [
    "%matplotlib inline\n",
    "import math\n",
    "import matplotlib.pyplot as plt\n",
    "import numpy as np\n",
    "import pandas as pd\n",
    "import scipy\n",
    "import sklearn\n",
    "import seaborn as sns\n",
    "from sklearn import linear_model\n",
    "from sklearn import metrics\n",
    "from sklearn.model_selection import cross_val_predict\n",
    "from sklearn.model_selection import cross_val_score\n",
    "import statsmodels.formula.api as smf\n",
    "from statsmodels.sandbox.regression.predstd import wls_prediction_std"
   ]
  },
  {
   "cell_type": "code",
   "execution_count": 190,
   "metadata": {
    "code_folding": []
   },
   "outputs": [
    {
     "data": {
      "text/html": [
       "<script>\n",
       "code_show=true;\n",
       "function code_toggle() {\n",
       "if (code_show){\n",
       "$('div.input').hide();\n",
       "} else {\n",
       "$('div.input').show();\n",
       "}\n",
       "code_show = !code_show\n",
       "}\n",
       "$( document ).ready(code_toggle);\n",
       "</script>\n",
       "The code for this notebook is hidden for easier reading.\n",
       "To toggle it on/off, please click <a href=\"javascript:code_toggle()\">here</a>."
      ],
      "text/plain": [
       "<IPython.core.display.HTML object>"
      ]
     },
     "execution_count": 190,
     "metadata": {},
     "output_type": "execute_result"
    }
   ],
   "source": [
    "from IPython.display import HTML\n",
    "\n",
    "HTML('''<script>\n",
    "code_show=true;\n",
    "function code_toggle() {\n",
    "if (code_show){\n",
    "$('div.input').hide();\n",
    "} else {\n",
    "$('div.input').show();\n",
    "}\n",
    "code_show = !code_show\n",
    "}\n",
    "$( document ).ready(code_toggle);\n",
    "</script>\n",
    "The code for this notebook is hidden for easier reading.\n",
    "To toggle it on/off, please click <a href=\"javascript:code_toggle()\">here</a>.''')"
   ]
  },
  {
   "cell_type": "markdown",
   "metadata": {},
   "source": [
    "# Questions for Debjit: "
   ]
  },
  {
   "cell_type": "markdown",
   "metadata": {},
   "source": [
    "<span class=\"burk\">1.  Why did the initial data preparation drill suggest that 'murder' and 'robbery' be recoded as categorical features? Does this choice impact the assumptions and model outcomes?\n",
    "<span class=\"burk\">2.  Are all 4 assumptions equally weighted? If not, which are prioritized and why? Must I always attempt to fix violated assumptions and if so, how far can I go before I'm over-engineering features?</span> \n",
    "<span class=\"burk\">3.  When evaluating a model using holdout groups and/or cross-validation, should I check assumptions for the testing dataset as well? Why or why not?</span></span> "
   ]
  },
  {
   "cell_type": "markdown",
   "metadata": {},
   "source": [
    "# Cleaning & Feature Engineering"
   ]
  },
  {
   "cell_type": "markdown",
   "metadata": {},
   "source": [
    "**Data: Crime In New York - [2013](https://raw.githubusercontent.com/Thinkful-Ed/data-201-resources/master/New_York_offenses/NEW_YORK-Offenses_Known_to_Law_Enforcement_by_City_2013%20-%2013tbl8ny.csv).**\n",
    "\n",
    "**I created a dataframe to hold the following features and the target variable - property crime:** \n",
    "-  'population' (Continuous)\n",
    "-  'population_squared' (Continuous)\n",
    "-  'murder' (Continuous - Formerly Categorical)\n",
    "-  'robbery' (Continuous - Formerly Categorical)"
   ]
  },
  {
   "cell_type": "code",
   "execution_count": 191,
   "metadata": {
    "scrolled": true
   },
   "outputs": [],
   "source": [
    "path = 'https://raw.githubusercontent.com/Thinkful-Ed/data-201-resources/master/New_York_offenses/NEW_YORK-Offenses_Known_to_Law_Enforcement_by_City_2013%20-%2013tbl8ny.csv'\n",
    "crime = pd.read_csv(path)"
   ]
  },
  {
   "cell_type": "code",
   "execution_count": 192,
   "metadata": {},
   "outputs": [
    {
     "data": {
      "text/html": [
       "<div>\n",
       "<style scoped>\n",
       "    .dataframe tbody tr th:only-of-type {\n",
       "        vertical-align: middle;\n",
       "    }\n",
       "\n",
       "    .dataframe tbody tr th {\n",
       "        vertical-align: top;\n",
       "    }\n",
       "\n",
       "    .dataframe thead th {\n",
       "        text-align: right;\n",
       "    }\n",
       "</style>\n",
       "<table border=\"1\" class=\"dataframe\">\n",
       "  <thead>\n",
       "    <tr style=\"text-align: right;\">\n",
       "      <th></th>\n",
       "      <th>murder</th>\n",
       "      <th>population</th>\n",
       "      <th>property_crime</th>\n",
       "      <th>robbery</th>\n",
       "      <th>population_squared</th>\n",
       "    </tr>\n",
       "  </thead>\n",
       "  <tbody>\n",
       "    <tr>\n",
       "      <th>4</th>\n",
       "      <td>0</td>\n",
       "      <td>1861</td>\n",
       "      <td>12</td>\n",
       "      <td>0</td>\n",
       "      <td>3463321</td>\n",
       "    </tr>\n",
       "    <tr>\n",
       "      <th>5</th>\n",
       "      <td>0</td>\n",
       "      <td>2577</td>\n",
       "      <td>24</td>\n",
       "      <td>0</td>\n",
       "      <td>6640929</td>\n",
       "    </tr>\n",
       "    <tr>\n",
       "      <th>6</th>\n",
       "      <td>0</td>\n",
       "      <td>2846</td>\n",
       "      <td>16</td>\n",
       "      <td>0</td>\n",
       "      <td>8099716</td>\n",
       "    </tr>\n",
       "    <tr>\n",
       "      <th>7</th>\n",
       "      <td>8</td>\n",
       "      <td>97956</td>\n",
       "      <td>4090</td>\n",
       "      <td>227</td>\n",
       "      <td>9595377936</td>\n",
       "    </tr>\n",
       "    <tr>\n",
       "      <th>8</th>\n",
       "      <td>0</td>\n",
       "      <td>6388</td>\n",
       "      <td>223</td>\n",
       "      <td>4</td>\n",
       "      <td>40806544</td>\n",
       "    </tr>\n",
       "  </tbody>\n",
       "</table>\n",
       "</div>"
      ],
      "text/plain": [
       "   murder  population  property_crime  robbery  population_squared\n",
       "4       0        1861              12        0             3463321\n",
       "5       0        2577              24        0             6640929\n",
       "6       0        2846              16        0             8099716\n",
       "7       8       97956            4090      227          9595377936\n",
       "8       0        6388             223        4            40806544"
      ]
     },
     "execution_count": 192,
     "metadata": {},
     "output_type": "execute_result"
    }
   ],
   "source": [
    "pd.options.mode.chained_assignment = None\n",
    "\n",
    "crime.columns = ['city','population','violent_crime','murder','rape_revised','rape_legacy','robbery','aggravated_assault','property_crime','burglary','larceny_theft','vehicle_theft','arson']\n",
    "crime.drop(labels=[0,1,2,3,352,353,354],axis=0,inplace=True)\n",
    "\n",
    "pcmodel = crime[['murder','population','property_crime','robbery']]\n",
    "columns = list(pcmodel.columns)\n",
    "for column in columns:\n",
    "    pcmodel[column]=pcmodel[column].str.replace(',','')\n",
    "    \n",
    "pcmodel = pcmodel.apply(pd.to_numeric)\n",
    "pcmodel['population_squared'] = pcmodel['population']**2\n",
    "\n",
    "#Categorical coding that I decided against for my own model - it caused downstream cross-validation issues. \n",
    "# pcmodel['murder'] = pcmodel['murder'].apply(lambda x: 0 if x <= 0 else 1).astype('int64')\n",
    "# pcmodel['robbery'] = pcmodel['robbery'].apply(lambda x: 0 if x <= 0 else 1).astype('int64')\n",
    "\n",
    "pcmodel.dropna(axis=0,how='all',inplace=True)\n",
    "pcmodel.head()"
   ]
  },
  {
   "cell_type": "code",
   "execution_count": 193,
   "metadata": {},
   "outputs": [
    {
     "data": {
      "text/html": [
       "<div>\n",
       "<style scoped>\n",
       "    .dataframe tbody tr th:only-of-type {\n",
       "        vertical-align: middle;\n",
       "    }\n",
       "\n",
       "    .dataframe tbody tr th {\n",
       "        vertical-align: top;\n",
       "    }\n",
       "\n",
       "    .dataframe thead th {\n",
       "        text-align: right;\n",
       "    }\n",
       "</style>\n",
       "<table border=\"1\" class=\"dataframe\">\n",
       "  <thead>\n",
       "    <tr style=\"text-align: right;\">\n",
       "      <th></th>\n",
       "      <th>murder</th>\n",
       "      <th>population</th>\n",
       "      <th>property_crime</th>\n",
       "      <th>robbery</th>\n",
       "      <th>population_squared</th>\n",
       "    </tr>\n",
       "  </thead>\n",
       "  <tbody>\n",
       "    <tr>\n",
       "      <th>count</th>\n",
       "      <td>348.000000</td>\n",
       "      <td>3.480000e+02</td>\n",
       "      <td>348.000000</td>\n",
       "      <td>348.000000</td>\n",
       "      <td>3.480000e+02</td>\n",
       "    </tr>\n",
       "    <tr>\n",
       "      <th>mean</th>\n",
       "      <td>1.566092</td>\n",
       "      <td>4.003763e+04</td>\n",
       "      <td>792.606322</td>\n",
       "      <td>72.902299</td>\n",
       "      <td>2.035547e+11</td>\n",
       "    </tr>\n",
       "    <tr>\n",
       "      <th>std</th>\n",
       "      <td>18.303673</td>\n",
       "      <td>4.500374e+05</td>\n",
       "      <td>7659.724746</td>\n",
       "      <td>1031.032873</td>\n",
       "      <td>3.778876e+12</td>\n",
       "    </tr>\n",
       "    <tr>\n",
       "      <th>min</th>\n",
       "      <td>0.000000</td>\n",
       "      <td>5.260000e+02</td>\n",
       "      <td>0.000000</td>\n",
       "      <td>0.000000</td>\n",
       "      <td>2.766760e+05</td>\n",
       "    </tr>\n",
       "    <tr>\n",
       "      <th>25%</th>\n",
       "      <td>0.000000</td>\n",
       "      <td>3.003000e+03</td>\n",
       "      <td>40.500000</td>\n",
       "      <td>0.000000</td>\n",
       "      <td>9.018117e+06</td>\n",
       "    </tr>\n",
       "    <tr>\n",
       "      <th>50%</th>\n",
       "      <td>0.000000</td>\n",
       "      <td>7.233500e+03</td>\n",
       "      <td>112.500000</td>\n",
       "      <td>1.000000</td>\n",
       "      <td>5.232568e+07</td>\n",
       "    </tr>\n",
       "    <tr>\n",
       "      <th>75%</th>\n",
       "      <td>0.000000</td>\n",
       "      <td>1.842750e+04</td>\n",
       "      <td>341.000000</td>\n",
       "      <td>5.000000</td>\n",
       "      <td>3.397536e+08</td>\n",
       "    </tr>\n",
       "    <tr>\n",
       "      <th>max</th>\n",
       "      <td>335.000000</td>\n",
       "      <td>8.396126e+06</td>\n",
       "      <td>141971.000000</td>\n",
       "      <td>19170.000000</td>\n",
       "      <td>7.049493e+13</td>\n",
       "    </tr>\n",
       "  </tbody>\n",
       "</table>\n",
       "</div>"
      ],
      "text/plain": [
       "           murder    population  property_crime       robbery  \\\n",
       "count  348.000000  3.480000e+02      348.000000    348.000000   \n",
       "mean     1.566092  4.003763e+04      792.606322     72.902299   \n",
       "std     18.303673  4.500374e+05     7659.724746   1031.032873   \n",
       "min      0.000000  5.260000e+02        0.000000      0.000000   \n",
       "25%      0.000000  3.003000e+03       40.500000      0.000000   \n",
       "50%      0.000000  7.233500e+03      112.500000      1.000000   \n",
       "75%      0.000000  1.842750e+04      341.000000      5.000000   \n",
       "max    335.000000  8.396126e+06   141971.000000  19170.000000   \n",
       "\n",
       "       population_squared  \n",
       "count        3.480000e+02  \n",
       "mean         2.035547e+11  \n",
       "std          3.778876e+12  \n",
       "min          2.766760e+05  \n",
       "25%          9.018117e+06  \n",
       "50%          5.232568e+07  \n",
       "75%          3.397536e+08  \n",
       "max          7.049493e+13  "
      ]
     },
     "execution_count": 193,
     "metadata": {},
     "output_type": "execute_result"
    }
   ],
   "source": [
    "pcmodel.describe()"
   ]
  },
  {
   "cell_type": "code",
   "execution_count": 194,
   "metadata": {
    "scrolled": false
   },
   "outputs": [
    {
     "data": {
      "image/png": "[encoded data removed]",
      "text/plain": [
       "<matplotlib.figure.Figure at 0xe21ab90>"
      ]
     },
     "metadata": {},
     "output_type": "display_data"
    }
   ],
   "source": [
    "plt.subplot(121)\n",
    "population = sns.boxplot(pcmodel['population'])\n",
    "plt.subplot(122)\n",
    "population = sns.violinplot(pcmodel['population'])"
   ]
  },
  {
   "cell_type": "code",
   "execution_count": 195,
   "metadata": {
    "scrolled": true
   },
   "outputs": [
    {
     "data": {
      "image/png": "[encoded data removed]",
      "text/plain": [
       "<matplotlib.figure.Figure at 0xe549e70>"
      ]
     },
     "metadata": {},
     "output_type": "display_data"
    }
   ],
   "source": [
    "plt.subplot(121)\n",
    "population_squared = sns.boxplot(pcmodel['population_squared'])\n",
    "plt.subplot(122)\n",
    "population = sns.violinplot(pcmodel['population_squared'])"
   ]
  },
  {
   "cell_type": "markdown",
   "metadata": {},
   "source": [
    "**There are extreme outliers (much more densely populated cities) beyond Q3+1.5IQR that I chose to exclude.**"
   ]
  },
  {
   "cell_type": "code",
   "execution_count": 196,
   "metadata": {},
   "outputs": [],
   "source": [
    "columns = list(pcmodel[['population','population_squared']].columns)\n",
    "for column in columns: \n",
    "    q25 = pcmodel[column].quantile(0.25)\n",
    "    q75 = pcmodel[column].quantile(0.75)\n",
    "    iqr = q75 - q25\n",
    "    max = q75 + (iqr * 1.5)\n",
    "    pcmodel=pcmodel.where(pcmodel[column] < max)"
   ]
  },
  {
   "cell_type": "code",
   "execution_count": 197,
   "metadata": {},
   "outputs": [
    {
     "data": {
      "image/png": "[encoded data removed]",
      "text/plain": [
       "<matplotlib.figure.Figure at 0xe5cab90>"
      ]
     },
     "metadata": {},
     "output_type": "display_data"
    }
   ],
   "source": [
    "plt.subplot(121)\n",
    "population = sns.boxplot(pcmodel['population'])\n",
    "plt.subplot(122)\n",
    "population = sns.violinplot(pcmodel['population'])"
   ]
  },
  {
   "cell_type": "code",
   "execution_count": 198,
   "metadata": {
    "scrolled": true
   },
   "outputs": [
    {
     "data": {
      "image/png": "[encoded data removed]",
      "text/plain": [
       "<matplotlib.figure.Figure at 0xdce03d0>"
      ]
     },
     "metadata": {},
     "output_type": "display_data"
    }
   ],
   "source": [
    "plt.subplot(121)\n",
    "population_squared = sns.boxplot(pcmodel['population_squared'])\n",
    "plt.subplot(122)\n",
    "population_squared = sns.violinplot(pcmodel['population_squared'])"
   ]
  },
  {
   "cell_type": "code",
   "execution_count": 199,
   "metadata": {},
   "outputs": [
    {
     "data": {
      "text/html": [
       "<div>\n",
       "<style scoped>\n",
       "    .dataframe tbody tr th:only-of-type {\n",
       "        vertical-align: middle;\n",
       "    }\n",
       "\n",
       "    .dataframe tbody tr th {\n",
       "        vertical-align: top;\n",
       "    }\n",
       "\n",
       "    .dataframe thead th {\n",
       "        text-align: right;\n",
       "    }\n",
       "</style>\n",
       "<table border=\"1\" class=\"dataframe\">\n",
       "  <thead>\n",
       "    <tr style=\"text-align: right;\">\n",
       "      <th></th>\n",
       "      <th>murder</th>\n",
       "      <th>population</th>\n",
       "      <th>property_crime</th>\n",
       "      <th>robbery</th>\n",
       "      <th>population_squared</th>\n",
       "    </tr>\n",
       "  </thead>\n",
       "  <tbody>\n",
       "    <tr>\n",
       "      <th>count</th>\n",
       "      <td>274.000000</td>\n",
       "      <td>274.000000</td>\n",
       "      <td>274.000000</td>\n",
       "      <td>274.000000</td>\n",
       "      <td>2.740000e+02</td>\n",
       "    </tr>\n",
       "    <tr>\n",
       "      <th>mean</th>\n",
       "      <td>0.051095</td>\n",
       "      <td>6730.492701</td>\n",
       "      <td>130.014599</td>\n",
       "      <td>1.777372</td>\n",
       "      <td>7.301594e+07</td>\n",
       "    </tr>\n",
       "    <tr>\n",
       "      <th>std</th>\n",
       "      <td>0.220594</td>\n",
       "      <td>5274.271168</td>\n",
       "      <td>151.249060</td>\n",
       "      <td>3.279093</td>\n",
       "      <td>1.039372e+08</td>\n",
       "    </tr>\n",
       "    <tr>\n",
       "      <th>min</th>\n",
       "      <td>0.000000</td>\n",
       "      <td>526.000000</td>\n",
       "      <td>0.000000</td>\n",
       "      <td>0.000000</td>\n",
       "      <td>2.766760e+05</td>\n",
       "    </tr>\n",
       "    <tr>\n",
       "      <th>25%</th>\n",
       "      <td>0.000000</td>\n",
       "      <td>2467.750000</td>\n",
       "      <td>31.000000</td>\n",
       "      <td>0.000000</td>\n",
       "      <td>6.089970e+06</td>\n",
       "    </tr>\n",
       "    <tr>\n",
       "      <th>50%</th>\n",
       "      <td>0.000000</td>\n",
       "      <td>5133.500000</td>\n",
       "      <td>73.500000</td>\n",
       "      <td>0.500000</td>\n",
       "      <td>2.635293e+07</td>\n",
       "    </tr>\n",
       "    <tr>\n",
       "      <th>75%</th>\n",
       "      <td>0.000000</td>\n",
       "      <td>9517.000000</td>\n",
       "      <td>171.000000</td>\n",
       "      <td>2.000000</td>\n",
       "      <td>9.057329e+07</td>\n",
       "    </tr>\n",
       "    <tr>\n",
       "      <th>max</th>\n",
       "      <td>1.000000</td>\n",
       "      <td>21397.000000</td>\n",
       "      <td>949.000000</td>\n",
       "      <td>24.000000</td>\n",
       "      <td>4.578316e+08</td>\n",
       "    </tr>\n",
       "  </tbody>\n",
       "</table>\n",
       "</div>"
      ],
      "text/plain": [
       "           murder    population  property_crime     robbery  \\\n",
       "count  274.000000    274.000000      274.000000  274.000000   \n",
       "mean     0.051095   6730.492701      130.014599    1.777372   \n",
       "std      0.220594   5274.271168      151.249060    3.279093   \n",
       "min      0.000000    526.000000        0.000000    0.000000   \n",
       "25%      0.000000   2467.750000       31.000000    0.000000   \n",
       "50%      0.000000   5133.500000       73.500000    0.500000   \n",
       "75%      0.000000   9517.000000      171.000000    2.000000   \n",
       "max      1.000000  21397.000000      949.000000   24.000000   \n",
       "\n",
       "       population_squared  \n",
       "count        2.740000e+02  \n",
       "mean         7.301594e+07  \n",
       "std          1.039372e+08  \n",
       "min          2.766760e+05  \n",
       "25%          6.089970e+06  \n",
       "50%          2.635293e+07  \n",
       "75%          9.057329e+07  \n",
       "max          4.578316e+08  "
      ]
     },
     "execution_count": 199,
     "metadata": {},
     "output_type": "execute_result"
    }
   ],
   "source": [
    "pcmodel.describe()"
   ]
  },
  {
   "cell_type": "markdown",
   "metadata": {
    "collapsed": true
   },
   "source": [
    "# Initial Model"
   ]
  },
  {
   "cell_type": "code",
   "execution_count": 200,
   "metadata": {},
   "outputs": [],
   "source": [
    "pcmodel = pcmodel.dropna()\n",
    "Y1 = pcmodel['property_crime']\n",
    "X1 = pcmodel[['murder','population','population_squared','robbery']]"
   ]
  },
  {
   "cell_type": "code",
   "execution_count": 201,
   "metadata": {
    "scrolled": false
   },
   "outputs": [
    {
     "name": "stdout",
     "output_type": "stream",
     "text": [
      "\n",
      "Coefficients: \n",
      " [ 1.32154967e+01  1.49400004e-02 -1.69838668e-07  2.29415628e+01]\n",
      "\n",
      "Intercept: \n",
      " 0.4110236790127715\n",
      "\n",
      "R-Squared:\n",
      "0.642266595555286\n"
     ]
    }
   ],
   "source": [
    "regr = linear_model.LinearRegression()\n",
    "regr.fit(X1, Y1)\n",
    "\n",
    "print('\\nCoefficients: \\n', regr.coef_)\n",
    "print('\\nIntercept: \\n', regr.intercept_)\n",
    "print('\\nR-Squared:')\n",
    "print(regr.score(X1, Y1))"
   ]
  },
  {
   "cell_type": "code",
   "execution_count": 202,
   "metadata": {},
   "outputs": [
    {
     "name": "stdout",
     "output_type": "stream",
     "text": [
      "                            OLS Regression Results                            \n",
      "==============================================================================\n",
      "Dep. Variable:         property_crime   R-squared:                       0.642\n",
      "Model:                            OLS   Adj. R-squared:                  0.637\n",
      "Method:                 Least Squares   F-statistic:                     120.7\n",
      "Date:                Sun, 25 Feb 2018   Prob (F-statistic):           7.86e-59\n",
      "Time:                        22:20:29   Log-Likelihood:                -1622.6\n",
      "No. Observations:                 274   AIC:                             3255.\n",
      "Df Residuals:                     269   BIC:                             3273.\n",
      "Df Model:                           4                                         \n",
      "Covariance Type:            nonrobust                                         \n",
      "======================================================================================\n",
      "                         coef    std err          t      P>|t|      [0.025      0.975]\n",
      "--------------------------------------------------------------------------------------\n",
      "Intercept              0.4110     13.751      0.030      0.976     -26.662      27.484\n",
      "population             0.0149      0.004      3.882      0.000       0.007       0.023\n",
      "population_squared -1.698e-07   1.92e-07     -0.886      0.376   -5.47e-07    2.08e-07\n",
      "murder                13.2155     26.493      0.499      0.618     -38.944      65.375\n",
      "robbery               22.9416      2.050     11.194      0.000      18.906      26.977\n",
      "==============================================================================\n",
      "Omnibus:                      108.344   Durbin-Watson:                   2.049\n",
      "Prob(Omnibus):                  0.000   Jarque-Bera (JB):              522.282\n",
      "Skew:                           1.560   Prob(JB):                    3.87e-114\n",
      "Kurtosis:                       9.001   Cond. No.                     6.11e+08\n",
      "==============================================================================\n",
      "\n",
      "Warnings:\n",
      "[1] Standard Errors assume that the covariance matrix of the errors is correctly specified.\n",
      "[2] The condition number is large, 6.11e+08. This might indicate that there are\n",
      "strong multicollinearity or other numerical problems.\n"
     ]
    }
   ],
   "source": [
    "lf = 'property_crime ~ population + population_squared + murder + robbery'\n",
    "lm = smf.ols(formula=lf, data=pcmodel).fit()\n",
    "print(lm.summary())"
   ]
  },
  {
   "cell_type": "markdown",
   "metadata": {},
   "source": [
    "**Based on the overall model's F-test statistic and p-value, I concluded that it provides a better fit than the intercept-only model.**\n",
    "\n",
    "**Based on the features' t-test statistics and p-values, 'population_squared' isn't a statistically significant feature of the model.** \n",
    "\n",
    "**Based on the warning citing \"multicollinearity or other numerical problems\", I decided to check all 4 assumptions before making feature engineering and model revision decisions.** "
   ]
  },
  {
   "cell_type": "markdown",
   "metadata": {},
   "source": [
    "# Checking Assumptions"
   ]
  },
  {
   "cell_type": "markdown",
   "metadata": {},
   "source": [
    "## Linear Relationship"
   ]
  },
  {
   "cell_type": "code",
   "execution_count": 203,
   "metadata": {
    "scrolled": false
   },
   "outputs": [
    {
     "data": {
      "image/png": "[encoded data removed]",
      "text/plain": [
       "<matplotlib.figure.Figure at 0xe6b030>"
      ]
     },
     "metadata": {},
     "output_type": "display_data"
    },
    {
     "data": {
      "image/png": "[encoded data removed]",
      "text/plain": [
       "<matplotlib.figure.Figure at 0xe163f70>"
      ]
     },
     "metadata": {},
     "output_type": "display_data"
    },
    {
     "data": {
      "image/png": "[encoded data removed]",
      "text/plain": [
       "<matplotlib.figure.Figure at 0xdc9b430>"
      ]
     },
     "metadata": {},
     "output_type": "display_data"
    },
    {
     "data": {
      "image/png": "[encoded data removed]",
      "text/plain": [
       "<matplotlib.figure.Figure at 0xe50b490>"
      ]
     },
     "metadata": {},
     "output_type": "display_data"
    }
   ],
   "source": [
    "plt.scatter(y=pcmodel['property_crime'], x=pcmodel['murder'])\n",
    "plt.ylabel('Property Crime')\n",
    "plt.xlabel('Murder')\n",
    "plt.title('Murder vs. Property Crime')\n",
    "plt.show()\n",
    "\n",
    "plt.scatter(y=pcmodel['property_crime'], x=pcmodel['population'])\n",
    "plt.ylabel('Property Crime')\n",
    "plt.xlabel('Population')\n",
    "plt.title('Population vs. Property Crime')\n",
    "plt.show()\n",
    "\n",
    "plt.scatter(y=pcmodel['property_crime'], x=pcmodel['population_squared'])\n",
    "plt.ylabel('Property Crime')\n",
    "plt.xlabel('Population (Squared)')\n",
    "plt.title('Population (Squared) vs. Property Crime')\n",
    "plt.show()\n",
    "\n",
    "plt.scatter(y=pcmodel['property_crime'], x=pcmodel['robbery'])\n",
    "plt.ylabel('Property Crime')\n",
    "plt.xlabel('Robbery')\n",
    "plt.title('Robbery vs. Property Crime')\n",
    "plt.show()"
   ]
  },
  {
   "cell_type": "markdown",
   "metadata": {},
   "source": [
    "**The target 'property crime' seems to be less related to the features 'murder', 'robbery', and 'population_squared'.**"
   ]
  },
  {
   "cell_type": "markdown",
   "metadata": {},
   "source": [
    "## Multivariate Normality"
   ]
  },
  {
   "cell_type": "code",
   "execution_count": 204,
   "metadata": {
    "scrolled": false
   },
   "outputs": [
    {
     "data": {
      "image/png": "[encoded data removed]",
      "text/plain": [
       "<matplotlib.figure.Figure at 0xe618f10>"
      ]
     },
     "metadata": {},
     "output_type": "display_data"
    }
   ],
   "source": [
    "predicted = regr.predict(X1).ravel()\n",
    "actual = Y1\n",
    "residual = actual - predicted\n",
    "\n",
    "plt.hist(residual)\n",
    "plt.title('Residual Counts')\n",
    "plt.xlabel('Residual')\n",
    "plt.ylabel('Count')\n",
    "plt.show()"
   ]
  },
  {
   "cell_type": "markdown",
   "metadata": {},
   "source": [
    "**The model's error is approximately normal.**"
   ]
  },
  {
   "cell_type": "markdown",
   "metadata": {},
   "source": [
    "## Homoscedasticity"
   ]
  },
  {
   "cell_type": "code",
   "execution_count": 205,
   "metadata": {},
   "outputs": [
    {
     "data": {
      "image/png": "[encoded data removed]",
      "text/plain": [
       "<matplotlib.figure.Figure at 0xdcca5d0>"
      ]
     },
     "metadata": {},
     "output_type": "display_data"
    }
   ],
   "source": [
    "plt.scatter(predicted, residual)\n",
    "plt.xlabel('Predicted')\n",
    "plt.ylabel('Residual')\n",
    "plt.axhline(y=0)\n",
    "plt.title('Residual vs. Predicted')\n",
    "plt.show()"
   ]
  },
  {
   "cell_type": "markdown",
   "metadata": {},
   "source": [
    "**The error terms are heteroscedastic.**"
   ]
  },
  {
   "cell_type": "markdown",
   "metadata": {},
   "source": [
    "## Low Multicollinearity"
   ]
  },
  {
   "cell_type": "code",
   "execution_count": 206,
   "metadata": {},
   "outputs": [
    {
     "data": {
      "image/png": "[encoded data removed]",
      "text/plain": [
       "<matplotlib.figure.Figure at 0xeb82b0>"
      ]
     },
     "metadata": {},
     "output_type": "display_data"
    }
   ],
   "source": [
    "correlation_matrix = X1.corr()\n",
    "multicollinearity = sns.heatmap(correlation_matrix,cmap=sns.cubehelix_palette(light=1, as_cmap=True))\n",
    "ticks = plt.xticks(rotation=90) "
   ]
  },
  {
   "cell_type": "markdown",
   "metadata": {},
   "source": [
    "**Consistent with the initial model's warning, the feature 'population and its derivative 'population_squared' are highly correlated. There are moderate correlations between both of these features and 'robbery' as well.**"
   ]
  },
  {
   "cell_type": "markdown",
   "metadata": {},
   "source": [
    "# Feature Reengineering"
   ]
  },
  {
   "cell_type": "markdown",
   "metadata": {},
   "source": [
    "**Decisions:**\n",
    "-  Added 'burglary' hypothesizing that it might improve the model's coefficient of determination (R^2). \n",
    "-  Added 'larceny_theft' hypothesizing that it might improve the model's coefficient of determination (R^2). \n",
    "-  Added 'vehicle_theft' hypothesizing that it might improve the model's coefficient of determination (R^2). \n",
    "-  Dropped 'murder' based on the initial model's summary statistics (p-value). \n",
    "-  Dropped 'population_squared' based on the initial model's summary statistics (p-value). "
   ]
  },
  {
   "cell_type": "code",
   "execution_count": 207,
   "metadata": {},
   "outputs": [],
   "source": [
    "pcmodel[['burglary','larceny_theft','vehicle_theft']]=crime[['burglary','larceny_theft','vehicle_theft']]\n",
    "pcmodel.drop(labels=['murder','population_squared'], axis=1, inplace=True)"
   ]
  },
  {
   "cell_type": "code",
   "execution_count": 208,
   "metadata": {
    "scrolled": true
   },
   "outputs": [
    {
     "data": {
      "text/html": [
       "<div>\n",
       "<style scoped>\n",
       "    .dataframe tbody tr th:only-of-type {\n",
       "        vertical-align: middle;\n",
       "    }\n",
       "\n",
       "    .dataframe tbody tr th {\n",
       "        vertical-align: top;\n",
       "    }\n",
       "\n",
       "    .dataframe thead th {\n",
       "        text-align: right;\n",
       "    }\n",
       "</style>\n",
       "<table border=\"1\" class=\"dataframe\">\n",
       "  <thead>\n",
       "    <tr style=\"text-align: right;\">\n",
       "      <th></th>\n",
       "      <th>population</th>\n",
       "      <th>property_crime</th>\n",
       "      <th>robbery</th>\n",
       "      <th>burglary</th>\n",
       "      <th>larceny_theft</th>\n",
       "      <th>vehicle_theft</th>\n",
       "    </tr>\n",
       "  </thead>\n",
       "  <tbody>\n",
       "    <tr>\n",
       "      <th>4</th>\n",
       "      <td>1861.0</td>\n",
       "      <td>12.0</td>\n",
       "      <td>0.0</td>\n",
       "      <td>2</td>\n",
       "      <td>10</td>\n",
       "      <td>0</td>\n",
       "    </tr>\n",
       "    <tr>\n",
       "      <th>5</th>\n",
       "      <td>2577.0</td>\n",
       "      <td>24.0</td>\n",
       "      <td>0.0</td>\n",
       "      <td>3</td>\n",
       "      <td>20</td>\n",
       "      <td>1</td>\n",
       "    </tr>\n",
       "    <tr>\n",
       "      <th>6</th>\n",
       "      <td>2846.0</td>\n",
       "      <td>16.0</td>\n",
       "      <td>0.0</td>\n",
       "      <td>1</td>\n",
       "      <td>15</td>\n",
       "      <td>0</td>\n",
       "    </tr>\n",
       "    <tr>\n",
       "      <th>8</th>\n",
       "      <td>6388.0</td>\n",
       "      <td>223.0</td>\n",
       "      <td>4.0</td>\n",
       "      <td>53</td>\n",
       "      <td>165</td>\n",
       "      <td>5</td>\n",
       "    </tr>\n",
       "    <tr>\n",
       "      <th>9</th>\n",
       "      <td>4089.0</td>\n",
       "      <td>46.0</td>\n",
       "      <td>3.0</td>\n",
       "      <td>10</td>\n",
       "      <td>36</td>\n",
       "      <td>0</td>\n",
       "    </tr>\n",
       "  </tbody>\n",
       "</table>\n",
       "</div>"
      ],
      "text/plain": [
       "   population  property_crime  robbery  burglary  larceny_theft  vehicle_theft\n",
       "4      1861.0            12.0      0.0         2             10              0\n",
       "5      2577.0            24.0      0.0         3             20              1\n",
       "6      2846.0            16.0      0.0         1             15              0\n",
       "8      6388.0           223.0      4.0        53            165              5\n",
       "9      4089.0            46.0      3.0        10             36              0"
      ]
     },
     "execution_count": 208,
     "metadata": {},
     "output_type": "execute_result"
    }
   ],
   "source": [
    "\n",
    "pcmodel.dropna(axis=0,how='all',inplace=True)\n",
    "pcmodel = pcmodel.apply(pd.to_numeric)\n",
    "\n",
    "#Categorical coding that I decided against for my own model - it caused downstream cross-validation issues. \n",
    "# pcmodel['burglary']=pcmodel['burglary'].apply(lambda x: 0 if x <= 0 else 1)\n",
    "# pcmodel['larceny_theft']=pcmodel['larceny_theft'].apply(lambda x: 0 if x <= 0 else 1)\n",
    "# pcmodel['vehicle_theft']=pcmodel['vehicle_theft'].apply(lambda x: 0 if x <= 0 else 1)\n",
    "\n",
    "pcmodel.head()"
   ]
  },
  {
   "cell_type": "markdown",
   "metadata": {},
   "source": [
    "# Revised Model "
   ]
  },
  {
   "cell_type": "code",
   "execution_count": 219,
   "metadata": {},
   "outputs": [],
   "source": [
    "Y2 = pcmodel['property_crime']\n",
    "X2 = pcmodel[['burglary','larceny_theft','population','robbery','vehicle_theft']]"
   ]
  },
  {
   "cell_type": "code",
   "execution_count": 220,
   "metadata": {},
   "outputs": [
    {
     "name": "stdout",
     "output_type": "stream",
     "text": [
      "\n",
      "Coefficients: \n",
      " [1.00000000e+00 1.00000000e+00 0.00000000e+00 3.53449908e-16\n",
      " 1.00000000e+00]\n",
      "\n",
      "Intercept: \n",
      " 1.9895196601282805e-13\n",
      "\n",
      "R-Squared:\n",
      "1.0\n"
     ]
    }
   ],
   "source": [
    "regr = linear_model.LinearRegression()\n",
    "regr.fit(X2, Y2)\n",
    "\n",
    "print('\\nCoefficients: \\n', regr.coef_)\n",
    "print('\\nIntercept: \\n', regr.intercept_)\n",
    "print('\\nR-Squared:')\n",
    "print(regr.score(X2, Y2))"
   ]
  },
  {
   "cell_type": "code",
   "execution_count": 221,
   "metadata": {},
   "outputs": [
    {
     "name": "stdout",
     "output_type": "stream",
     "text": [
      "                            OLS Regression Results                            \n",
      "==============================================================================\n",
      "Dep. Variable:         property_crime   R-squared:                       1.000\n",
      "Model:                            OLS   Adj. R-squared:                  1.000\n",
      "Method:                 Least Squares   F-statistic:                 8.052e+29\n",
      "Date:                Sun, 25 Feb 2018   Prob (F-statistic):               0.00\n",
      "Time:                        22:22:24   Log-Likelihood:                 7125.0\n",
      "No. Observations:                 274   AIC:                        -1.424e+04\n",
      "Df Residuals:                     268   BIC:                        -1.422e+04\n",
      "Df Model:                           5                                         \n",
      "Covariance Type:            nonrobust                                         \n",
      "=================================================================================\n",
      "                    coef    std err          t      P>|t|      [0.025      0.975]\n",
      "---------------------------------------------------------------------------------\n",
      "Intercept     -2.472e-13   1.24e-13     -2.001      0.046    -4.9e-13      -4e-15\n",
      "burglary          1.0000   6.56e-15   1.52e+14      0.000       1.000       1.000\n",
      "larceny_theft     1.0000   1.09e-15   9.18e+14      0.000       1.000       1.000\n",
      "population     9.574e-17   2.01e-17      4.761      0.000    5.61e-17    1.35e-16\n",
      "robbery       -1.293e-14   3.83e-14     -0.337      0.736   -8.84e-14    6.25e-14\n",
      "vehicle_theft     1.0000   2.47e-14   4.05e+13      0.000       1.000       1.000\n",
      "==============================================================================\n",
      "Omnibus:                       56.389   Durbin-Watson:                   2.068\n",
      "Prob(Omnibus):                  0.000   Jarque-Bera (JB):              874.482\n",
      "Skew:                           0.118   Prob(JB):                    1.28e-190\n",
      "Kurtosis:                      11.749   Cond. No.                     1.40e+04\n",
      "==============================================================================\n",
      "\n",
      "Warnings:\n",
      "[1] Standard Errors assume that the covariance matrix of the errors is correctly specified.\n",
      "[2] The condition number is large, 1.4e+04. This might indicate that there are\n",
      "strong multicollinearity or other numerical problems.\n"
     ]
    }
   ],
   "source": [
    "lf2 = 'property_crime ~ burglary + larceny_theft + population + robbery + vehicle_theft'\n",
    "lm2 = smf.ols(formula=lf2, data=pcmodel).fit()\n",
    "print(lm2.summary())"
   ]
  },
  {
   "cell_type": "markdown",
   "metadata": {},
   "source": [
    "**The model's coefficient of determination (R^2) is perfect compared the initial model's, according to the above regression score and summary - which is definitely cause for skepticism - there are likely too many features causing overfitting.**\n",
    "\n",
    "**Based on the revised overall model's F-test statistic and p-value, I concluded that it still provides a better fit than the intercept-only model.**\n",
    "\n",
    "**Based on the features' t-test statistics and p-values, 'robbery' isn't a statistically significant feature of the model.** \n",
    "\n",
    "**Based on the warning citing \"multicollinearity or other numerical problems\", I decided to re-check all 4 assumptions before making final feature engineering and model revision decisions.** "
   ]
  },
  {
   "cell_type": "markdown",
   "metadata": {},
   "source": [
    "# Re-Checking Assumptions"
   ]
  },
  {
   "cell_type": "markdown",
   "metadata": {},
   "source": [
    "## Linear Relationship"
   ]
  },
  {
   "cell_type": "code",
   "execution_count": 222,
   "metadata": {
    "scrolled": false
   },
   "outputs": [
    {
     "data": {
      "image/png": "[encoded data removed]",
      "text/plain": [
       "<matplotlib.figure.Figure at 0xe497130>"
      ]
     },
     "metadata": {},
     "output_type": "display_data"
    },
    {
     "data": {
      "image/png": "[encoded data removed]",
      "text/plain": [
       "<matplotlib.figure.Figure at 0xe549eb0>"
      ]
     },
     "metadata": {},
     "output_type": "display_data"
    },
    {
     "data": {
      "image/png": "[encoded data removed]",
      "text/plain": [
       "<matplotlib.figure.Figure at 0xc70adb0>"
      ]
     },
     "metadata": {},
     "output_type": "display_data"
    },
    {
     "data": {
      "image/png": "[encoded data removed]",
      "text/plain": [
       "<matplotlib.figure.Figure at 0xe452330>"
      ]
     },
     "metadata": {},
     "output_type": "display_data"
    },
    {
     "data": {
      "image/png": "[encoded data removed]",
      "text/plain": [
       "<matplotlib.figure.Figure at 0xe2a26b0>"
      ]
     },
     "metadata": {},
     "output_type": "display_data"
    }
   ],
   "source": [
    "plt.scatter(y=pcmodel['property_crime'], x=pcmodel['burglary'])\n",
    "plt.ylabel('Property Crime')\n",
    "plt.xlabel('Burglary')\n",
    "plt.title('Burglary vs. Property Crime')\n",
    "plt.show()\n",
    "\n",
    "plt.scatter(y=pcmodel['property_crime'], x=pcmodel['larceny_theft'])\n",
    "plt.ylabel('Property Crime')\n",
    "plt.xlabel('Larceny')\n",
    "plt.title('Larceny vs. Property Crime')\n",
    "plt.show()\n",
    "\n",
    "plt.scatter(y=pcmodel['property_crime'], x=pcmodel['population'])\n",
    "plt.ylabel('Property Crime')\n",
    "plt.xlabel('Population')\n",
    "plt.title('Population vs. Property Crime')\n",
    "plt.show()\n",
    "\n",
    "plt.scatter(y=pcmodel['property_crime'], x=pcmodel['robbery'])\n",
    "plt.ylabel('Property Crime')\n",
    "plt.xlabel('Robbery')\n",
    "plt.title('Robbery vs. Property Crime')\n",
    "plt.show()\n",
    "\n",
    "plt.scatter(y=pcmodel['property_crime'], x=pcmodel['vehicle_theft'])\n",
    "plt.ylabel('Property Crime')\n",
    "plt.xlabel('Vehicle Theft')\n",
    "plt.title('Vehicle Theft vs. Property Crime')\n",
    "plt.show()"
   ]
  },
  {
   "cell_type": "markdown",
   "metadata": {},
   "source": [
    "**There are linear relationship between these features and the target, but 'murder' seems to be less linearly related than 'burglary', 'larceny_theft', 'population, 'robbbery', and 'vehicle_theft' are to 'property_crime'.**"
   ]
  },
  {
   "cell_type": "markdown",
   "metadata": {},
   "source": [
    "## Multivariate Normality"
   ]
  },
  {
   "cell_type": "code",
   "execution_count": 223,
   "metadata": {},
   "outputs": [
    {
     "data": {
      "image/png": "[encoded data removed]",
      "text/plain": [
       "<matplotlib.figure.Figure at 0xe74430>"
      ]
     },
     "metadata": {},
     "output_type": "display_data"
    }
   ],
   "source": [
    "predicted = regr.predict(X2).ravel()\n",
    "actual = Y2\n",
    "residual = actual - predicted\n",
    "\n",
    "plt.hist(residual)\n",
    "plt.title('Residual Counts')\n",
    "plt.xlabel('Residual')\n",
    "plt.ylabel('Count')\n",
    "plt.show()"
   ]
  },
  {
   "cell_type": "markdown",
   "metadata": {},
   "source": [
    "**The model's error is less normally distributed than before.**"
   ]
  },
  {
   "cell_type": "markdown",
   "metadata": {},
   "source": [
    "## Homoscedasticity"
   ]
  },
  {
   "cell_type": "code",
   "execution_count": 224,
   "metadata": {},
   "outputs": [
    {
     "data": {
      "image/png": "[encoded data removed]",
      "text/plain": [
       "<matplotlib.figure.Figure at 0xed4930>"
      ]
     },
     "metadata": {},
     "output_type": "display_data"
    }
   ],
   "source": [
    "plt.scatter(predicted, residual)\n",
    "plt.xlabel('Predicted')\n",
    "plt.ylabel('Residual')\n",
    "plt.axhline(y=0)\n",
    "plt.title('Residual vs. Predicted')\n",
    "plt.show()"
   ]
  },
  {
   "cell_type": "markdown",
   "metadata": {},
   "source": [
    "**The error terms are homoscedastic, but unrealistically so.**"
   ]
  },
  {
   "cell_type": "markdown",
   "metadata": {},
   "source": [
    "## Low Multicollinearity "
   ]
  },
  {
   "cell_type": "code",
   "execution_count": 225,
   "metadata": {},
   "outputs": [
    {
     "data": {
      "image/png": "[encoded data removed]",
      "text/plain": [
       "<matplotlib.figure.Figure at 0xdc5d370>"
      ]
     },
     "metadata": {},
     "output_type": "display_data"
    }
   ],
   "source": [
    "correlation_matrix = X2.corr()\n",
    "multicollinearity = sns.heatmap(correlation_matrix, cmap=sns.cubehelix_palette(light=1, as_cmap=True))\n",
    "ticks = plt.xticks(rotation=90) "
   ]
  },
  {
   "cell_type": "markdown",
   "metadata": {},
   "source": [
    "**There are significant interactions between 'burglary', larceny_theft', and 'robbery'. 'Population' is moderately collinear with the same features.**"
   ]
  },
  {
   "cell_type": "markdown",
   "metadata": {},
   "source": [
    "# Final Model "
   ]
  },
  {
   "cell_type": "markdown",
   "metadata": {},
   "source": [
    "## Feature Finalization"
   ]
  },
  {
   "cell_type": "markdown",
   "metadata": {},
   "source": [
    "**Decisions:**\n",
    "-  Dropped 'robbery' based on the revised model's summary statistics (p-value). \n",
    "\n",
    "**Final Feature Set:**\n",
    "-  'burglary'\n",
    "-  'larceny_theft'\n",
    "-  'population'\n",
    "-  'robbery'\n",
    "-  'vehicle_theft'"
   ]
  },
  {
   "cell_type": "code",
   "execution_count": 226,
   "metadata": {
    "scrolled": true
   },
   "outputs": [
    {
     "data": {
      "text/html": [
       "<div>\n",
       "<style scoped>\n",
       "    .dataframe tbody tr th:only-of-type {\n",
       "        vertical-align: middle;\n",
       "    }\n",
       "\n",
       "    .dataframe tbody tr th {\n",
       "        vertical-align: top;\n",
       "    }\n",
       "\n",
       "    .dataframe thead th {\n",
       "        text-align: right;\n",
       "    }\n",
       "</style>\n",
       "<table border=\"1\" class=\"dataframe\">\n",
       "  <thead>\n",
       "    <tr style=\"text-align: right;\">\n",
       "      <th></th>\n",
       "      <th>burglary</th>\n",
       "      <th>larceny_theft</th>\n",
       "      <th>population</th>\n",
       "      <th>property_crime</th>\n",
       "      <th>robbery</th>\n",
       "      <th>vehicle_theft</th>\n",
       "    </tr>\n",
       "  </thead>\n",
       "  <tbody>\n",
       "    <tr>\n",
       "      <th>4</th>\n",
       "      <td>2</td>\n",
       "      <td>10</td>\n",
       "      <td>1861.0</td>\n",
       "      <td>12.0</td>\n",
       "      <td>0.0</td>\n",
       "      <td>0</td>\n",
       "    </tr>\n",
       "    <tr>\n",
       "      <th>5</th>\n",
       "      <td>3</td>\n",
       "      <td>20</td>\n",
       "      <td>2577.0</td>\n",
       "      <td>24.0</td>\n",
       "      <td>0.0</td>\n",
       "      <td>1</td>\n",
       "    </tr>\n",
       "    <tr>\n",
       "      <th>6</th>\n",
       "      <td>1</td>\n",
       "      <td>15</td>\n",
       "      <td>2846.0</td>\n",
       "      <td>16.0</td>\n",
       "      <td>0.0</td>\n",
       "      <td>0</td>\n",
       "    </tr>\n",
       "    <tr>\n",
       "      <th>8</th>\n",
       "      <td>53</td>\n",
       "      <td>165</td>\n",
       "      <td>6388.0</td>\n",
       "      <td>223.0</td>\n",
       "      <td>4.0</td>\n",
       "      <td>5</td>\n",
       "    </tr>\n",
       "    <tr>\n",
       "      <th>9</th>\n",
       "      <td>10</td>\n",
       "      <td>36</td>\n",
       "      <td>4089.0</td>\n",
       "      <td>46.0</td>\n",
       "      <td>3.0</td>\n",
       "      <td>0</td>\n",
       "    </tr>\n",
       "  </tbody>\n",
       "</table>\n",
       "</div>"
      ],
      "text/plain": [
       "   burglary  larceny_theft  population  property_crime  robbery  vehicle_theft\n",
       "4         2             10      1861.0            12.0      0.0              0\n",
       "5         3             20      2577.0            24.0      0.0              1\n",
       "6         1             15      2846.0            16.0      0.0              0\n",
       "8        53            165      6388.0           223.0      4.0              5\n",
       "9        10             36      4089.0            46.0      3.0              0"
      ]
     },
     "execution_count": 226,
     "metadata": {},
     "output_type": "execute_result"
    }
   ],
   "source": [
    "pcmodel = pcmodel[['burglary','larceny_theft','population','property_crime','robbery','vehicle_theft']]\n",
    "pcmodel.head()"
   ]
  },
  {
   "cell_type": "code",
   "execution_count": 227,
   "metadata": {},
   "outputs": [],
   "source": [
    "Y3 = pcmodel['property_crime']\n",
    "X3 = pcmodel[['burglary','larceny_theft','population', 'vehicle_theft']]"
   ]
  },
  {
   "cell_type": "code",
   "execution_count": 228,
   "metadata": {},
   "outputs": [
    {
     "name": "stdout",
     "output_type": "stream",
     "text": [
      "\n",
      "Coefficients: \n",
      " [1. 1. 0. 1.]\n",
      "\n",
      "Intercept: \n",
      " -1.1937117960769683e-12\n",
      "\n",
      "R-Squared:\n",
      "1.0\n"
     ]
    }
   ],
   "source": [
    "regr = linear_model.LinearRegression()\n",
    "regr.fit(X3, Y3)\n",
    "\n",
    "print('\\nCoefficients: \\n', regr.coef_)\n",
    "print('\\nIntercept: \\n', regr.intercept_)\n",
    "print('\\nR-Squared:')\n",
    "print(regr.score(X3, Y3))"
   ]
  },
  {
   "cell_type": "code",
   "execution_count": 230,
   "metadata": {
    "scrolled": false
   },
   "outputs": [
    {
     "name": "stdout",
     "output_type": "stream",
     "text": [
      "                            OLS Regression Results                            \n",
      "==============================================================================\n",
      "Dep. Variable:         property_crime   R-squared:                       1.000\n",
      "Model:                            OLS   Adj. R-squared:                  1.000\n",
      "Method:                 Least Squares   F-statistic:                 1.137e+30\n",
      "Date:                Sun, 25 Feb 2018   Prob (F-statistic):               0.00\n",
      "Time:                        22:32:55   Log-Likelihood:                 7141.2\n",
      "No. Observations:                 274   AIC:                        -1.427e+04\n",
      "Df Residuals:                     269   BIC:                        -1.425e+04\n",
      "Df Model:                           4                                         \n",
      "Covariance Type:            nonrobust                                         \n",
      "=================================================================================\n",
      "                    coef    std err          t      P>|t|      [0.025      0.975]\n",
      "---------------------------------------------------------------------------------\n",
      "Intercept      1.304e-13   1.15e-13      1.134      0.258   -9.59e-14    3.57e-13\n",
      "burglary          1.0000   5.31e-15   1.88e+14      0.000       1.000       1.000\n",
      "larceny_theft     1.0000   1.02e-15   9.78e+14      0.000       1.000       1.000\n",
      "population      1.52e-16   1.89e-17      8.032      0.000    1.15e-16    1.89e-16\n",
      "vehicle_theft     1.0000   2.29e-14   4.36e+13      0.000       1.000       1.000\n",
      "==============================================================================\n",
      "Omnibus:                       45.044   Durbin-Watson:                   0.650\n",
      "Prob(Omnibus):                  0.000   Jarque-Bera (JB):               62.156\n",
      "Skew:                          -1.128   Prob(JB):                     3.18e-14\n",
      "Kurtosis:                       3.592   Cond. No.                     1.39e+04\n",
      "==============================================================================\n",
      "\n",
      "Warnings:\n",
      "[1] Standard Errors assume that the covariance matrix of the errors is correctly specified.\n",
      "[2] The condition number is large, 1.39e+04. This might indicate that there are\n",
      "strong multicollinearity or other numerical problems.\n"
     ]
    }
   ],
   "source": [
    "lf3 = 'property_crime ~ burglary + larceny_theft + population + vehicle_theft'\n",
    "lm3 = smf.ols(formula=lf3, data=pcmodel).fit()\n",
    "print(lm3.summary())"
   ]
  },
  {
   "cell_type": "markdown",
   "metadata": {},
   "source": [
    "## Final Assumptions Check "
   ]
  },
  {
   "cell_type": "markdown",
   "metadata": {},
   "source": [
    "### Linear Relationship"
   ]
  },
  {
   "cell_type": "code",
   "execution_count": 232,
   "metadata": {
    "scrolled": false
   },
   "outputs": [
    {
     "data": {
      "image/png": "[encoded data removed]",
      "text/plain": [
       "<matplotlib.figure.Figure at 0xe4f590>"
      ]
     },
     "metadata": {},
     "output_type": "display_data"
    },
    {
     "data": {
      "image/png": "[encoded data removed]",
      "text/plain": [
       "<matplotlib.figure.Figure at 0xd25cf0>"
      ]
     },
     "metadata": {},
     "output_type": "display_data"
    },
    {
     "data": {
      "image/png": "[encoded data removed]",
      "text/plain": [
       "<matplotlib.figure.Figure at 0xe4b48d0>"
      ]
     },
     "metadata": {},
     "output_type": "display_data"
    },
    {
     "data": {
      "image/png": "[encoded data removed]",
      "text/plain": [
       "<matplotlib.figure.Figure at 0xe618730>"
      ]
     },
     "metadata": {},
     "output_type": "display_data"
    }
   ],
   "source": [
    "plt.scatter(y=pcmodel['property_crime'], x=pcmodel['burglary'])\n",
    "plt.ylabel('Property Crime')\n",
    "plt.xlabel('Burglary')\n",
    "plt.title('Burglary vs. Property Crime')\n",
    "plt.show()\n",
    "\n",
    "plt.scatter(y=pcmodel['property_crime'], x=pcmodel['larceny_theft'])\n",
    "plt.ylabel('Property Crime')\n",
    "plt.xlabel('Larceny')\n",
    "plt.title('Larceny vs. Property Crime')\n",
    "plt.show()\n",
    "\n",
    "plt.scatter(y=pcmodel['property_crime'], x=pcmodel['population'])\n",
    "plt.ylabel('Property Crime')\n",
    "plt.xlabel('Population')\n",
    "plt.title('Population vs. Property Crime')\n",
    "plt.show()\n",
    "\n",
    "plt.scatter(y=pcmodel['property_crime'], x=pcmodel['vehicle_theft'])\n",
    "plt.ylabel('Property Crime')\n",
    "plt.xlabel('Vehicle Theft')\n",
    "plt.title('Vehicle Theft vs. Property Crime')\n",
    "plt.show()"
   ]
  },
  {
   "cell_type": "markdown",
   "metadata": {},
   "source": [
    "**There's still a linear relationship between these features and the target, and 'vehicle_theft' seems to be less linearly related than the others.**"
   ]
  },
  {
   "cell_type": "markdown",
   "metadata": {},
   "source": [
    "### Multivariate Normality"
   ]
  },
  {
   "cell_type": "code",
   "execution_count": 233,
   "metadata": {},
   "outputs": [
    {
     "data": {
      "image/png": "[encoded data removed]",
      "text/plain": [
       "<matplotlib.figure.Figure at 0xe62a90>"
      ]
     },
     "metadata": {},
     "output_type": "display_data"
    }
   ],
   "source": [
    "predicted = regr.predict(X3).ravel()\n",
    "actual = Y3\n",
    "residual = actual - predicted\n",
    "\n",
    "plt.hist(residual)\n",
    "plt.title('Residual Counts')\n",
    "plt.xlabel('Residual')\n",
    "plt.ylabel('Count')\n",
    "plt.show()"
   ]
  },
  {
   "cell_type": "markdown",
   "metadata": {},
   "source": [
    "**The model's error isn't normally distributed at all - it seems to approximate the exponential distribution.**"
   ]
  },
  {
   "cell_type": "markdown",
   "metadata": {},
   "source": [
    "### Homoscedasticity"
   ]
  },
  {
   "cell_type": "code",
   "execution_count": 234,
   "metadata": {},
   "outputs": [
    {
     "data": {
      "image/png": "[encoded data removed]",
      "text/plain": [
       "<matplotlib.figure.Figure at 0xe628d0>"
      ]
     },
     "metadata": {},
     "output_type": "display_data"
    }
   ],
   "source": [
    "plt.scatter(predicted, residual)\n",
    "plt.xlabel('Predicted')\n",
    "plt.ylabel('Residual')\n",
    "plt.axhline(y=0)\n",
    "plt.title('Residual vs. Predicted')\n",
    "plt.show()"
   ]
  },
  {
   "cell_type": "markdown",
   "metadata": {},
   "source": [
    "**The error terms are still homoscedastic.**"
   ]
  },
  {
   "cell_type": "markdown",
   "metadata": {},
   "source": [
    "### Low Multicollinearity"
   ]
  },
  {
   "cell_type": "code",
   "execution_count": 235,
   "metadata": {},
   "outputs": [
    {
     "data": {
      "image/png": "[encoded data removed]",
      "text/plain": [
       "<matplotlib.figure.Figure at 0xe629f0>"
      ]
     },
     "metadata": {},
     "output_type": "display_data"
    }
   ],
   "source": [
    "correlation_matrix = X3.corr()\n",
    "multicollinearity = sns.heatmap(correlation_matrix, cmap=sns.cubehelix_palette(light=1, as_cmap=True))\n",
    "ticks = plt.xticks(rotation=90) "
   ]
  },
  {
   "cell_type": "markdown",
   "metadata": {},
   "source": [
    "**There's still high collinearity between 'burglary' and 'larceny_theft', but the other features are much less correlated.**"
   ]
  },
  {
   "cell_type": "markdown",
   "metadata": {
    "collapsed": true
   },
   "source": [
    "# Model Evaluation: Out-of-Sample"
   ]
  },
  {
   "cell_type": "markdown",
   "metadata": {},
   "source": [
    "**Data: Crime In New York - [2014](https://ucr.fbi.gov/crime-in-the-u.s/2014/crime-in-the-u.s.-2014/tables/table-8/table-8-by-state/Table_8_Offenses_Known_to_Law_Enforcement_by_New_York_by_City_2014.xls/output.xls).**\n",
    "\n",
    "**Because my finalized model uses 'burglary', 'larceny_theft', 'population', and 'vehicle_theft' to explain 'property_crime', I've used the same features to test out-of-sample prediction of the target.** "
   ]
  },
  {
   "cell_type": "markdown",
   "metadata": {},
   "source": [
    "## Cleaning"
   ]
  },
  {
   "cell_type": "code",
   "execution_count": 236,
   "metadata": {},
   "outputs": [],
   "source": [
    "path = 'C:/Users/missn/Documents/Thinkful/CSV Datasets/Unit 2/Unit 2 Lesson 4/Regression NYC Crime Prediction/NYC Crime 2014.csv'\n",
    "crime_validation = pd.read_csv('C:/Users/missn/Documents/Thinkful/CSV Datasets/Unit 2/Unit 2 Lesson 4/Regression NYC Crime Prediction/NYC Crime 2014.csv')"
   ]
  },
  {
   "cell_type": "code",
   "execution_count": 237,
   "metadata": {
    "scrolled": false
   },
   "outputs": [
    {
     "data": {
      "text/html": [
       "<div>\n",
       "<style scoped>\n",
       "    .dataframe tbody tr th:only-of-type {\n",
       "        vertical-align: middle;\n",
       "    }\n",
       "\n",
       "    .dataframe tbody tr th {\n",
       "        vertical-align: top;\n",
       "    }\n",
       "\n",
       "    .dataframe thead th {\n",
       "        text-align: right;\n",
       "    }\n",
       "</style>\n",
       "<table border=\"1\" class=\"dataframe\">\n",
       "  <thead>\n",
       "    <tr style=\"text-align: right;\">\n",
       "      <th></th>\n",
       "      <th>burglary</th>\n",
       "      <th>larceny_theft</th>\n",
       "      <th>population</th>\n",
       "      <th>property_crime</th>\n",
       "      <th>vehicle_theft</th>\n",
       "    </tr>\n",
       "  </thead>\n",
       "  <tbody>\n",
       "    <tr>\n",
       "      <th>4</th>\n",
       "      <td>1.0</td>\n",
       "      <td>10.0</td>\n",
       "      <td>1851.0</td>\n",
       "      <td>11.0</td>\n",
       "      <td>0.0</td>\n",
       "    </tr>\n",
       "    <tr>\n",
       "      <th>5</th>\n",
       "      <td>1.0</td>\n",
       "      <td>47.0</td>\n",
       "      <td>2568.0</td>\n",
       "      <td>49.0</td>\n",
       "      <td>1.0</td>\n",
       "    </tr>\n",
       "    <tr>\n",
       "      <th>6</th>\n",
       "      <td>0.0</td>\n",
       "      <td>1.0</td>\n",
       "      <td>820.0</td>\n",
       "      <td>1.0</td>\n",
       "      <td>0.0</td>\n",
       "    </tr>\n",
       "    <tr>\n",
       "      <th>7</th>\n",
       "      <td>0.0</td>\n",
       "      <td>17.0</td>\n",
       "      <td>2842.0</td>\n",
       "      <td>17.0</td>\n",
       "      <td>0.0</td>\n",
       "    </tr>\n",
       "    <tr>\n",
       "      <th>8</th>\n",
       "      <td>683.0</td>\n",
       "      <td>3083.0</td>\n",
       "      <td>98595.0</td>\n",
       "      <td>3888.0</td>\n",
       "      <td>122.0</td>\n",
       "    </tr>\n",
       "  </tbody>\n",
       "</table>\n",
       "</div>"
      ],
      "text/plain": [
       "   burglary  larceny_theft  population  property_crime  vehicle_theft\n",
       "4       1.0           10.0      1851.0            11.0            0.0\n",
       "5       1.0           47.0      2568.0            49.0            1.0\n",
       "6       0.0            1.0       820.0             1.0            0.0\n",
       "7       0.0           17.0      2842.0            17.0            0.0\n",
       "8     683.0         3083.0     98595.0          3888.0          122.0"
      ]
     },
     "execution_count": 237,
     "metadata": {},
     "output_type": "execute_result"
    }
   ],
   "source": [
    "pd.options.mode.chained_assignment = None\n",
    "\n",
    "crime_validation.columns = ['city','population','violent_crime','murder','rape_revised','rape_legacy','robbery','aggravated_assault','property_crime','burglary','larceny_theft','vehicle_theft','arson','unknown']\n",
    "crime_validation.drop(labels=[0,1,2,3,352,353,354],axis=0,inplace=True)\n",
    "pcmodel_validation = crime_validation[['burglary','larceny_theft','population','property_crime','vehicle_theft']]\n",
    "\n",
    "columns = list(pcmodel_validation.columns)\n",
    "for column in columns:\n",
    "    pcmodel_validation[column]=pcmodel_validation[column].str.replace(',','')\n",
    "\n",
    "features = columns[:1]+columns[3:]\n",
    "for feature in features:\n",
    "    pcmodel_validation = pcmodel_validation.apply(pd.to_numeric)\n",
    "#     pcmodel_validation[feature]=pcmodel_validation[feature].apply(lambda x: 0 if x <= 0 else 1).astype('int64')\n",
    "\n",
    "pcmodel_validation = pcmodel_validation.dropna()\n",
    "pcmodel_validation.head()"
   ]
  },
  {
   "cell_type": "code",
   "execution_count": 238,
   "metadata": {},
   "outputs": [
    {
     "data": {
      "text/html": [
       "<div>\n",
       "<style scoped>\n",
       "    .dataframe tbody tr th:only-of-type {\n",
       "        vertical-align: middle;\n",
       "    }\n",
       "\n",
       "    .dataframe tbody tr th {\n",
       "        vertical-align: top;\n",
       "    }\n",
       "\n",
       "    .dataframe thead th {\n",
       "        text-align: right;\n",
       "    }\n",
       "</style>\n",
       "<table border=\"1\" class=\"dataframe\">\n",
       "  <thead>\n",
       "    <tr style=\"text-align: right;\">\n",
       "      <th></th>\n",
       "      <th>burglary</th>\n",
       "      <th>larceny_theft</th>\n",
       "      <th>population</th>\n",
       "      <th>property_crime</th>\n",
       "      <th>vehicle_theft</th>\n",
       "    </tr>\n",
       "  </thead>\n",
       "  <tbody>\n",
       "    <tr>\n",
       "      <th>count</th>\n",
       "      <td>365.000000</td>\n",
       "      <td>365.000000</td>\n",
       "      <td>3.650000e+02</td>\n",
       "      <td>365.000000</td>\n",
       "      <td>365.000000</td>\n",
       "    </tr>\n",
       "    <tr>\n",
       "      <th>mean</th>\n",
       "      <td>101.347945</td>\n",
       "      <td>563.739726</td>\n",
       "      <td>3.808991e+04</td>\n",
       "      <td>699.723288</td>\n",
       "      <td>34.635616</td>\n",
       "    </tr>\n",
       "    <tr>\n",
       "      <th>std</th>\n",
       "      <td>859.739858</td>\n",
       "      <td>5893.832350</td>\n",
       "      <td>4.435674e+05</td>\n",
       "      <td>7152.724513</td>\n",
       "      <td>409.174707</td>\n",
       "    </tr>\n",
       "    <tr>\n",
       "      <th>min</th>\n",
       "      <td>0.000000</td>\n",
       "      <td>0.000000</td>\n",
       "      <td>7.900000e+01</td>\n",
       "      <td>0.000000</td>\n",
       "      <td>0.000000</td>\n",
       "    </tr>\n",
       "    <tr>\n",
       "      <th>25%</th>\n",
       "      <td>4.000000</td>\n",
       "      <td>20.000000</td>\n",
       "      <td>2.631000e+03</td>\n",
       "      <td>25.000000</td>\n",
       "      <td>0.000000</td>\n",
       "    </tr>\n",
       "    <tr>\n",
       "      <th>50%</th>\n",
       "      <td>12.000000</td>\n",
       "      <td>59.000000</td>\n",
       "      <td>6.548000e+03</td>\n",
       "      <td>75.000000</td>\n",
       "      <td>2.000000</td>\n",
       "    </tr>\n",
       "    <tr>\n",
       "      <th>75%</th>\n",
       "      <td>39.000000</td>\n",
       "      <td>228.000000</td>\n",
       "      <td>1.540800e+04</td>\n",
       "      <td>270.000000</td>\n",
       "      <td>6.000000</td>\n",
       "    </tr>\n",
       "    <tr>\n",
       "      <th>max</th>\n",
       "      <td>15916.000000</td>\n",
       "      <td>112107.000000</td>\n",
       "      <td>8.473938e+06</td>\n",
       "      <td>135747.000000</td>\n",
       "      <td>7724.000000</td>\n",
       "    </tr>\n",
       "  </tbody>\n",
       "</table>\n",
       "</div>"
      ],
      "text/plain": [
       "           burglary  larceny_theft    population  property_crime  \\\n",
       "count    365.000000     365.000000  3.650000e+02      365.000000   \n",
       "mean     101.347945     563.739726  3.808991e+04      699.723288   \n",
       "std      859.739858    5893.832350  4.435674e+05     7152.724513   \n",
       "min        0.000000       0.000000  7.900000e+01        0.000000   \n",
       "25%        4.000000      20.000000  2.631000e+03       25.000000   \n",
       "50%       12.000000      59.000000  6.548000e+03       75.000000   \n",
       "75%       39.000000     228.000000  1.540800e+04      270.000000   \n",
       "max    15916.000000  112107.000000  8.473938e+06   135747.000000   \n",
       "\n",
       "       vehicle_theft  \n",
       "count     365.000000  \n",
       "mean       34.635616  \n",
       "std       409.174707  \n",
       "min         0.000000  \n",
       "25%         0.000000  \n",
       "50%         2.000000  \n",
       "75%         6.000000  \n",
       "max      7724.000000  "
      ]
     },
     "execution_count": 238,
     "metadata": {},
     "output_type": "execute_result"
    }
   ],
   "source": [
    "pcmodel_validation.describe()"
   ]
  },
  {
   "cell_type": "code",
   "execution_count": 239,
   "metadata": {},
   "outputs": [
    {
     "data": {
      "image/png": "[encoded data removed]",
      "text/plain": [
       "<matplotlib.figure.Figure at 0xe72cb90>"
      ]
     },
     "metadata": {},
     "output_type": "display_data"
    }
   ],
   "source": [
    "plt.subplot(121)\n",
    "population = sns.boxplot(pcmodel_validation['population'])\n",
    "plt.subplot(122)\n",
    "population = sns.violinplot(pcmodel_validation['population'])"
   ]
  },
  {
   "cell_type": "markdown",
   "metadata": {},
   "source": [
    "**There are extreme outliers (much more densely populated cities) beyond Q3+1.5IQR that I chose to exclude.**"
   ]
  },
  {
   "cell_type": "code",
   "execution_count": 240,
   "metadata": {},
   "outputs": [],
   "source": [
    "q25 = pcmodel_validation['population'].quantile(0.25)\n",
    "q75 = pcmodel_validation['population'].quantile(0.75)\n",
    "iqr = q75 - q25\n",
    "max = q75 + (iqr * 1.5)\n",
    "pcmodel_validation=pcmodel_validation.where(pcmodel_validation['population'] < max)"
   ]
  },
  {
   "cell_type": "code",
   "execution_count": 241,
   "metadata": {},
   "outputs": [
    {
     "data": {
      "image/png": "[encoded data removed]",
      "text/plain": [
       "<matplotlib.figure.Figure at 0xe719430>"
      ]
     },
     "metadata": {},
     "output_type": "display_data"
    }
   ],
   "source": [
    "plt.subplot(121)\n",
    "population = sns.boxplot(pcmodel_validation['population'])\n",
    "plt.subplot(122)\n",
    "population = sns.violinplot(pcmodel_validation['population'])"
   ]
  },
  {
   "cell_type": "code",
   "execution_count": 242,
   "metadata": {},
   "outputs": [
    {
     "data": {
      "text/html": [
       "<div>\n",
       "<style scoped>\n",
       "    .dataframe tbody tr th:only-of-type {\n",
       "        vertical-align: middle;\n",
       "    }\n",
       "\n",
       "    .dataframe tbody tr th {\n",
       "        vertical-align: top;\n",
       "    }\n",
       "\n",
       "    .dataframe thead th {\n",
       "        text-align: right;\n",
       "    }\n",
       "</style>\n",
       "<table border=\"1\" class=\"dataframe\">\n",
       "  <thead>\n",
       "    <tr style=\"text-align: right;\">\n",
       "      <th></th>\n",
       "      <th>burglary</th>\n",
       "      <th>larceny_theft</th>\n",
       "      <th>population</th>\n",
       "      <th>property_crime</th>\n",
       "      <th>vehicle_theft</th>\n",
       "    </tr>\n",
       "  </thead>\n",
       "  <tbody>\n",
       "    <tr>\n",
       "      <th>count</th>\n",
       "      <td>329.000000</td>\n",
       "      <td>329.000000</td>\n",
       "      <td>329.000000</td>\n",
       "      <td>329.000000</td>\n",
       "      <td>329.000000</td>\n",
       "    </tr>\n",
       "    <tr>\n",
       "      <th>mean</th>\n",
       "      <td>22.960486</td>\n",
       "      <td>121.006079</td>\n",
       "      <td>8481.495441</td>\n",
       "      <td>147.364742</td>\n",
       "      <td>3.398176</td>\n",
       "    </tr>\n",
       "    <tr>\n",
       "      <th>std</th>\n",
       "      <td>37.590399</td>\n",
       "      <td>177.983676</td>\n",
       "      <td>8258.540029</td>\n",
       "      <td>213.732938</td>\n",
       "      <td>6.080466</td>\n",
       "    </tr>\n",
       "    <tr>\n",
       "      <th>min</th>\n",
       "      <td>0.000000</td>\n",
       "      <td>0.000000</td>\n",
       "      <td>79.000000</td>\n",
       "      <td>0.000000</td>\n",
       "      <td>0.000000</td>\n",
       "    </tr>\n",
       "    <tr>\n",
       "      <th>25%</th>\n",
       "      <td>3.000000</td>\n",
       "      <td>17.000000</td>\n",
       "      <td>2460.000000</td>\n",
       "      <td>21.000000</td>\n",
       "      <td>0.000000</td>\n",
       "    </tr>\n",
       "    <tr>\n",
       "      <th>50%</th>\n",
       "      <td>10.000000</td>\n",
       "      <td>47.000000</td>\n",
       "      <td>5234.000000</td>\n",
       "      <td>61.000000</td>\n",
       "      <td>1.000000</td>\n",
       "    </tr>\n",
       "    <tr>\n",
       "      <th>75%</th>\n",
       "      <td>26.000000</td>\n",
       "      <td>149.000000</td>\n",
       "      <td>11231.000000</td>\n",
       "      <td>169.000000</td>\n",
       "      <td>4.000000</td>\n",
       "    </tr>\n",
       "    <tr>\n",
       "      <th>max</th>\n",
       "      <td>354.000000</td>\n",
       "      <td>1317.000000</td>\n",
       "      <td>34463.000000</td>\n",
       "      <td>1401.000000</td>\n",
       "      <td>59.000000</td>\n",
       "    </tr>\n",
       "  </tbody>\n",
       "</table>\n",
       "</div>"
      ],
      "text/plain": [
       "         burglary  larceny_theft    population  property_crime  vehicle_theft\n",
       "count  329.000000     329.000000    329.000000      329.000000     329.000000\n",
       "mean    22.960486     121.006079   8481.495441      147.364742       3.398176\n",
       "std     37.590399     177.983676   8258.540029      213.732938       6.080466\n",
       "min      0.000000       0.000000     79.000000        0.000000       0.000000\n",
       "25%      3.000000      17.000000   2460.000000       21.000000       0.000000\n",
       "50%     10.000000      47.000000   5234.000000       61.000000       1.000000\n",
       "75%     26.000000     149.000000  11231.000000      169.000000       4.000000\n",
       "max    354.000000    1317.000000  34463.000000     1401.000000      59.000000"
      ]
     },
     "execution_count": 242,
     "metadata": {},
     "output_type": "execute_result"
    }
   ],
   "source": [
    "pcmodel_validation.describe()"
   ]
  },
  {
   "cell_type": "markdown",
   "metadata": {},
   "source": [
    "## Cross-Validation"
   ]
  },
  {
   "cell_type": "code",
   "execution_count": 243,
   "metadata": {
    "scrolled": false
   },
   "outputs": [
    {
     "name": "stdout",
     "output_type": "stream",
     "text": [
      "                            OLS Regression Results                            \n",
      "==============================================================================\n",
      "Dep. Variable:         property_crime   R-squared:                       1.000\n",
      "Model:                            OLS   Adj. R-squared:                  1.000\n",
      "Method:                 Least Squares   F-statistic:                 1.137e+30\n",
      "Date:                Sun, 25 Feb 2018   Prob (F-statistic):               0.00\n",
      "Time:                        22:42:24   Log-Likelihood:                 7141.2\n",
      "No. Observations:                 274   AIC:                        -1.427e+04\n",
      "Df Residuals:                     269   BIC:                        -1.425e+04\n",
      "Df Model:                           4                                         \n",
      "Covariance Type:            nonrobust                                         \n",
      "=================================================================================\n",
      "                    coef    std err          t      P>|t|      [0.025      0.975]\n",
      "---------------------------------------------------------------------------------\n",
      "Intercept      1.304e-13   1.15e-13      1.134      0.258   -9.59e-14    3.57e-13\n",
      "burglary          1.0000   5.31e-15   1.88e+14      0.000       1.000       1.000\n",
      "larceny_theft     1.0000   1.02e-15   9.78e+14      0.000       1.000       1.000\n",
      "population      1.52e-16   1.89e-17      8.032      0.000    1.15e-16    1.89e-16\n",
      "vehicle_theft     1.0000   2.29e-14   4.36e+13      0.000       1.000       1.000\n",
      "==============================================================================\n",
      "Omnibus:                       45.044   Durbin-Watson:                   0.650\n",
      "Prob(Omnibus):                  0.000   Jarque-Bera (JB):               62.156\n",
      "Skew:                          -1.128   Prob(JB):                     3.18e-14\n",
      "Kurtosis:                       3.592   Cond. No.                     1.39e+04\n",
      "==============================================================================\n",
      "\n",
      "Warnings:\n",
      "[1] Standard Errors assume that the covariance matrix of the errors is correctly specified.\n",
      "[2] The condition number is large, 1.39e+04. This might indicate that there are\n",
      "strong multicollinearity or other numerical problems.\n"
     ]
    }
   ],
   "source": [
    "lfv = 'property_crime ~ burglary + larceny_theft + population + vehicle_theft'\n",
    "lmv = smf.ols(formula=lfv, data=pcmodel_validation).fit()\n",
    "print(lm3.summary())"
   ]
  },
  {
   "cell_type": "code",
   "execution_count": 245,
   "metadata": {},
   "outputs": [
    {
     "name": "stdout",
     "output_type": "stream",
     "text": [
      "Mean Accuracy & Confidence Interval: 100.00% (+/- 0.00%).\n"
     ]
    }
   ],
   "source": [
    "pcmodel_validation = pcmodel_validation.dropna()\n",
    "X_test = pcmodel_validation[['burglary','larceny_theft','population','vehicle_theft']]\n",
    "y_test = pcmodel_validation['property_crime']\n",
    "lr = linear_model.LinearRegression()\n",
    "predicted = cross_val_predict(lr, X_test, y_test, cv=10)\n",
    "scores = cross_val_score(lr, X_test, y_test)*100\n",
    "print(\"Mean Accuracy & Confidence Interval: {:.2f}% (+/- {:.2f}%).\".format(scores.mean(), scores.std()))"
   ]
  },
  {
   "cell_type": "markdown",
   "metadata": {},
   "source": [
    "**The overall model is more valuable than the intercept-only fit, all of the features are statistically significant, and the R^2 is stable.**"
   ]
  }
 ],
 "metadata": {
  "kernelspec": {
   "display_name": "Python 3",
   "language": "python",
   "name": "python3"
  },
  "language_info": {
   "codemirror_mode": {
    "name": "ipython",
    "version": 3
   },
   "file_extension": ".py",
   "mimetype": "text/x-python",
   "name": "python",
   "nbconvert_exporter": "python",
   "pygments_lexer": "ipython3",
   "version": "3.6.4"
  },
  "toc": {
   "nav_menu": {},
   "number_sections": true,
   "sideBar": true,
   "skip_h1_title": false,
   "title_cell": "Table of Contents",
   "title_sidebar": "Contents",
   "toc_cell": false,
   "toc_position": {
    "height": "calc(100% - 180px)",
    "left": "10px",
    "top": "150px",
    "width": "320px"
   },
   "toc_section_display": "block",
   "toc_window_display": true
  }
 },
 "nbformat": 4,
 "nbformat_minor": 2
}
