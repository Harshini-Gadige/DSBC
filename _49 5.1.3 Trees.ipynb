{
 "cells": [
  {
   "cell_type": "markdown",
   "metadata": {},
   "source": [
    "# Tree Implementation"
   ]
  },
  {
   "cell_type": "code",
   "execution_count": 65,
   "metadata": {
    "collapsed": true
   },
   "outputs": [],
   "source": [
    "class Node:\n",
    "    def __init__(self, val):\n",
    "        self.left = None\n",
    "        self.right = None\n",
    "        self.val = val"
   ]
  },
  {
   "cell_type": "code",
   "execution_count": 66,
   "metadata": {
    "collapsed": true
   },
   "outputs": [],
   "source": [
    "a = root = Node(100)\n",
    "\n",
    "b = root.left = Node(95)\n",
    "c = root.right = Node(90)\n",
    "\n",
    "d = root.left.left = Node(85)\n",
    "e = root.left.right = Node(75)\n",
    "\n",
    "f = root.right.left = Node(80)\n",
    "g = root.right.right = Node(70)\n",
    "\n",
    "h = root.left.left.left = Node(65)\n",
    "i = root.left.left.right = Node(55)\n",
    "\n",
    "j = root.left.right.left = Node(45)\n",
    "k = root.left.right.right = Node(35)\n",
    "\n",
    "l = root.right.left.left = Node(60)\n",
    "m = root.right.left.right = Node(50)\n",
    "\n",
    "n = root.right.right.left = Node(40)\n",
    "o = root.right.right.right = Node(30)"
   ]
  },
  {
   "cell_type": "markdown",
   "metadata": {},
   "source": [
    "# Breadth-First Traversal"
   ]
  },
  {
   "cell_type": "code",
   "execution_count": 67,
   "metadata": {
    "collapsed": true
   },
   "outputs": [],
   "source": [
    "#I haven't the foggiest idea how to implement this. Is there a Python utility I'm supposed to be using?\n",
    "#Also, how do I visualize the tree?"
   ]
  },
  {
   "cell_type": "code",
   "execution_count": 68,
   "metadata": {
    "collapsed": false
   },
   "outputs": [
    {
     "name": "stdout",
     "output_type": "stream",
     "text": [
      "100\n",
      "95\n",
      "90\n",
      "85\n",
      "75\n",
      "80\n",
      "70\n",
      "65\n",
      "55\n",
      "45\n",
      "35\n",
      "60\n",
      "50\n",
      "40\n",
      "30\n"
     ]
    }
   ],
   "source": [
    "tree = [a, b, c, d, e, f, g, h, i, j, k, l, m, n, o]\n",
    "\n",
    "for num in range(len(tree)):\n",
    "    print(tree[num].val)"
   ]
  }
 ],
 "metadata": {
  "kernelspec": {
   "display_name": "Python 3",
   "language": "python",
   "name": "python3"
  },
  "language_info": {
   "codemirror_mode": {
    "name": "ipython",
    "version": 3
   },
   "file_extension": ".py",
   "mimetype": "text/x-python",
   "name": "python",
   "nbconvert_exporter": "python",
   "pygments_lexer": "ipython3",
   "version": "3.6.0"
  },
  "toc": {
   "nav_menu": {},
   "number_sections": true,
   "sideBar": true,
   "skip_h1_title": false,
   "toc_cell": false,
   "toc_position": {},
   "toc_section_display": "block",
   "toc_window_display": false
  }
 },
 "nbformat": 4,
 "nbformat_minor": 2
}
